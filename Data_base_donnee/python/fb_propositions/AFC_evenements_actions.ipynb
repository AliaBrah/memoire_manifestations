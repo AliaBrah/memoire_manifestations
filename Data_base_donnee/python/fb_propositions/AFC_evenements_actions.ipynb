{
 "cells": [
  {
   "cell_type": "markdown",
   "metadata": {},
   "source": [
    "# Exploration de typologie d'événements\n",
    "\n",
    "Exploration en fonction du pays, de la date et de la classification\n",
    "\n",
    "À noter que au vu des effectifs les statistiques ne sont pas significatives (test du Chi-2 impossible)\n"
   ]
  },
  {
   "cell_type": "code",
   "execution_count": 1,
   "metadata": {},
   "outputs": [],
   "source": [
    "import pandas as pd\n",
    "import sqlite3 as sql\n",
    "import numpy as np\n",
    "\n",
    "import matplotlib.pyplot as plt\n",
    "import plotly.express as px\n",
    "import seaborn as sns\n",
    "\n",
    "import scipy.stats as stats"
   ]
  },
  {
   "cell_type": "code",
   "execution_count": 2,
   "metadata": {},
   "outputs": [],
   "source": [
    "### Define the path to the file (a string in a variable 'db_file')\n",
    "# if the data directory label is at the same level as the notebook,\n",
    "# then the path is 'data/astronomers_import.db'\n",
    "db_file_address = '../../../Data_base_donnee/Base_donnee/cycle_manifestation.db'"
   ]
  },
  {
   "cell_type": "code",
   "execution_count": 3,
   "metadata": {},
   "outputs": [],
   "source": [
    "### This ist the query that produces the data to be analysed.\n",
    "# It has to be adapted to each use case\n",
    "q2 = \"\"\"\n",
    "SELECT e.pk_evenement, e.nom, e.\"type\" type_even, \n",
    "CASE\n",
    "\twhen e.\"type\" like 'manif%'\t\n",
    "\tthen 'manif'\n",
    "\twhen e.\"type\" = 'meeting'\n",
    "\tthen 'meeting'\n",
    "\telse 'autre'\n",
    "END as classif,\n",
    "e.date as date_debut, e.date as date_fin, l.pays \n",
    "FROM evenement e \n",
    "JOIN lieu l \n",
    "ON e.fk_lieu_debut = l.pk_lieu;  \n",
    "\"\"\""
   ]
  },
  {
   "cell_type": "code",
   "execution_count": 4,
   "metadata": {},
   "outputs": [
    {
     "name": "stdout",
     "output_type": "stream",
     "text": [
      "   pk_evenement                                                nom  \\\n",
      "0             1             manifestation des ouvrier.ère.s de Lip   \n",
      "1             2      meeting en solidarité aux travailleurs de Lip   \n",
      "2             3             manifestation des ouvrier.ère.s de Lip   \n",
      "3             4             manifestation des ouvrier.ère.s de Lip   \n",
      "4             5  regroupement devant le consulat suisse des ouv...   \n",
      "\n",
      "                                     type_even  classif  date_debut  \\\n",
      "0                         manifestation de rue    manif  1973-05-18   \n",
      "1                                      meeting  meeting  1973-05-25   \n",
      "2                         manifestation de rue    manif  1973-05-18   \n",
      "3                         manifestation de rue    manif  1973-05-18   \n",
      "4  regroupement de rue /manifestation statique    autre  1973-05-18   \n",
      "\n",
      "     date_fin    pays  \n",
      "0  1973-05-18  Suisse  \n",
      "1  1973-05-25  Suisse  \n",
      "2  1973-05-18  France  \n",
      "3  1973-05-18  France  \n",
      "4  1973-05-18  France  \n"
     ]
    }
   ],
   "source": [
    "###Connection to the SQLite database of your repository\n",
    "try:\n",
    "    cn = sql.connect(db_file_address)    \n",
    "except Exception as e:\n",
    "    # if the connection does not work\n",
    "    # an error message is raised\n",
    "    print(e)    \n",
    "\n",
    "### This instruction executes the query \n",
    "# then closes the connection to the database \n",
    "q2_df= pd.read_sql_query(q2, cn)\n",
    "cn.close()\n",
    "# Inspect the first lines\n",
    "print(q2_df.head())"
   ]
  },
  {
   "cell_type": "code",
   "execution_count": 5,
   "metadata": {},
   "outputs": [
    {
     "data": {
      "text/html": [
       "<div>\n",
       "<style scoped>\n",
       "    .dataframe tbody tr th:only-of-type {\n",
       "        vertical-align: middle;\n",
       "    }\n",
       "\n",
       "    .dataframe tbody tr th {\n",
       "        vertical-align: top;\n",
       "    }\n",
       "\n",
       "    .dataframe thead th {\n",
       "        text-align: right;\n",
       "    }\n",
       "</style>\n",
       "<table border=\"1\" class=\"dataframe\">\n",
       "  <thead>\n",
       "    <tr style=\"text-align: right;\">\n",
       "      <th></th>\n",
       "      <th>date_debut</th>\n",
       "      <th>pays</th>\n",
       "      <th>classif</th>\n",
       "      <th>effectif</th>\n",
       "      <th>p_c</th>\n",
       "    </tr>\n",
       "  </thead>\n",
       "  <tbody>\n",
       "    <tr>\n",
       "      <th>0</th>\n",
       "      <td>1973-05-10</td>\n",
       "      <td>France</td>\n",
       "      <td>autre</td>\n",
       "      <td>1</td>\n",
       "      <td>France_autre</td>\n",
       "    </tr>\n",
       "    <tr>\n",
       "      <th>1</th>\n",
       "      <td>1973-05-18</td>\n",
       "      <td>France</td>\n",
       "      <td>autre</td>\n",
       "      <td>1</td>\n",
       "      <td>France_autre</td>\n",
       "    </tr>\n",
       "    <tr>\n",
       "      <th>2</th>\n",
       "      <td>1973-05-18</td>\n",
       "      <td>France</td>\n",
       "      <td>manif</td>\n",
       "      <td>2</td>\n",
       "      <td>France_manif</td>\n",
       "    </tr>\n",
       "    <tr>\n",
       "      <th>3</th>\n",
       "      <td>1973-05-18</td>\n",
       "      <td>Suisse</td>\n",
       "      <td>manif</td>\n",
       "      <td>1</td>\n",
       "      <td>Suisse_manif</td>\n",
       "    </tr>\n",
       "    <tr>\n",
       "      <th>4</th>\n",
       "      <td>1973-05-24</td>\n",
       "      <td>France</td>\n",
       "      <td>manif</td>\n",
       "      <td>1</td>\n",
       "      <td>France_manif</td>\n",
       "    </tr>\n",
       "  </tbody>\n",
       "</table>\n",
       "</div>"
      ],
      "text/plain": [
       "   date_debut    pays classif  effectif           p_c\n",
       "0  1973-05-10  France   autre         1  France_autre\n",
       "1  1973-05-18  France   autre         1  France_autre\n",
       "2  1973-05-18  France   manif         2  France_manif\n",
       "3  1973-05-18  Suisse   manif         1  Suisse_manif\n",
       "4  1973-05-24  France   manif         1  France_manif"
      ]
     },
     "execution_count": 5,
     "metadata": {},
     "output_type": "execute_result"
    }
   ],
   "source": [
    "### Regrouper par date et pays, compter\n",
    "g_q2 = q2_df[['date_debut', 'pays', 'classif']].groupby(by=['date_debut', 'pays', 'classif']).size().to_frame('effectif').reset_index()\n",
    "\n",
    "g_q2['p_c'] = g_q2.apply( lambda x : x['pays'] +'_'+ x['classif'], axis=1)\n",
    "\n",
    "g_q2.head()\n"
   ]
  },
  {
   "cell_type": "code",
   "execution_count": 6,
   "metadata": {},
   "outputs": [
    {
     "data": {
      "application/vnd.plotly.v1+json": {
       "config": {
        "plotlyServerURL": "https://plot.ly"
       },
       "data": [
        {
         "customdata": [
          [
           1
          ],
          [
           1
          ],
          [
           1
          ],
          [
           1
          ],
          [
           1
          ],
          [
           1
          ],
          [
           1
          ],
          [
           1
          ],
          [
           1
          ],
          [
           1
          ],
          [
           1
          ]
         ],
         "hovertemplate": "classif=autre<br>date_debut=%{x}<br>value=%{y}<br>effectif=%{customdata[0]}<extra></extra>",
         "legendgroup": "autre",
         "marker": {
          "color": "#1F77B4",
          "size": [
           1,
           1,
           1,
           1,
           1,
           1,
           1,
           1,
           1,
           1,
           1
          ],
          "sizemode": "area",
          "sizeref": 0.008888888888888889,
          "symbol": "circle"
         },
         "mode": "markers",
         "name": "autre",
         "orientation": "v",
         "showlegend": true,
         "type": "scatter",
         "x": [
          "1973-05-10",
          "1973-05-18",
          "1973-10-12",
          "1973-05-29",
          "1973-06-10",
          "1973-06-12",
          "1973-08-14",
          "1973-08-17",
          "1973-10-25",
          "1973-05-28",
          "1973-10-19"
         ],
         "xaxis": "x",
         "y": [
          "France_autre",
          "France_autre",
          "France_autre",
          "France_autre",
          "France_autre",
          "France_autre",
          "France_autre",
          "Suisse_autre",
          "Suisse_autre",
          "Suisse_autre",
          "Suisse_autre"
         ],
         "yaxis": "y"
        },
        {
         "customdata": [
          [
           2
          ],
          [
           1
          ],
          [
           1
          ],
          [
           1
          ],
          [
           1
          ],
          [
           1
          ],
          [
           1
          ],
          [
           1
          ],
          [
           1
          ]
         ],
         "hovertemplate": "classif=manif<br>date_debut=%{x}<br>value=%{y}<br>effectif=%{customdata[0]}<extra></extra>",
         "legendgroup": "manif",
         "marker": {
          "color": "#FF7F0E",
          "size": [
           2,
           1,
           1,
           1,
           1,
           1,
           1,
           1,
           1
          ],
          "sizemode": "area",
          "sizeref": 0.008888888888888889,
          "symbol": "circle"
         },
         "mode": "markers",
         "name": "manif",
         "orientation": "v",
         "showlegend": true,
         "type": "scatter",
         "x": [
          "1973-05-18",
          "1973-05-24",
          "1973-09-29",
          "1973-05-29",
          "1973-06-15",
          "1973-08-14",
          "1973-08-18",
          "1973-05-18",
          "1973-06-23"
         ],
         "xaxis": "x",
         "y": [
          "France_manif",
          "France_manif",
          "France_manif",
          "France_manif",
          "France_manif",
          "France_manif",
          "Suisse_manif",
          "Suisse_manif",
          "Suisse_manif"
         ],
         "yaxis": "y"
        },
        {
         "customdata": [
          [
           1
          ],
          [
           1
          ],
          [
           1
          ],
          [
           1
          ],
          [
           2
          ],
          [
           1
          ],
          [
           1
          ],
          [
           1
          ],
          [
           1
          ],
          [
           1
          ],
          [
           1
          ],
          [
           1
          ]
         ],
         "hovertemplate": "classif=meeting<br>date_debut=%{x}<br>value=%{y}<br>effectif=%{customdata[0]}<extra></extra>",
         "legendgroup": "meeting",
         "marker": {
          "color": "#2CA02C",
          "size": [
           1,
           1,
           1,
           1,
           2,
           1,
           1,
           1,
           1,
           1,
           1,
           1
          ],
          "sizemode": "area",
          "sizeref": 0.008888888888888889,
          "symbol": "circle"
         },
         "mode": "markers",
         "name": "meeting",
         "orientation": "v",
         "showlegend": true,
         "type": "scatter",
         "x": [
          "1973-06-13",
          "1973-06-23",
          "1973-06-27",
          "1973-06-21",
          "1973-06-20",
          "1973-08-16",
          "1973-08-22",
          "1973-08-23",
          "1973-08-24",
          "1973-08-31",
          "1973-09-05",
          "1973-05-25"
         ],
         "xaxis": "x",
         "y": [
          "France_meeting",
          "Suisse_meeting",
          "Suisse_meeting",
          "Suisse_meeting",
          "Suisse_meeting",
          "Suisse_meeting",
          "Suisse_meeting",
          "Suisse_meeting",
          "Suisse_meeting",
          "Suisse_meeting",
          "Suisse_meeting",
          "Suisse_meeting"
         ],
         "yaxis": "y"
        }
       ],
       "layout": {
        "autosize": false,
        "font": {
         "color": "Black",
         "size": 14
        },
        "height": 300,
        "legend": {
         "itemsizing": "constant",
         "title": {
          "text": "classif"
         },
         "tracegroupgap": 0
        },
        "margin": {
         "t": 60
        },
        "template": {
         "data": {
          "bar": [
           {
            "error_x": {
             "color": "#2a3f5f"
            },
            "error_y": {
             "color": "#2a3f5f"
            },
            "marker": {
             "line": {
              "color": "#E5ECF6",
              "width": 0.5
             },
             "pattern": {
              "fillmode": "overlay",
              "size": 10,
              "solidity": 0.2
             }
            },
            "type": "bar"
           }
          ],
          "barpolar": [
           {
            "marker": {
             "line": {
              "color": "#E5ECF6",
              "width": 0.5
             },
             "pattern": {
              "fillmode": "overlay",
              "size": 10,
              "solidity": 0.2
             }
            },
            "type": "barpolar"
           }
          ],
          "carpet": [
           {
            "aaxis": {
             "endlinecolor": "#2a3f5f",
             "gridcolor": "white",
             "linecolor": "white",
             "minorgridcolor": "white",
             "startlinecolor": "#2a3f5f"
            },
            "baxis": {
             "endlinecolor": "#2a3f5f",
             "gridcolor": "white",
             "linecolor": "white",
             "minorgridcolor": "white",
             "startlinecolor": "#2a3f5f"
            },
            "type": "carpet"
           }
          ],
          "choropleth": [
           {
            "colorbar": {
             "outlinewidth": 0,
             "ticks": ""
            },
            "type": "choropleth"
           }
          ],
          "contour": [
           {
            "colorbar": {
             "outlinewidth": 0,
             "ticks": ""
            },
            "colorscale": [
             [
              0,
              "#0d0887"
             ],
             [
              0.1111111111111111,
              "#46039f"
             ],
             [
              0.2222222222222222,
              "#7201a8"
             ],
             [
              0.3333333333333333,
              "#9c179e"
             ],
             [
              0.4444444444444444,
              "#bd3786"
             ],
             [
              0.5555555555555556,
              "#d8576b"
             ],
             [
              0.6666666666666666,
              "#ed7953"
             ],
             [
              0.7777777777777778,
              "#fb9f3a"
             ],
             [
              0.8888888888888888,
              "#fdca26"
             ],
             [
              1,
              "#f0f921"
             ]
            ],
            "type": "contour"
           }
          ],
          "contourcarpet": [
           {
            "colorbar": {
             "outlinewidth": 0,
             "ticks": ""
            },
            "type": "contourcarpet"
           }
          ],
          "heatmap": [
           {
            "colorbar": {
             "outlinewidth": 0,
             "ticks": ""
            },
            "colorscale": [
             [
              0,
              "#0d0887"
             ],
             [
              0.1111111111111111,
              "#46039f"
             ],
             [
              0.2222222222222222,
              "#7201a8"
             ],
             [
              0.3333333333333333,
              "#9c179e"
             ],
             [
              0.4444444444444444,
              "#bd3786"
             ],
             [
              0.5555555555555556,
              "#d8576b"
             ],
             [
              0.6666666666666666,
              "#ed7953"
             ],
             [
              0.7777777777777778,
              "#fb9f3a"
             ],
             [
              0.8888888888888888,
              "#fdca26"
             ],
             [
              1,
              "#f0f921"
             ]
            ],
            "type": "heatmap"
           }
          ],
          "heatmapgl": [
           {
            "colorbar": {
             "outlinewidth": 0,
             "ticks": ""
            },
            "colorscale": [
             [
              0,
              "#0d0887"
             ],
             [
              0.1111111111111111,
              "#46039f"
             ],
             [
              0.2222222222222222,
              "#7201a8"
             ],
             [
              0.3333333333333333,
              "#9c179e"
             ],
             [
              0.4444444444444444,
              "#bd3786"
             ],
             [
              0.5555555555555556,
              "#d8576b"
             ],
             [
              0.6666666666666666,
              "#ed7953"
             ],
             [
              0.7777777777777778,
              "#fb9f3a"
             ],
             [
              0.8888888888888888,
              "#fdca26"
             ],
             [
              1,
              "#f0f921"
             ]
            ],
            "type": "heatmapgl"
           }
          ],
          "histogram": [
           {
            "marker": {
             "pattern": {
              "fillmode": "overlay",
              "size": 10,
              "solidity": 0.2
             }
            },
            "type": "histogram"
           }
          ],
          "histogram2d": [
           {
            "colorbar": {
             "outlinewidth": 0,
             "ticks": ""
            },
            "colorscale": [
             [
              0,
              "#0d0887"
             ],
             [
              0.1111111111111111,
              "#46039f"
             ],
             [
              0.2222222222222222,
              "#7201a8"
             ],
             [
              0.3333333333333333,
              "#9c179e"
             ],
             [
              0.4444444444444444,
              "#bd3786"
             ],
             [
              0.5555555555555556,
              "#d8576b"
             ],
             [
              0.6666666666666666,
              "#ed7953"
             ],
             [
              0.7777777777777778,
              "#fb9f3a"
             ],
             [
              0.8888888888888888,
              "#fdca26"
             ],
             [
              1,
              "#f0f921"
             ]
            ],
            "type": "histogram2d"
           }
          ],
          "histogram2dcontour": [
           {
            "colorbar": {
             "outlinewidth": 0,
             "ticks": ""
            },
            "colorscale": [
             [
              0,
              "#0d0887"
             ],
             [
              0.1111111111111111,
              "#46039f"
             ],
             [
              0.2222222222222222,
              "#7201a8"
             ],
             [
              0.3333333333333333,
              "#9c179e"
             ],
             [
              0.4444444444444444,
              "#bd3786"
             ],
             [
              0.5555555555555556,
              "#d8576b"
             ],
             [
              0.6666666666666666,
              "#ed7953"
             ],
             [
              0.7777777777777778,
              "#fb9f3a"
             ],
             [
              0.8888888888888888,
              "#fdca26"
             ],
             [
              1,
              "#f0f921"
             ]
            ],
            "type": "histogram2dcontour"
           }
          ],
          "mesh3d": [
           {
            "colorbar": {
             "outlinewidth": 0,
             "ticks": ""
            },
            "type": "mesh3d"
           }
          ],
          "parcoords": [
           {
            "line": {
             "colorbar": {
              "outlinewidth": 0,
              "ticks": ""
             }
            },
            "type": "parcoords"
           }
          ],
          "pie": [
           {
            "automargin": true,
            "type": "pie"
           }
          ],
          "scatter": [
           {
            "fillpattern": {
             "fillmode": "overlay",
             "size": 10,
             "solidity": 0.2
            },
            "type": "scatter"
           }
          ],
          "scatter3d": [
           {
            "line": {
             "colorbar": {
              "outlinewidth": 0,
              "ticks": ""
             }
            },
            "marker": {
             "colorbar": {
              "outlinewidth": 0,
              "ticks": ""
             }
            },
            "type": "scatter3d"
           }
          ],
          "scattercarpet": [
           {
            "marker": {
             "colorbar": {
              "outlinewidth": 0,
              "ticks": ""
             }
            },
            "type": "scattercarpet"
           }
          ],
          "scattergeo": [
           {
            "marker": {
             "colorbar": {
              "outlinewidth": 0,
              "ticks": ""
             }
            },
            "type": "scattergeo"
           }
          ],
          "scattergl": [
           {
            "marker": {
             "colorbar": {
              "outlinewidth": 0,
              "ticks": ""
             }
            },
            "type": "scattergl"
           }
          ],
          "scattermapbox": [
           {
            "marker": {
             "colorbar": {
              "outlinewidth": 0,
              "ticks": ""
             }
            },
            "type": "scattermapbox"
           }
          ],
          "scatterpolar": [
           {
            "marker": {
             "colorbar": {
              "outlinewidth": 0,
              "ticks": ""
             }
            },
            "type": "scatterpolar"
           }
          ],
          "scatterpolargl": [
           {
            "marker": {
             "colorbar": {
              "outlinewidth": 0,
              "ticks": ""
             }
            },
            "type": "scatterpolargl"
           }
          ],
          "scatterternary": [
           {
            "marker": {
             "colorbar": {
              "outlinewidth": 0,
              "ticks": ""
             }
            },
            "type": "scatterternary"
           }
          ],
          "surface": [
           {
            "colorbar": {
             "outlinewidth": 0,
             "ticks": ""
            },
            "colorscale": [
             [
              0,
              "#0d0887"
             ],
             [
              0.1111111111111111,
              "#46039f"
             ],
             [
              0.2222222222222222,
              "#7201a8"
             ],
             [
              0.3333333333333333,
              "#9c179e"
             ],
             [
              0.4444444444444444,
              "#bd3786"
             ],
             [
              0.5555555555555556,
              "#d8576b"
             ],
             [
              0.6666666666666666,
              "#ed7953"
             ],
             [
              0.7777777777777778,
              "#fb9f3a"
             ],
             [
              0.8888888888888888,
              "#fdca26"
             ],
             [
              1,
              "#f0f921"
             ]
            ],
            "type": "surface"
           }
          ],
          "table": [
           {
            "cells": {
             "fill": {
              "color": "#EBF0F8"
             },
             "line": {
              "color": "white"
             }
            },
            "header": {
             "fill": {
              "color": "#C8D4E3"
             },
             "line": {
              "color": "white"
             }
            },
            "type": "table"
           }
          ]
         },
         "layout": {
          "annotationdefaults": {
           "arrowcolor": "#2a3f5f",
           "arrowhead": 0,
           "arrowwidth": 1
          },
          "autotypenumbers": "strict",
          "coloraxis": {
           "colorbar": {
            "outlinewidth": 0,
            "ticks": ""
           }
          },
          "colorscale": {
           "diverging": [
            [
             0,
             "#8e0152"
            ],
            [
             0.1,
             "#c51b7d"
            ],
            [
             0.2,
             "#de77ae"
            ],
            [
             0.3,
             "#f1b6da"
            ],
            [
             0.4,
             "#fde0ef"
            ],
            [
             0.5,
             "#f7f7f7"
            ],
            [
             0.6,
             "#e6f5d0"
            ],
            [
             0.7,
             "#b8e186"
            ],
            [
             0.8,
             "#7fbc41"
            ],
            [
             0.9,
             "#4d9221"
            ],
            [
             1,
             "#276419"
            ]
           ],
           "sequential": [
            [
             0,
             "#0d0887"
            ],
            [
             0.1111111111111111,
             "#46039f"
            ],
            [
             0.2222222222222222,
             "#7201a8"
            ],
            [
             0.3333333333333333,
             "#9c179e"
            ],
            [
             0.4444444444444444,
             "#bd3786"
            ],
            [
             0.5555555555555556,
             "#d8576b"
            ],
            [
             0.6666666666666666,
             "#ed7953"
            ],
            [
             0.7777777777777778,
             "#fb9f3a"
            ],
            [
             0.8888888888888888,
             "#fdca26"
            ],
            [
             1,
             "#f0f921"
            ]
           ],
           "sequentialminus": [
            [
             0,
             "#0d0887"
            ],
            [
             0.1111111111111111,
             "#46039f"
            ],
            [
             0.2222222222222222,
             "#7201a8"
            ],
            [
             0.3333333333333333,
             "#9c179e"
            ],
            [
             0.4444444444444444,
             "#bd3786"
            ],
            [
             0.5555555555555556,
             "#d8576b"
            ],
            [
             0.6666666666666666,
             "#ed7953"
            ],
            [
             0.7777777777777778,
             "#fb9f3a"
            ],
            [
             0.8888888888888888,
             "#fdca26"
            ],
            [
             1,
             "#f0f921"
            ]
           ]
          },
          "colorway": [
           "#636efa",
           "#EF553B",
           "#00cc96",
           "#ab63fa",
           "#FFA15A",
           "#19d3f3",
           "#FF6692",
           "#B6E880",
           "#FF97FF",
           "#FECB52"
          ],
          "font": {
           "color": "#2a3f5f"
          },
          "geo": {
           "bgcolor": "white",
           "lakecolor": "white",
           "landcolor": "#E5ECF6",
           "showlakes": true,
           "showland": true,
           "subunitcolor": "white"
          },
          "hoverlabel": {
           "align": "left"
          },
          "hovermode": "closest",
          "mapbox": {
           "style": "light"
          },
          "paper_bgcolor": "white",
          "plot_bgcolor": "#E5ECF6",
          "polar": {
           "angularaxis": {
            "gridcolor": "white",
            "linecolor": "white",
            "ticks": ""
           },
           "bgcolor": "#E5ECF6",
           "radialaxis": {
            "gridcolor": "white",
            "linecolor": "white",
            "ticks": ""
           }
          },
          "scene": {
           "xaxis": {
            "backgroundcolor": "#E5ECF6",
            "gridcolor": "white",
            "gridwidth": 2,
            "linecolor": "white",
            "showbackground": true,
            "ticks": "",
            "zerolinecolor": "white"
           },
           "yaxis": {
            "backgroundcolor": "#E5ECF6",
            "gridcolor": "white",
            "gridwidth": 2,
            "linecolor": "white",
            "showbackground": true,
            "ticks": "",
            "zerolinecolor": "white"
           },
           "zaxis": {
            "backgroundcolor": "#E5ECF6",
            "gridcolor": "white",
            "gridwidth": 2,
            "linecolor": "white",
            "showbackground": true,
            "ticks": "",
            "zerolinecolor": "white"
           }
          },
          "shapedefaults": {
           "line": {
            "color": "#2a3f5f"
           }
          },
          "ternary": {
           "aaxis": {
            "gridcolor": "white",
            "linecolor": "white",
            "ticks": ""
           },
           "baxis": {
            "gridcolor": "white",
            "linecolor": "white",
            "ticks": ""
           },
           "bgcolor": "#E5ECF6",
           "caxis": {
            "gridcolor": "white",
            "linecolor": "white",
            "ticks": ""
           }
          },
          "title": {
           "x": 0.05
          },
          "xaxis": {
           "automargin": true,
           "gridcolor": "white",
           "linecolor": "white",
           "ticks": "",
           "title": {
            "standoff": 15
           },
           "zerolinecolor": "white",
           "zerolinewidth": 2
          },
          "yaxis": {
           "automargin": true,
           "gridcolor": "white",
           "linecolor": "white",
           "ticks": "",
           "title": {
            "standoff": 15
           },
           "zerolinecolor": "white",
           "zerolinewidth": 2
          }
         }
        },
        "width": 1500,
        "xaxis": {
         "anchor": "y",
         "domain": [
          0,
          1
         ],
         "tickangle": -75,
         "tickfont": {
          "color": "DarkBlue",
          "size": 9
         },
         "tickmode": "array",
         "ticktext": [
          "1973-05-10",
          "1973-05-18",
          "1973-05-18",
          "1973-05-18",
          "1973-05-24",
          "1973-05-25",
          "1973-05-28",
          "1973-05-29",
          "1973-05-29",
          "1973-06-10",
          "1973-06-12",
          "1973-06-13",
          "1973-06-15",
          "1973-06-20",
          "1973-06-21",
          "1973-06-23",
          "1973-06-23",
          "1973-06-27",
          "1973-08-14",
          "1973-08-14",
          "1973-08-16",
          "1973-08-17",
          "1973-08-18",
          "1973-08-22",
          "1973-08-23",
          "1973-08-24",
          "1973-08-31",
          "1973-09-05",
          "1973-09-29",
          "1973-10-12",
          "1973-10-19",
          "1973-10-25"
         ],
         "tickvals": [
          "1973-05-10",
          "1973-05-18",
          "1973-05-18",
          "1973-05-18",
          "1973-05-24",
          "1973-05-25",
          "1973-05-28",
          "1973-05-29",
          "1973-05-29",
          "1973-06-10",
          "1973-06-12",
          "1973-06-13",
          "1973-06-15",
          "1973-06-20",
          "1973-06-21",
          "1973-06-23",
          "1973-06-23",
          "1973-06-27",
          "1973-08-14",
          "1973-08-14",
          "1973-08-16",
          "1973-08-17",
          "1973-08-18",
          "1973-08-22",
          "1973-08-23",
          "1973-08-24",
          "1973-08-31",
          "1973-09-05",
          "1973-09-29",
          "1973-10-12",
          "1973-10-19",
          "1973-10-25"
         ],
         "title": {
          "text": "Date"
         }
        },
        "yaxis": {
         "anchor": "x",
         "categoryarray": [
          "France_manif",
          "France_meeting",
          "France_autre",
          "Suisse_manif",
          "Suisse_meeting",
          "Suisse_autre"
         ],
         "categoryorder": "array",
         "domain": [
          0,
          1
         ],
         "title": {
          "text": "Pays / Type"
         }
        }
       }
      }
     },
     "metadata": {},
     "output_type": "display_data"
    }
   ],
   "source": [
    "### Use a different plotting library: Plotly Express\n",
    "# Observe the default behaviour of the library\n",
    "\n",
    "\n",
    "fig = px.scatter(g_q2.sort_values(by='p_c'), x='date_debut', y=['p_c'], size='effectif', size_max=15, color='classif', hover_data=['date_debut', 'effectif'],\n",
    "             color_discrete_sequence=px.colors.qualitative.D3)\n",
    "\n",
    "\n",
    "fig.update_layout(\n",
    "    autosize=False,\n",
    "    width=1500,\n",
    "    height=300,\n",
    "    xaxis_title=\"Date\", yaxis_title=\"Pays / Type\",\n",
    "    font=dict(\n",
    "        size=14,  # Set the font size here\n",
    "        color=\"Black\"\n",
    "    )\n",
    ")\n",
    "\n",
    "xtk = g_q2.date_debut.to_list()\n",
    "\n",
    "fig.update_xaxes(tickangle=-75,\n",
    "                 tickmode = 'array',\n",
    "                 tickvals = xtk,\n",
    "                 ticktext= xtk,\n",
    "    tickfont=dict(\n",
    "                       size=9,  # Set the font size here\n",
    "        color=\"DarkBlue\"\n",
    "    ))\n",
    "\n",
    "fig.update_yaxes(categoryorder='array', categoryarray= ['France_manif', 'France_meeting', 'France_autre', 'Suisse_manif', 'Suisse_meeting', 'Suisse_autre'])\n",
    "#fig.write_image(\"pictures/evenements_par_pays_type_et_date.jpg\")\n",
    "fig.show()"
   ]
  },
  {
   "cell_type": "markdown",
   "metadata": {},
   "source": [
    "## Regroupement par période et analyse factorielle"
   ]
  },
  {
   "cell_type": "code",
   "execution_count": 7,
   "metadata": {},
   "outputs": [
    {
     "name": "stdout",
     "output_type": "stream",
     "text": [
      "p3_septembre\n"
     ]
    }
   ],
   "source": [
    "### Regroupement en 4 périodes\n",
    "# \n",
    "def cut_spec_4 (val):\n",
    "    output_val = ''\n",
    "    if val < '1973-06-01':\n",
    "        output_val = 'p1_mai'\n",
    "    elif val < '1973-08-01':\n",
    "        output_val = 'p2_juin'\n",
    "    elif val < '1973-09-20':\n",
    "        output_val = 'p3_septembre'\n",
    "    else:\n",
    "        output_val = 'p4_octobre'\n",
    "\n",
    "    return output_val    \n",
    "\n",
    "print(cut_spec_4('1973-09-05'))        "
   ]
  },
  {
   "cell_type": "code",
   "execution_count": 8,
   "metadata": {},
   "outputs": [
    {
     "name": "stdout",
     "output_type": "stream",
     "text": [
      "septembre_octobre\n"
     ]
    }
   ],
   "source": [
    "### Regroupement en deux périodes\n",
    "\n",
    "def cut_spec_2 (val):\n",
    "    output_val = ''\n",
    "    if val < '1973-08-01':\n",
    "        output_val = 'mai_juin'\n",
    "    else:\n",
    "        output_val = 'septembre_octobre'\n",
    "\n",
    "    return output_val    \n",
    "\n",
    "print(cut_spec_2('1973-09-05'))        "
   ]
  },
  {
   "cell_type": "code",
   "execution_count": 9,
   "metadata": {},
   "outputs": [
    {
     "data": {
      "text/plain": [
       "(   date_debut    pays classif  effectif           p_c periode\n",
       " 0  1973-05-10  France   autre         1  France_autre  p1_mai\n",
       " 1  1973-05-18  France   autre         1  France_autre  p1_mai\n",
       " 2  1973-05-18  France   manif         2  France_manif  p1_mai,\n",
       "     date_debut    pays classif  effectif           p_c     periode\n",
       " 29  1973-10-12  France   autre         1  France_autre  p4_octobre\n",
       " 30  1973-10-19  Suisse   autre         1  Suisse_autre  p4_octobre\n",
       " 31  1973-10-25  Suisse   autre         1  Suisse_autre  p4_octobre)"
      ]
     },
     "execution_count": 9,
     "metadata": {},
     "output_type": "execute_result"
    }
   ],
   "source": [
    "### fonction pd.cut\n",
    "# This separation of periods isn't finegraded enough to make phenomena visible\n",
    "\n",
    "\n",
    "## changer la fonction pour tester différents résultats\n",
    "g_q2['periode'] = g_q2['date_debut'].apply(lambda x : cut_spec_4(x))\n",
    "\n",
    "# Inspection\n",
    "g_q2.head(3),g_q2.tail(3)"
   ]
  },
  {
   "cell_type": "code",
   "execution_count": 10,
   "metadata": {},
   "outputs": [
    {
     "data": {
      "text/plain": [
       "periode\n",
       "p1_mai           9\n",
       "p2_juin          9\n",
       "p3_septembre    10\n",
       "p4_octobre       4\n",
       "dtype: int64"
      ]
     },
     "execution_count": 10,
     "metadata": {},
     "output_type": "execute_result"
    }
   ],
   "source": [
    "### group and count births\n",
    "pg_q2 = g_q2[['periode']].groupby(by='periode', observed=False).size()\n",
    "pg_q2"
   ]
  },
  {
   "cell_type": "code",
   "execution_count": 11,
   "metadata": {},
   "outputs": [
    {
     "data": {
      "image/png": "[encoded data removed]",
      "text/plain": [
       "<Figure size 600x200 with 1 Axes>"
      ]
     },
     "metadata": {},
     "output_type": "display_data"
    }
   ],
   "source": [
    "### group and count births\n",
    "f = pg_q2.sort_index(ascending=False).plot(kind='barh', figsize=(6,2))\n"
   ]
  },
  {
   "cell_type": "code",
   "execution_count": 22,
   "metadata": {},
   "outputs": [
    {
     "data": {
      "text/html": [
       "<div>\n",
       "<style scoped>\n",
       "    .dataframe tbody tr th:only-of-type {\n",
       "        vertical-align: middle;\n",
       "    }\n",
       "\n",
       "    .dataframe tbody tr th {\n",
       "        vertical-align: top;\n",
       "    }\n",
       "\n",
       "    .dataframe thead th {\n",
       "        text-align: right;\n",
       "    }\n",
       "</style>\n",
       "<table border=\"1\" class=\"dataframe\">\n",
       "  <thead>\n",
       "    <tr style=\"text-align: right;\">\n",
       "      <th>p_c</th>\n",
       "      <th>France_autre</th>\n",
       "      <th>France_manif</th>\n",
       "      <th>France_meeting</th>\n",
       "      <th>Suisse_autre</th>\n",
       "      <th>Suisse_manif</th>\n",
       "      <th>Suisse_meeting</th>\n",
       "      <th>Total</th>\n",
       "    </tr>\n",
       "    <tr>\n",
       "      <th>periode</th>\n",
       "      <th></th>\n",
       "      <th></th>\n",
       "      <th></th>\n",
       "      <th></th>\n",
       "      <th></th>\n",
       "      <th></th>\n",
       "      <th></th>\n",
       "    </tr>\n",
       "  </thead>\n",
       "  <tbody>\n",
       "    <tr>\n",
       "      <th>p1_mai</th>\n",
       "      <td>3</td>\n",
       "      <td>3</td>\n",
       "      <td>0</td>\n",
       "      <td>1</td>\n",
       "      <td>1</td>\n",
       "      <td>1</td>\n",
       "      <td>9</td>\n",
       "    </tr>\n",
       "    <tr>\n",
       "      <th>p2_juin</th>\n",
       "      <td>2</td>\n",
       "      <td>1</td>\n",
       "      <td>1</td>\n",
       "      <td>0</td>\n",
       "      <td>1</td>\n",
       "      <td>4</td>\n",
       "      <td>9</td>\n",
       "    </tr>\n",
       "    <tr>\n",
       "      <th>p3_septembre</th>\n",
       "      <td>1</td>\n",
       "      <td>1</td>\n",
       "      <td>0</td>\n",
       "      <td>1</td>\n",
       "      <td>1</td>\n",
       "      <td>6</td>\n",
       "      <td>10</td>\n",
       "    </tr>\n",
       "    <tr>\n",
       "      <th>p4_octobre</th>\n",
       "      <td>1</td>\n",
       "      <td>1</td>\n",
       "      <td>0</td>\n",
       "      <td>2</td>\n",
       "      <td>0</td>\n",
       "      <td>0</td>\n",
       "      <td>4</td>\n",
       "    </tr>\n",
       "    <tr>\n",
       "      <th>Total</th>\n",
       "      <td>7</td>\n",
       "      <td>6</td>\n",
       "      <td>1</td>\n",
       "      <td>4</td>\n",
       "      <td>3</td>\n",
       "      <td>11</td>\n",
       "      <td>32</td>\n",
       "    </tr>\n",
       "  </tbody>\n",
       "</table>\n",
       "</div>"
      ],
      "text/plain": [
       "p_c           France_autre  France_manif  France_meeting  Suisse_autre  \\\n",
       "periode                                                                  \n",
       "p1_mai                   3             3               0             1   \n",
       "p2_juin                  2             1               1             0   \n",
       "p3_septembre             1             1               0             1   \n",
       "p4_octobre               1             1               0             2   \n",
       "Total                    7             6               1             4   \n",
       "\n",
       "p_c           Suisse_manif  Suisse_meeting  Total  \n",
       "periode                                            \n",
       "p1_mai                   1               1      9  \n",
       "p2_juin                  1               4      9  \n",
       "p3_septembre             1               6     10  \n",
       "p4_octobre               0               0      4  \n",
       "Total                    3              11     32  "
      ]
     },
     "execution_count": 22,
     "metadata": {},
     "output_type": "execute_result"
    }
   ],
   "source": [
    "## Calculate the pivot table \n",
    "\n",
    "X = 'periode'\n",
    "Y = 'p_c'\n",
    "\n",
    "ddf = g_q2[[X,Y]].pivot_table(index=X,columns=Y,aggfunc=len,margins=True,margins_name=\"Total\").fillna(0).astype(int)\n",
    "ddf"
   ]
  },
  {
   "cell_type": "code",
   "execution_count": 23,
   "metadata": {},
   "outputs": [
    {
     "name": "stdout",
     "output_type": "stream",
     "text": [
      "32\n"
     ]
    }
   ],
   "source": [
    "## Total number\n",
    "n = ddf.iloc[-1,-1]\n",
    "print(n)"
   ]
  },
  {
   "cell_type": "code",
   "execution_count": 24,
   "metadata": {},
   "outputs": [],
   "source": [
    "## Pivot table without borders\n",
    "D = ddf.iloc[:-1,:-1].copy(deep=True)\n",
    "# D"
   ]
  },
  {
   "cell_type": "code",
   "execution_count": 25,
   "metadata": {},
   "outputs": [
    {
     "name": "stdout",
     "output_type": "stream",
     "text": [
      "Chi2 : 16.644925444925445 , dof : 15\n",
      "p-value : 0.34052995351424725\n",
      "phi2 = inertie (variance totale) : 0.5201539201539201\n",
      "Cramer:  0.4163948127094125\n"
     ]
    }
   ],
   "source": [
    "### Valeurs produites par une fonction\n",
    "statistic, p, dof, expected = stats.chi2_contingency(D)\n",
    "\n",
    "print('Chi2 :', statistic, ', dof :',dof)\n",
    "print('p-value :', p)\n",
    "\n",
    "\n",
    "print('phi2 = inertie (variance totale) :', statistic/n)\n",
    "\n",
    "\n",
    "### Tableau à l'indépendance\n",
    "dfe = round(pd.DataFrame(expected),1)\n",
    "\n",
    "### Coéfficient de Cramer\n",
    "# https://docs.scipy.org/doc/scipy/reference/generated/scipy.stats.contingency.association.html\n",
    "\n",
    "vc = stats.contingency.association(D, method='cramer')\n",
    "print('Cramer: ', vc)"
   ]
  },
  {
   "cell_type": "code",
   "execution_count": 26,
   "metadata": {},
   "outputs": [
    {
     "data": {
      "image/png": "[encoded data removed]",
      "text/plain": [
       "<Figure size 800x800 with 2 Axes>"
      ]
     },
     "metadata": {},
     "output_type": "display_data"
    }
   ],
   "source": [
    "### Résidus pondérés (avec le signe)\n",
    "### Doc. :\n",
    "#   Rakotomalala, p.240\n",
    "residus_ponderes = (round((D.values-dfe)/np.sqrt(dfe),2))\n",
    "residus_ponderes.columns= D.columns\n",
    "residus_ponderes.index=D.index\n",
    "\n",
    "residus_ponderes_T = residus_ponderes.transpose()\n",
    "\n",
    "fig, ax = plt.subplots(figsize=(8,8))\n",
    "# Sample figsize in inches\n",
    "g = sns.heatmap(residus_ponderes_T, annot=residus_ponderes_T, \n",
    "                cmap=\"coolwarm\", linewidths=.5, ax=ax,\n",
    "                annot_kws={\"fontsize\":10})\n",
    "labels = residus_ponderes_T.index\n",
    "cols = residus_ponderes_T.columns\n",
    "c = g.set_xticklabels(cols, rotation=20, size=9)\n",
    "p = g.set_yticklabels(labels, rotation=60, size=9)\n",
    "\n",
    "plt.savefig('pictures/pays_classif_periode.jpg')\n",
    "\n",
    "plt.show()\n"
   ]
  },
  {
   "cell_type": "code",
   "execution_count": null,
   "metadata": {},
   "outputs": [],
   "source": []
  },
  {
   "cell_type": "code",
   "execution_count": 17,
   "metadata": {},
   "outputs": [
    {
     "data": {
      "text/html": [
       "<div>\n",
       "<style scoped>\n",
       "    .dataframe tbody tr th:only-of-type {\n",
       "        vertical-align: middle;\n",
       "    }\n",
       "\n",
       "    .dataframe tbody tr th {\n",
       "        vertical-align: top;\n",
       "    }\n",
       "\n",
       "    .dataframe thead th {\n",
       "        text-align: right;\n",
       "    }\n",
       "</style>\n",
       "<table border=\"1\" class=\"dataframe\">\n",
       "  <thead>\n",
       "    <tr style=\"text-align: right;\">\n",
       "      <th>classif</th>\n",
       "      <th>autre</th>\n",
       "      <th>manif</th>\n",
       "      <th>meeting</th>\n",
       "      <th>Total</th>\n",
       "    </tr>\n",
       "    <tr>\n",
       "      <th>pays</th>\n",
       "      <th></th>\n",
       "      <th></th>\n",
       "      <th></th>\n",
       "      <th></th>\n",
       "    </tr>\n",
       "  </thead>\n",
       "  <tbody>\n",
       "    <tr>\n",
       "      <th>France</th>\n",
       "      <td>7</td>\n",
       "      <td>6</td>\n",
       "      <td>1</td>\n",
       "      <td>14</td>\n",
       "    </tr>\n",
       "    <tr>\n",
       "      <th>Suisse</th>\n",
       "      <td>4</td>\n",
       "      <td>3</td>\n",
       "      <td>11</td>\n",
       "      <td>18</td>\n",
       "    </tr>\n",
       "    <tr>\n",
       "      <th>Total</th>\n",
       "      <td>11</td>\n",
       "      <td>9</td>\n",
       "      <td>12</td>\n",
       "      <td>32</td>\n",
       "    </tr>\n",
       "  </tbody>\n",
       "</table>\n",
       "</div>"
      ],
      "text/plain": [
       "classif  autre  manif  meeting  Total\n",
       "pays                                 \n",
       "France       7      6        1     14\n",
       "Suisse       4      3       11     18\n",
       "Total       11      9       12     32"
      ]
     },
     "execution_count": 17,
     "metadata": {},
     "output_type": "execute_result"
    }
   ],
   "source": [
    "## Calculate the pivot table \n",
    "\n",
    "X = 'pays'\n",
    "Y = 'classif'\n",
    "\n",
    "ddf = g_q2[[X,Y]].pivot_table(index=X,columns=Y,aggfunc=len,margins=True,margins_name=\"Total\").fillna(0).astype(int)\n",
    "ddf"
   ]
  },
  {
   "cell_type": "code",
   "execution_count": 18,
   "metadata": {},
   "outputs": [
    {
     "name": "stdout",
     "output_type": "stream",
     "text": [
      "32\n"
     ]
    }
   ],
   "source": [
    "## Total number\n",
    "n = ddf.iloc[-1,-1]\n",
    "print(n)"
   ]
  },
  {
   "cell_type": "code",
   "execution_count": 19,
   "metadata": {},
   "outputs": [],
   "source": [
    "## Pivot table without borders\n",
    "D = ddf.iloc[:-1,:-1].copy(deep=True)\n",
    "# D"
   ]
  },
  {
   "cell_type": "code",
   "execution_count": 20,
   "metadata": {},
   "outputs": [
    {
     "name": "stdout",
     "output_type": "stream",
     "text": [
      "Chi2 : 9.804713804713804 , dof : 2\n",
      "p-value : 0.007429052868336513\n",
      "phi2 = inertie (variance totale) : 0.3063973063973064\n",
      "Cramer:  0.5535316670230407\n"
     ]
    }
   ],
   "source": [
    "### Valeurs produites par une fonction\n",
    "statistic, p, dof, expected = stats.chi2_contingency(D)\n",
    "\n",
    "print('Chi2 :', statistic, ', dof :',dof)\n",
    "print('p-value :', p)\n",
    "\n",
    "\n",
    "print('phi2 = inertie (variance totale) :', statistic/n)\n",
    "\n",
    "\n",
    "### Tableau à l'indépendance\n",
    "dfe = round(pd.DataFrame(expected),1)\n",
    "\n",
    "### Coéfficient de Cramer\n",
    "# https://docs.scipy.org/doc/scipy/reference/generated/scipy.stats.contingency.association.html\n",
    "\n",
    "vc = stats.contingency.association(D, method='cramer')\n",
    "print('Cramer: ', vc)"
   ]
  },
  {
   "cell_type": "code",
   "execution_count": 21,
   "metadata": {},
   "outputs": [
    {
     "data": {
      "image/png": "[encoded data removed]",
      "text/plain": [
       "<Figure size 600x600 with 2 Axes>"
      ]
     },
     "metadata": {},
     "output_type": "display_data"
    }
   ],
   "source": [
    "### Résidus pondérés (avec le signe)\n",
    "### Doc. :\n",
    "#   Rakotomalala, p.240\n",
    "residus_ponderes = (round((D.values-dfe)/np.sqrt(dfe),2))\n",
    "residus_ponderes.columns= D.columns\n",
    "residus_ponderes.index=D.index\n",
    "\n",
    "residus_ponderes_T = residus_ponderes.transpose()\n",
    "\n",
    "fig, ax = plt.subplots(figsize=(6,6))\n",
    "# Sample figsize in inches\n",
    "g = sns.heatmap(residus_ponderes_T, annot=residus_ponderes_T, \n",
    "                cmap=\"coolwarm\", linewidths=.5, ax=ax,\n",
    "                annot_kws={\"fontsize\":10})\n",
    "labels = residus_ponderes_T.index\n",
    "cols = residus_ponderes_T.columns\n",
    "c = g.set_xticklabels(cols, rotation=20, size=10)\n",
    "p = g.set_yticklabels(labels, rotation=60, size=10)\n",
    "\n",
    "plt.savefig('pictures/pays_classif.png')\n",
    "\n",
    "plt.show()\n"
   ]
  },
  {
   "cell_type": "code",
   "execution_count": null,
   "metadata": {},
   "outputs": [],
   "source": []
  }
 ],
 "metadata": {
  "kernelspec": {
   "display_name": "py310_fanalysis",
   "language": "python",
   "name": "py310_fanalysis"
  },
  "language_info": {
   "codemirror_mode": {
    "name": "ipython",
    "version": 3
   },
   "file_extension": ".py",
   "mimetype": "text/x-python",
   "name": "python",
   "nbconvert_exporter": "python",
   "pygments_lexer": "ipython3",
   "version": "3.10.13"
  }
 },
 "nbformat": 4,
 "nbformat_minor": 2
}
