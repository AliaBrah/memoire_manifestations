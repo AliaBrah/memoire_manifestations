{
 "cells": [
  {
   "cell_type": "markdown",
   "id": "802ee8fd-6a73-45d3-baa5-c6089b5ace40",
   "metadata": {},
   "source": [
    "# Analyse de réseaux"
   ]
  },
  {
   "cell_type": "markdown",
   "id": "22039412-79dd-47db-aece-1c04911a3326",
   "metadata": {},
   "source": [
    "import pandas as pd\n",
    "#import networkx as nx\n",
    "#import matplotlib.pyplot as plt\n",
    "\n",
    "# Charger le fichier CSV\n",
    "df = pd.read_csv('analyse_memoire_reseaux.csv')\n",
    "\n",
    "# Créer un graphe\n",
    "G = nx.Graph()\n",
    "for _, row in df.iterrows():\n",
    "    G.add_edge(row['pk_evenement'], row['nom'])\n",
    "\n",
    "# Calculer le degré des nœuds\n",
    "degrees = dict(G.degree())\n",
    "\n",
    "# Ajuster la taille des nœuds\n",
    "node_sizes = [degrees[node] * 100 for node in G.nodes()]\n",
    "\n",
    "# Visualiser le réseau\n",
    "plt.figure(figsize=(10,15))\n",
    "pos =  nx.spring_layout(G)\n",
    "\n",
    "nx.draw(G, pos, with_labels=False, node_size=node_sizes, node_color='lightblue', edge_color='gray', alpha=0.7)\n",
    "# Ajouter des labels pour les nœuds les plus connectés\n",
    "threshold = 5 # Modifier ce seuil si nécessaire\n",
    "labels = {node: node for node, degree in degrees.items() if degree > threshold}\n",
    "nx.draw_networkx_labels(G, pos, labels=labels, font_size=10)\n",
    "\n",
    "plt.title(\"Réseau des Organisations et Événements\")\n",
    "#plt.show()"
   ]
  },
  {
   "cell_type": "markdown",
   "id": "956f33f0-4530-43ba-8069-9c99a9f930a4",
   "metadata": {},
   "source": [
    "degrees = dict(G.degree())\n",
    "\n",
    "# Afficher les nœuds et leurs degrés\n",
    "for node, degree in degrees.items():\n",
    "    print(f\"{node}: {degree}\")"
   ]
  },
  {
   "cell_type": "code",
   "execution_count": 28,
   "id": "9bd02c09-699d-434c-aeea-9848c1218752",
   "metadata": {},
   "outputs": [],
   "source": [
    "import plotly.graph_objects as go"
   ]
  },
  {
   "cell_type": "code",
   "execution_count": 31,
   "id": "71e61101-9d05-4326-bacf-f1ed0c127f98",
   "metadata": {},
   "outputs": [],
   "source": [
    "# Créer un graphe\n",
    "G = nx.Graph()\n",
    "for _, row in df.iterrows():\n",
    "    G.add_edge(row['nom'], row['pk_evenement'])\n",
    "\n",
    "# Obtenir les positions des nœuds\n",
    "pos = nx.spring_layout(G)\n",
    "x_nodes = [pos[node][0] for node in G.nodes()]\n",
    "y_nodes = [pos[node][1] for node in G.nodes()]\n",
    "edges = G.edges()\n",
    "\n",
    "# Créer les lignes des arêtes\n",
    "x_edges = []\n",
    "y_edges = []\n",
    "for edge in edges:\n",
    "    x_edges.append(pos[edge[0]][0])\n",
    "    x_edges.append(pos[edge[1]][0])\n",
    "    x_edges.append(None)  # Pour interrompre les lignes\n",
    "    y_edges.append(pos[edge[0]][1])\n",
    "    y_edges.append(pos[edge[1]][1])\n",
    "    y_edges.append(None)\n",
    "\n",
    "# Créer le graphique\n",
    "fig = go.Figure()\n",
    "fig.add_trace(go.Scatter(x=x_edges, y=y_edges, mode='lines', line=dict(width=0.5, color='gray'), hoverinfo='none'))\n",
    "fig.add_trace(go.Scatter(x=x_nodes, y=y_nodes, mode='markers+text', text=list(G.nodes()), textposition=\"top center\",\n",
    "                         marker=dict(size=10, color='lightblue', line=dict(width=2, color='DarkSlateGrey')),\n",
    "                         hoverinfo='text'))\n",
    "\n",
    "# Configurer la mise en page\n",
    "fig.update_layout(showlegend=False, hovermode='closest', title=\"Réseau des Organisations et Événements\")\n",
    "# Sauvegarder le fichier HTML\n",
    "# fig.write_html('analyse_resaux.html')  # Utilise write_html"
   ]
  },
  {
   "cell_type": "markdown",
   "id": "a96a6615-51de-46a8-84e5-628da27b3add",
   "metadata": {},
   "source": [
    "# Créer un graphe\n",
    "#G = nx.Graph()\n",
    "for _, row in df.iterrows():\n",
    "    G.add_edge(row['pk_evenement'], row['nom'])\n",
    "\n",
    "# Calculer le degré des nœuds\n",
    "degrees = dict(G.degree())\n",
    "\n",
    "# Ajuster la taille des nœuds\n",
    "node_sizes = [degrees[node] * 100 for node in G.nodes()]  # Taille proportionnelle au degré\n",
    "\n",
    "# Positionnement des nœuds\n",
    "pos = nx.spring_layout(G, k=1)\n",
    "\n",
    "# Récupérer les labels pour les nœuds ayant un degré > 30\n",
    "labels = {i[0]: i[0] for i in G.nodes(data=True) if degrees[i[0]] > 10}\n",
    "\n",
    "# Déterminer la couleur des nœuds\n",
    "node_color = [degrees[node] for node in G.nodes()]\n",
    "\n",
    "# Visualiser le réseau\n",
    "plt.figure(figsize=(25, 25))\n",
    "\n",
    "# Dessiner les nœuds\n",
    "nx.draw_networkx_nodes(G, pos, node_size=node_sizes, node_color=node_color, \n",
    "                         cmap='viridis', alpha=0.8)  # Utilise 'viridis' pour une meilleure visibilité\n",
    "# Dessiner les arêtes\n",
    "nx.draw_networkx_edges(G, pos, alpha=0.2, edge_color='black')\n",
    "\n",
    "# Dessiner les labels\n",
    "#nx.draw_networkx_labels(G, pos, labels=labels, alpha=0.9, font_size=12)\n",
    "\n",
    "# Sauvegarder la figure\n",
    "# f = 'pictures/universites.svg'\n",
    "# plt.savefig(f, format=\"svg\")\n",
    "plt.title(\"Réseau des Organisations et Événements\")\n",
    "#plt.show()"
   ]
  },
  {
   "cell_type": "code",
   "execution_count": null,
   "id": "a781dc50-b62e-4965-97b4-db364fdb42f9",
   "metadata": {},
   "outputs": [],
   "source": []
  }
 ],
 "metadata": {
  "kernelspec": {
   "display_name": "py311_data_analysis",
   "language": "python",
   "name": "py311_data_analysis"
  },
  "language_info": {
   "codemirror_mode": {
    "name": "ipython",
    "version": 3
   },
   "file_extension": ".py",
   "mimetype": "text/x-python",
   "name": "python",
   "nbconvert_exporter": "python",
   "pygments_lexer": "ipython3",
   "version": "3.11.8"
  }
 },
 "nbformat": 4,
 "nbformat_minor": 5
}
