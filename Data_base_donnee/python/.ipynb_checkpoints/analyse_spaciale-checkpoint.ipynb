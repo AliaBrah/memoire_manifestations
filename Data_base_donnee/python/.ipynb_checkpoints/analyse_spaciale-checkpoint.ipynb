{
 "cells": [
  {
   "cell_type": "markdown",
   "id": "3af133ff-c7b2-4301-a744-5d4256f20606",
   "metadata": {},
   "source": [
    "# Visualisation dans le temps et l'espace des manifestations"
   ]
  },
  {
   "cell_type": "code",
   "execution_count": 1,
   "id": "b4f0f48f-4b80-4401-8bb0-62427885fab9",
   "metadata": {},
   "outputs": [],
   "source": [
    "import pandas as pd\n",
    "import folium\n",
    "from folium.plugins import MarkerCluster\n",
    "\n",
    "# Charger le fichier CSV\n",
    "df = pd.read_csv('analyse_spatiale_essai.csv')"
   ]
  },
  {
   "cell_type": "code",
   "execution_count": null,
   "id": "5f1d59fd-7d8e-4ce1-9083-de7bab3491db",
   "metadata": {},
   "outputs": [],
   "source": []
  }
 ],
 "metadata": {
  "kernelspec": {
   "display_name": "py311_data_analysis",
   "language": "python",
   "name": "py311_data_analysis"
  },
  "language_info": {
   "codemirror_mode": {
    "name": "ipython",
    "version": 3
   },
   "file_extension": ".py",
   "mimetype": "text/x-python",
   "name": "python",
   "nbconvert_exporter": "python",
   "pygments_lexer": "ipython3",
   "version": "3.11.8"
  }
 },
 "nbformat": 4,
 "nbformat_minor": 5
}
