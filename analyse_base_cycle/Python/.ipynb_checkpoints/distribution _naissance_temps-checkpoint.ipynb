{
 "cells": [
  {
   "cell_type": "markdown",
   "id": "f424d9fa-a2ca-43d1-9aec-241f290c24a2",
   "metadata": {},
   "source": [
    "# Distribution des effectif d'associations par événements"
   ]
  },
  {
   "cell_type": "code",
   "execution_count": 15,
   "id": "16464641-92ce-495e-91e0-9597fbd537ba",
   "metadata": {},
   "outputs": [],
   "source": [
    "import pandas as pd\n",
    "import matplotlib.pyplot as plt\n",
    "import numpy as np\n",
    "import scipy.stats as stats\n",
    "import seaborn as sns\n",
    "from fanalysis.ca import CA \n",
    "from fanalysis.mca import MCA\n",
    "# Importation du fichier csv qui se trouve dans le même dossier que le notebook\n",
    "data = pd.read_csv(\"analyse_memoire_essai.csv\")"
   ]
  },
  {
   "cell_type": "code",
   "execution_count": 16,
   "id": "26f17ef3-5f7f-42ee-b6cf-0d18017822c6",
   "metadata": {},
   "outputs": [
    {
     "data": {
      "text/html": [
       "<div>\n",
       "<style scoped>\n",
       "    .dataframe tbody tr th:only-of-type {\n",
       "        vertical-align: middle;\n",
       "    }\n",
       "\n",
       "    .dataframe tbody tr th {\n",
       "        vertical-align: top;\n",
       "    }\n",
       "\n",
       "    .dataframe thead th {\n",
       "        text-align: right;\n",
       "    }\n",
       "</style>\n",
       "<table border=\"1\" class=\"dataframe\">\n",
       "  <thead>\n",
       "    <tr style=\"text-align: right;\">\n",
       "      <th></th>\n",
       "      <th>pk_evenement</th>\n",
       "      <th>eff</th>\n",
       "      <th>date</th>\n",
       "    </tr>\n",
       "  </thead>\n",
       "  <tbody>\n",
       "    <tr>\n",
       "      <th>0</th>\n",
       "      <td>1</td>\n",
       "      <td>2</td>\n",
       "      <td>1973-05-18</td>\n",
       "    </tr>\n",
       "    <tr>\n",
       "      <th>1</th>\n",
       "      <td>7</td>\n",
       "      <td>3</td>\n",
       "      <td>1973-05-24</td>\n",
       "    </tr>\n",
       "    <tr>\n",
       "      <th>2</th>\n",
       "      <td>2</td>\n",
       "      <td>4</td>\n",
       "      <td>1973-05-25</td>\n",
       "    </tr>\n",
       "    <tr>\n",
       "      <th>3</th>\n",
       "      <td>6</td>\n",
       "      <td>2</td>\n",
       "      <td>1973-05-28</td>\n",
       "    </tr>\n",
       "    <tr>\n",
       "      <th>4</th>\n",
       "      <td>8</td>\n",
       "      <td>1</td>\n",
       "      <td>1973-05-29</td>\n",
       "    </tr>\n",
       "    <tr>\n",
       "      <th>5</th>\n",
       "      <td>9</td>\n",
       "      <td>1</td>\n",
       "      <td>1973-06-10</td>\n",
       "    </tr>\n",
       "    <tr>\n",
       "      <th>6</th>\n",
       "      <td>10</td>\n",
       "      <td>4</td>\n",
       "      <td>1973-06-12</td>\n",
       "    </tr>\n",
       "    <tr>\n",
       "      <th>7</th>\n",
       "      <td>11</td>\n",
       "      <td>3</td>\n",
       "      <td>1973-06-13</td>\n",
       "    </tr>\n",
       "    <tr>\n",
       "      <th>8</th>\n",
       "      <td>13</td>\n",
       "      <td>4</td>\n",
       "      <td>1973-06-20</td>\n",
       "    </tr>\n",
       "    <tr>\n",
       "      <th>9</th>\n",
       "      <td>14</td>\n",
       "      <td>3</td>\n",
       "      <td>1973-06-20</td>\n",
       "    </tr>\n",
       "    <tr>\n",
       "      <th>10</th>\n",
       "      <td>15</td>\n",
       "      <td>3</td>\n",
       "      <td>1973-06-21</td>\n",
       "    </tr>\n",
       "    <tr>\n",
       "      <th>11</th>\n",
       "      <td>16</td>\n",
       "      <td>11</td>\n",
       "      <td>1973-06-23</td>\n",
       "    </tr>\n",
       "    <tr>\n",
       "      <th>12</th>\n",
       "      <td>17</td>\n",
       "      <td>11</td>\n",
       "      <td>1973-06-23</td>\n",
       "    </tr>\n",
       "    <tr>\n",
       "      <th>13</th>\n",
       "      <td>18</td>\n",
       "      <td>3</td>\n",
       "      <td>1973-06-27</td>\n",
       "    </tr>\n",
       "    <tr>\n",
       "      <th>14</th>\n",
       "      <td>20</td>\n",
       "      <td>3</td>\n",
       "      <td>1973-08-14</td>\n",
       "    </tr>\n",
       "    <tr>\n",
       "      <th>15</th>\n",
       "      <td>21</td>\n",
       "      <td>7</td>\n",
       "      <td>1973-08-16</td>\n",
       "    </tr>\n",
       "    <tr>\n",
       "      <th>16</th>\n",
       "      <td>22</td>\n",
       "      <td>5</td>\n",
       "      <td>1973-08-17</td>\n",
       "    </tr>\n",
       "    <tr>\n",
       "      <th>17</th>\n",
       "      <td>23</td>\n",
       "      <td>5</td>\n",
       "      <td>1973-08-17</td>\n",
       "    </tr>\n",
       "    <tr>\n",
       "      <th>18</th>\n",
       "      <td>24</td>\n",
       "      <td>15</td>\n",
       "      <td>1973-08-18</td>\n",
       "    </tr>\n",
       "    <tr>\n",
       "      <th>19</th>\n",
       "      <td>25</td>\n",
       "      <td>4</td>\n",
       "      <td>1973-08-22</td>\n",
       "    </tr>\n",
       "    <tr>\n",
       "      <th>20</th>\n",
       "      <td>26</td>\n",
       "      <td>6</td>\n",
       "      <td>1973-08-23</td>\n",
       "    </tr>\n",
       "    <tr>\n",
       "      <th>21</th>\n",
       "      <td>27</td>\n",
       "      <td>2</td>\n",
       "      <td>1973-08-24</td>\n",
       "    </tr>\n",
       "    <tr>\n",
       "      <th>22</th>\n",
       "      <td>28</td>\n",
       "      <td>2</td>\n",
       "      <td>1973-08-31</td>\n",
       "    </tr>\n",
       "    <tr>\n",
       "      <th>23</th>\n",
       "      <td>29</td>\n",
       "      <td>4</td>\n",
       "      <td>1973-09-05</td>\n",
       "    </tr>\n",
       "    <tr>\n",
       "      <th>24</th>\n",
       "      <td>30</td>\n",
       "      <td>10</td>\n",
       "      <td>1973-09-29</td>\n",
       "    </tr>\n",
       "    <tr>\n",
       "      <th>25</th>\n",
       "      <td>32</td>\n",
       "      <td>1</td>\n",
       "      <td>1973-10-19</td>\n",
       "    </tr>\n",
       "    <tr>\n",
       "      <th>26</th>\n",
       "      <td>33</td>\n",
       "      <td>1</td>\n",
       "      <td>1973-10-25</td>\n",
       "    </tr>\n",
       "  </tbody>\n",
       "</table>\n",
       "</div>"
      ],
      "text/plain": [
       "    pk_evenement  eff        date\n",
       "0              1    2  1973-05-18\n",
       "1              7    3  1973-05-24\n",
       "2              2    4  1973-05-25\n",
       "3              6    2  1973-05-28\n",
       "4              8    1  1973-05-29\n",
       "5              9    1  1973-06-10\n",
       "6             10    4  1973-06-12\n",
       "7             11    3  1973-06-13\n",
       "8             13    4  1973-06-20\n",
       "9             14    3  1973-06-20\n",
       "10            15    3  1973-06-21\n",
       "11            16   11  1973-06-23\n",
       "12            17   11  1973-06-23\n",
       "13            18    3  1973-06-27\n",
       "14            20    3  1973-08-14\n",
       "15            21    7  1973-08-16\n",
       "16            22    5  1973-08-17\n",
       "17            23    5  1973-08-17\n",
       "18            24   15  1973-08-18\n",
       "19            25    4  1973-08-22\n",
       "20            26    6  1973-08-23\n",
       "21            27    2  1973-08-24\n",
       "22            28    2  1973-08-31\n",
       "23            29    4  1973-09-05\n",
       "24            30   10  1973-09-29\n",
       "25            32    1  1973-10-19\n",
       "26            33    1  1973-10-25"
      ]
     },
     "metadata": {},
     "output_type": "display_data"
    }
   ],
   "source": [
    "display(data)"
   ]
  },
  {
   "cell_type": "markdown",
   "id": "6ef0d476-80bd-4e53-9737-5e18a5f0324c",
   "metadata": {},
   "source": [
    "# Exploration des données\n"
   ]
  },
  {
   "cell_type": "code",
   "execution_count": 17,
   "id": "6314061a-8342-419a-a5c2-d113819de3f9",
   "metadata": {},
   "outputs": [
    {
     "name": "stdout",
     "output_type": "stream",
     "text": [
      "<class 'pandas.core.series.Series'>\n",
      "RangeIndex: 27 entries, 0 to 26\n",
      "Series name: date\n",
      "Non-Null Count  Dtype \n",
      "--------------  ----- \n",
      "27 non-null     object\n",
      "dtypes: object(1)\n",
      "memory usage: 348.0+ bytes\n"
     ]
    }
   ],
   "source": [
    "# l'année de naissance est déjà de type int donc pas besoin de changer le type de la donnée\n",
    "data[\"date\"].info()"
   ]
  },
  {
   "cell_type": "code",
   "execution_count": 18,
   "id": "e4b7fb80-8a67-4685-ae3d-ac3eba8403cc",
   "metadata": {},
   "outputs": [
    {
     "data": {
      "text/plain": [
       "pk_evenement     int64\n",
       "eff              int64\n",
       "date            object\n",
       "dtype: object"
      ]
     },
     "execution_count": 18,
     "metadata": {},
     "output_type": "execute_result"
    }
   ],
   "source": [
    "data.dtypes"
   ]
  },
  {
   "cell_type": "code",
   "execution_count": 19,
   "id": "c5114cb2-e375-47b8-9671-5f4aaa65c052",
   "metadata": {},
   "outputs": [
    {
     "data": {
      "text/plain": [
       "27"
      ]
     },
     "execution_count": 19,
     "metadata": {},
     "output_type": "execute_result"
    }
   ],
   "source": [
    "data[\"pk_evenement\"].count()"
   ]
  },
  {
   "cell_type": "code",
   "execution_count": 20,
   "id": "c192d02e-1275-45b0-859f-10aca7791f98",
   "metadata": {},
   "outputs": [],
   "source": [
    "### Créer une copie indépendante du DataFrame (attention aux copies de variables qui sont seulement des alias) \n",
    "cdf_p = data"
   ]
  },
  {
   "cell_type": "code",
   "execution_count": 21,
   "id": "4975814c-14c1-43e7-9bd2-b798d497fd30",
   "metadata": {},
   "outputs": [
    {
     "data": {
      "text/html": [
       "<div>\n",
       "<style scoped>\n",
       "    .dataframe tbody tr th:only-of-type {\n",
       "        vertical-align: middle;\n",
       "    }\n",
       "\n",
       "    .dataframe tbody tr th {\n",
       "        vertical-align: top;\n",
       "    }\n",
       "\n",
       "    .dataframe thead th {\n",
       "        text-align: right;\n",
       "    }\n",
       "</style>\n",
       "<table border=\"1\" class=\"dataframe\">\n",
       "  <thead>\n",
       "    <tr style=\"text-align: right;\">\n",
       "      <th></th>\n",
       "      <th>pk_evenement</th>\n",
       "      <th>eff</th>\n",
       "      <th>date</th>\n",
       "    </tr>\n",
       "  </thead>\n",
       "  <tbody>\n",
       "    <tr>\n",
       "      <th>0</th>\n",
       "      <td>1</td>\n",
       "      <td>2</td>\n",
       "      <td>1973-05-18</td>\n",
       "    </tr>\n",
       "    <tr>\n",
       "      <th>1</th>\n",
       "      <td>7</td>\n",
       "      <td>3</td>\n",
       "      <td>1973-05-24</td>\n",
       "    </tr>\n",
       "    <tr>\n",
       "      <th>2</th>\n",
       "      <td>2</td>\n",
       "      <td>4</td>\n",
       "      <td>1973-05-25</td>\n",
       "    </tr>\n",
       "  </tbody>\n",
       "</table>\n",
       "</div>"
      ],
      "text/plain": [
       "   pk_evenement  eff        date\n",
       "0             1    2  1973-05-18\n",
       "1             7    3  1973-05-24\n",
       "2             2    4  1973-05-25"
      ]
     },
     "execution_count": 21,
     "metadata": {},
     "output_type": "execute_result"
    }
   ],
   "source": [
    "cdf_p.head(3)"
   ]
  },
  {
   "cell_type": "code",
   "execution_count": 22,
   "id": "d0df7ddd-0f02-4878-a587-eac0bf7eef6e",
   "metadata": {},
   "outputs": [
    {
     "data": {
      "text/plain": [
       "('1973-05-18', '1973-10-25')"
      ]
     },
     "execution_count": 22,
     "metadata": {},
     "output_type": "execute_result"
    }
   ],
   "source": [
    "### Année minimale et maximale dans la population\n",
    "min(cdf_p['date']), max(cdf_p['date'])"
   ]
  },
  {
   "cell_type": "code",
   "execution_count": 23,
   "id": "35446748-c389-4c5f-a40e-f2260847c659",
   "metadata": {},
   "outputs": [
    {
     "name": "stdout",
     "output_type": "stream",
     "text": [
      "pk_evenement     int64\n",
      "eff              int64\n",
      "date            object\n",
      "dtype: object\n"
     ]
    }
   ],
   "source": [
    "# Afficher les types de colonnes avant la conversion\n",
    "print(cdf_p.dtypes)"
   ]
  },
  {
   "cell_type": "code",
   "execution_count": 24,
   "id": "16074253-094d-4e94-8706-38101809adb7",
   "metadata": {},
   "outputs": [],
   "source": [
    "cdf_p['date'] = pd.to_datetime(cdf_p['date'])"
   ]
  },
  {
   "cell_type": "code",
   "execution_count": 25,
   "id": "96c3e978-ff63-409a-ac0b-a2f33f433dff",
   "metadata": {},
   "outputs": [
    {
     "data": {
      "image/png": "[encoded data removed]",
      "text/plain": [
       "<Figure size 1800x900 with 1 Axes>"
      ]
     },
     "metadata": {},
     "output_type": "display_data"
    }
   ],
   "source": [
    "# Graphique des effectifs d'associations aux événements\n",
    "\n",
    "# Définir les colonnes\n",
    "x = cdf_p['date']  # Axe des x\n",
    "y = cdf_p['eff']  # Axe des y\n",
    "\n",
    "# Créer le diagramme en barres avec une couleur spécifique\n",
    "plt.figure(figsize=(18, 9))  # Ajuster la taille de la figure\n",
    "bars = plt.bar(x, y, color='skyblue')  # Change 'skyblue' par la couleur de ton choix\n",
    "\n",
    "plt.ylim(0, 17)\n",
    "\n",
    "# Ajouter des labels et un titre\n",
    "plt.xlabel('date')\n",
    "plt.ylabel('nombre d organisations présentes')\n",
    "plt.title('Effectif des organisations présentes aux différentes manifestations')\n",
    "\n",
    "# Afficher toutes les dates sur l'axe x, mais espacer\n",
    "plt.xticks(ticks=x, labels=x.dt.strftime('%Y-%m-%d'), rotation=45, ha='right')  # Étiquettes à droite\n",
    "\n",
    "# Ajouter les annotations sur les barres\n",
    "for bar in bars:\n",
    "    yval = bar.get_height()  # Récupérer la hauteur de la barre\n",
    "    plt.text(bar.get_x() + bar.get_width() / 2, yval + 0.5, int(yval), ha='center', va='bottom')\n",
    "    \n",
    "# Améliorer la mise en page\n",
    "plt.tight_layout()\n",
    "plt.show()\n"
   ]
  }
 ],
 "metadata": {
  "kernelspec": {
   "display_name": "py311_data_analysis",
   "language": "python",
   "name": "py311_data_analysis"
  },
  "language_info": {
   "codemirror_mode": {
    "name": "ipython",
    "version": 3
   },
   "file_extension": ".py",
   "mimetype": "text/x-python",
   "name": "python",
   "nbconvert_exporter": "python",
   "pygments_lexer": "ipython3",
   "version": "3.11.8"
  }
 },
 "nbformat": 4,
 "nbformat_minor": 5
}
