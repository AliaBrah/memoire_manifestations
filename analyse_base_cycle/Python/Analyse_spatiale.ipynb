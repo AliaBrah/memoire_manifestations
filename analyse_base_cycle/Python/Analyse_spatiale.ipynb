{
 "cells": [
  {
   "cell_type": "markdown",
   "id": "3af133ff-c7b2-4301-a744-5d4256f20606",
   "metadata": {},
   "source": [
    "# Visualisation spatiale du cycle de manifestations"
   ]
  },
  {
   "cell_type": "code",
   "execution_count": 58,
   "id": "b4f0f48f-4b80-4401-8bb0-62427885fab9",
   "metadata": {},
   "outputs": [],
   "source": [
    "import pandas as pd\n",
    "import folium\n",
    "from folium.plugins import MarkerCluster\n",
    "from folium.plugins import TimestampedGeoJson\n",
    "import pydeck as pdk\n",
    "# Charger le fichier CSV\n",
    "df = pd.read_csv('../CSV/analyse_spatiale.csv')"
   ]
  },
  {
   "cell_type": "code",
   "execution_count": 21,
   "id": "334b4e7b-0e7d-435b-a69b-9e7f31c211e5",
   "metadata": {},
   "outputs": [
    {
     "data": {
      "text/html": [
       "<div>\n",
       "<style scoped>\n",
       "    .dataframe tbody tr th:only-of-type {\n",
       "        vertical-align: middle;\n",
       "    }\n",
       "\n",
       "    .dataframe tbody tr th {\n",
       "        vertical-align: top;\n",
       "    }\n",
       "\n",
       "    .dataframe thead th {\n",
       "        text-align: right;\n",
       "    }\n",
       "</style>\n",
       "<table border=\"1\" class=\"dataframe\">\n",
       "  <thead>\n",
       "    <tr style=\"text-align: right;\">\n",
       "      <th></th>\n",
       "      <th>pk_evenement</th>\n",
       "      <th>nom_evenement</th>\n",
       "      <th>date</th>\n",
       "      <th>nombre_personnes</th>\n",
       "      <th>nom_lieu</th>\n",
       "      <th>ville</th>\n",
       "      <th>pays</th>\n",
       "      <th>latitude</th>\n",
       "      <th>longitude</th>\n",
       "    </tr>\n",
       "  </thead>\n",
       "  <tbody>\n",
       "    <tr>\n",
       "      <th>0</th>\n",
       "      <td>1</td>\n",
       "      <td>manifestation des ouvrier-ère-s de Lip</td>\n",
       "      <td>1973-05-18</td>\n",
       "      <td>200.0</td>\n",
       "      <td>Place du Port</td>\n",
       "      <td>Neuchâtel</td>\n",
       "      <td>Suisse</td>\n",
       "      <td>46.991880</td>\n",
       "      <td>6.934346</td>\n",
       "    </tr>\n",
       "    <tr>\n",
       "      <th>1</th>\n",
       "      <td>2</td>\n",
       "      <td>meeting en solidarité aux ouvrier-ère-s de Lip</td>\n",
       "      <td>1973-05-25</td>\n",
       "      <td>60.0</td>\n",
       "      <td>Cercle des Travailleurs</td>\n",
       "      <td>Neuchâtel</td>\n",
       "      <td>Suisse</td>\n",
       "      <td>46.993210</td>\n",
       "      <td>6.930432</td>\n",
       "    </tr>\n",
       "    <tr>\n",
       "      <th>2</th>\n",
       "      <td>3</td>\n",
       "      <td>manifestation des ouvrier-ère-s de Lip</td>\n",
       "      <td>1973-05-18</td>\n",
       "      <td>100.0</td>\n",
       "      <td>Morteau</td>\n",
       "      <td>Morteau</td>\n",
       "      <td>France</td>\n",
       "      <td>47.057687</td>\n",
       "      <td>6.603599</td>\n",
       "    </tr>\n",
       "  </tbody>\n",
       "</table>\n",
       "</div>"
      ],
      "text/plain": [
       "   pk_evenement                                   nom_evenement        date  \\\n",
       "0             1          manifestation des ouvrier-ère-s de Lip  1973-05-18   \n",
       "1             2  meeting en solidarité aux ouvrier-ère-s de Lip  1973-05-25   \n",
       "2             3          manifestation des ouvrier-ère-s de Lip  1973-05-18   \n",
       "\n",
       "   nombre_personnes                 nom_lieu      ville    pays   latitude  \\\n",
       "0             200.0            Place du Port  Neuchâtel  Suisse  46.991880   \n",
       "1              60.0  Cercle des Travailleurs  Neuchâtel  Suisse  46.993210   \n",
       "2             100.0                  Morteau    Morteau  France  47.057687   \n",
       "\n",
       "   longitude  \n",
       "0   6.934346  \n",
       "1   6.930432  \n",
       "2   6.603599  "
      ]
     },
     "execution_count": 21,
     "metadata": {},
     "output_type": "execute_result"
    }
   ],
   "source": [
    "df.head(3)"
   ]
  },
  {
   "cell_type": "code",
   "execution_count": 42,
   "id": "5f1d59fd-7d8e-4ce1-9083-de7bab3491db",
   "metadata": {},
   "outputs": [
    {
     "data": {
      "text/plain": [
       "pk_evenement          int64\n",
       "nom_evenement        object\n",
       "date                 object\n",
       "nombre_personnes    float64\n",
       "type                 object\n",
       "nom_lieu             object\n",
       "ville                object\n",
       "pays                 object\n",
       "latitude            float64\n",
       "longitude           float64\n",
       "dtype: object"
      ]
     },
     "execution_count": 42,
     "metadata": {},
     "output_type": "execute_result"
    }
   ],
   "source": [
    "df.dtypes"
   ]
  },
  {
   "cell_type": "code",
   "execution_count": 23,
   "id": "eeb4e745-d4ce-412c-8f54-8724349875a4",
   "metadata": {},
   "outputs": [],
   "source": [
    "## CODE carte évolutive\n",
    "# Convertir les colonnes de date\n",
    "df['date'] = pd.to_datetime(df['date'])"
   ]
  },
  {
   "cell_type": "code",
   "execution_count": 24,
   "id": "04aeb953-4fcd-4cfe-8148-18c7b32532cf",
   "metadata": {},
   "outputs": [
    {
     "data": {
      "text/plain": [
       "pk_evenement                 int64\n",
       "nom_evenement               object\n",
       "date                datetime64[ns]\n",
       "nombre_personnes           float64\n",
       "nom_lieu                    object\n",
       "ville                       object\n",
       "pays                        object\n",
       "latitude                   float64\n",
       "longitude                  float64\n",
       "dtype: object"
      ]
     },
     "execution_count": 24,
     "metadata": {},
     "output_type": "execute_result"
    }
   ],
   "source": [
    "df.dtypes"
   ]
  },
  {
   "cell_type": "code",
   "execution_count": 6,
   "id": "5fc0a4ff-dd93-4531-8778-c75e1efc9ba9",
   "metadata": {},
   "outputs": [
    {
     "name": "stdout",
     "output_type": "stream",
     "text": [
      "longitude    0\n",
      "latitude     0\n",
      "dtype: int64\n"
     ]
    }
   ],
   "source": [
    "## CODE carte statique.\n",
    "# vérification des données\n",
    "print(df[['longitude', 'latitude']].isnull().sum())\n",
    "# Créer une carte centrée sur l'Arc jurassien et la Suisse\n",
    "m = folium.Map(location=[46.8, 7.5], zoom_start=8)  # Coordonnées approximatives pour la Suisse\n",
    "# Créer un cluster de marqueurs\n",
    "marker_cluster = MarkerCluster().add_to(m)\n",
    "# Ajouter des marqueurs pour chaque événement \n",
    "for idx, row in df.iterrows():\n",
    "    folium.Marker(\n",
    "        location=[row['latitude'], row['longitude']],\n",
    "        popup=f\"{row['nom_evenement']}<br>Date: {row['date']}\",\n",
    "        icon=folium.Icon(color='blue')\n",
    "    ).add_to(marker_cluster)\n",
    "\n",
    "# Enregistrer la carte dans un fichier HTML\n",
    "m.save('carte_evenements.html')"
   ]
  },
  {
   "cell_type": "code",
   "execution_count": 60,
   "id": "ebbe5f20-ec86-463b-9a23-98f8209b31f7",
   "metadata": {},
   "outputs": [
    {
     "name": "stdout",
     "output_type": "stream",
     "text": [
      "<class 'pandas.core.frame.DataFrame'>\n",
      "RangeIndex: 33 entries, 0 to 32\n",
      "Data columns (total 10 columns):\n",
      " #   Column            Non-Null Count  Dtype         \n",
      "---  ------            --------------  -----         \n",
      " 0   pk_evenement      33 non-null     int64         \n",
      " 1   nom_evenement     33 non-null     object        \n",
      " 2   date              33 non-null     datetime64[ns]\n",
      " 3   nombre_personnes  26 non-null     float64       \n",
      " 4   type              33 non-null     object        \n",
      " 5   nom_lieu          33 non-null     object        \n",
      " 6   ville             32 non-null     object        \n",
      " 7   pays              33 non-null     object        \n",
      " 8   latitude          33 non-null     float64       \n",
      " 9   longitude         33 non-null     float64       \n",
      "dtypes: datetime64[ns](1), float64(3), int64(1), object(5)\n",
      "memory usage: 2.7+ KB\n"
     ]
    }
   ],
   "source": [
    "# Convertir les colonnes de date\n",
    "df['date'] = pd.to_datetime(df['date'])\n",
    "\n",
    "df.info()"
   ]
  },
  {
   "cell_type": "code",
   "execution_count": 63,
   "id": "dd0a3091-180d-45f0-a252-19bc385bdef6",
   "metadata": {},
   "outputs": [],
   "source": [
    "\n",
    "\n",
    "# Créer une carte centrée sur l'Arc jurassien et la Suisse\n",
    "m = folium.Map(location=[46.8, 7.5], zoom_start=8)\n",
    "\n",
    "# Préparer les données GeoJSON pour TimeDimension\n",
    "features = []\n",
    "for _, row in df.iterrows():\n",
    "    # Formater le nombre de personnes (si défini)\n",
    "    nombre_personnes = f\"<br>Nombre de personnes: {row['nombre_personnes']}\" if pd.notna(row['nombre_personnes']) else \"\"\n",
    "    \n",
    "    feature = {\n",
    "        \"type\": \"Feature\",\n",
    "        \"geometry\": {\n",
    "            \"type\": \"Point\",\n",
    "            \"coordinates\": [row[\"longitude\"], row[\"latitude\"]]\n",
    "        },\n",
    "        \"properties\": {\n",
    "            \"time\": row[\"date\"].isoformat(),\n",
    "            \"popup\": f\"{row['nom_evenement']}<br>Date: {row['date'].strftime('%Y-%m-%d')}{nombre_personnes}\",\n",
    "            \"style\": {\n",
    "                \"color\": \"blue\",  # Utiliser une couleur par défaut pour tous les points\n",
    "                \"radius\": 6\n",
    "            }\n",
    "        }\n",
    "    }\n",
    "    features.append(feature)\n",
    "\n",
    "geojson = {\n",
    "    \"type\": \"FeatureCollection\",\n",
    "    \"features\": features\n",
    "}\n",
    "\n",
    "# Ajouter les données GeoJSON animées avec TimestampedGeoJson\n",
    "TimestampedGeoJson(\n",
    "    data=geojson,\n",
    "    period=\"P1D\",  # Intervalle entre les étapes (1 jour ici)\n",
    "    add_last_point=True,\n",
    "    auto_play=True,\n",
    "    loop=False,\n",
    "    max_speed=1,\n",
    "    loop_button=True,\n",
    "    date_options=\"YYYY-MM-DD\",\n",
    "    time_slider_drag_update=True\n",
    ").add_to(m)\n",
    "\n",
    "# Enregistrer la carte dans un fichier HTML\n",
    "m.save('carte_evenements_animée_sans_legende.html')\n"
   ]
  },
  {
   "cell_type": "code",
   "execution_count": null,
   "id": "6fec158d-590d-4039-8cfc-91cfcd96c06c",
   "metadata": {},
   "outputs": [],
   "source": []
  }
 ],
 "metadata": {
  "kernelspec": {
   "display_name": "py311_data_analysis",
   "language": "python",
   "name": "py311_data_analysis"
  },
  "language_info": {
   "codemirror_mode": {
    "name": "ipython",
    "version": 3
   },
   "file_extension": ".py",
   "mimetype": "text/x-python",
   "name": "python",
   "nbconvert_exporter": "python",
   "pygments_lexer": "ipython3",
   "version": "3.11.8"
  }
 },
 "nbformat": 4,
 "nbformat_minor": 5
}
