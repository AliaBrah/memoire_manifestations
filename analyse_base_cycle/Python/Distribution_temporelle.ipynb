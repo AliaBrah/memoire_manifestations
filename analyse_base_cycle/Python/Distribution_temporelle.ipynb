{
 "cells": [
  {
   "cell_type": "markdown",
   "id": "f424d9fa-a2ca-43d1-9aec-241f290c24a2",
   "metadata": {},
   "source": [
    "# Distribution temporelle des évènements"
   ]
  },
  {
   "cell_type": "code",
   "execution_count": 2,
   "id": "16464641-92ce-495e-91e0-9597fbd537ba",
   "metadata": {},
   "outputs": [
    {
     "name": "stdout",
     "output_type": "stream",
     "text": [
      "   pk_evenement                                                nom  \\\n",
      "0             1             manifestation des ouvrier-ère-s de Lip   \n",
      "1             2     meeting en solidarité aux ouvrier-ère-s de Lip   \n",
      "2             3             manifestation des ouvrier-ère-s de Lip   \n",
      "3             4             manifestation des ouvrier-ère-s de Lip   \n",
      "4             5  regroupement devant le consulat suisse des ouv...   \n",
      "\n",
      "   date_debut    date_fin    pays  \n",
      "0  1973-05-18  1973-05-18  Suisse  \n",
      "1  1973-05-25  1973-05-25  Suisse  \n",
      "2  1973-05-18  1973-05-18  France  \n",
      "3  1973-05-18  1973-05-18  France  \n",
      "4  1973-05-18  1973-05-18  France  \n",
      "pk_evenement     int64\n",
      "nom             object\n",
      "date_debut      object\n",
      "date_fin        object\n",
      "pays            object\n",
      "dtype: object\n"
     ]
    }
   ],
   "source": [
    "import pandas as pd\n",
    "import matplotlib.pyplot as plt\n",
    "import numpy as np\n",
    "import scipy.stats as stats\n",
    "import seaborn as sns\n",
    "from fanalysis.ca import CA \n",
    "from fanalysis.mca import MCA\n",
    "import plotly.express as px\n",
    "# Importation du fichier csv qui se trouve dans le même dossier que le notebook\n",
    "data = pd.read_csv('../CSV/analyse_temps_evenements.CSV')\n",
    "\n",
    "# Vérifier les premières lignes et les types de données\n",
    "print(data.head())  # Affiche les 5 premières lignes pour vérifier les données\n",
    "print(data.dtypes)  # Affiche les types de données de chaque colonne"
   ]
  },
  {
   "cell_type": "code",
   "execution_count": 9,
   "id": "c192d02e-1275-45b0-859f-10aca7791f98",
   "metadata": {},
   "outputs": [],
   "source": [
    "\n",
    "\n",
    "# Regrouper les événements par date et pays, et compter le nombre d'événements\n",
    "events_per_day = data.groupby(['date_debut', 'pays']).size().reset_index(name='count')\n",
    "\n",
    "# Créer un diagramme à barres avec une seule couleur par pays\n",
    "fig = px.bar(events_per_day, \n",
    "             x='date_debut', \n",
    "             y='count', \n",
    "             color='pays',  # Utiliser le pays pour colorier les événements\n",
    "             title=\"Distribution des évènements par jour et pays du cycle de manifestations mai à octobre 1973\",  # Titre du graphique\n",
    "             labels={\"date_debut\": \"Date\", \"count\": \"Nombre d'événements\", \"pays\": \"Pays\"},  # Étiquettes\n",
    "             height=400,  # Hauteur du graphique\n",
    "             color_discrete_map={'Suisse': 'red', 'France': 'blue'})  # Définir les couleurs\n",
    "\n",
    "# Personnalisation du graphique\n",
    "fig.update_layout(\n",
    "    xaxis_title=\"Date\",\n",
    "    yaxis_title=\"Nombre d'événements\",\n",
    "    barmode='stack',  # Empiler les événements qui ont lieu le même jour\n",
    "    xaxis=dict(tickformat='%Y-%m-%d', tickangle=45),  # Format des dates\n",
    "    legend_title=\"Pays\"\n",
    ")\n",
    "\n",
    "# Afficher le graphique\n",
    "fig.write_image(\"distribution_evenements_jour_pays.png\", width=1600, height=800)\n",
    "fig.write_html(\"distribution_evenements_jour_pays.html\", auto_open=True)"
   ]
  }
 ],
 "metadata": {
  "kernelspec": {
   "display_name": "py311_data_analysis",
   "language": "python",
   "name": "py311_data_analysis"
  },
  "language_info": {
   "codemirror_mode": {
    "name": "ipython",
    "version": 3
   },
   "file_extension": ".py",
   "mimetype": "text/x-python",
   "name": "python",
   "nbconvert_exporter": "python",
   "pygments_lexer": "ipython3",
   "version": "3.11.8"
  }
 },
 "nbformat": 4,
 "nbformat_minor": 5
}
