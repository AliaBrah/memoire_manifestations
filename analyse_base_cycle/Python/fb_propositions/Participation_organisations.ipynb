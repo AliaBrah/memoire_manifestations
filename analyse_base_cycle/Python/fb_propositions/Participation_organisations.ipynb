{
 "cells": [
  {
   "cell_type": "markdown",
   "id": "e331c329",
   "metadata": {},
   "source": [
    "# Participation d'organisations à des événements"
   ]
  },
  {
   "cell_type": "code",
   "execution_count": 1,
   "id": "1c2c209b-db14-4e1e-9365-8b4bcd898ced",
   "metadata": {},
   "outputs": [],
   "source": [
    "import pandas as pd\n",
    "import matplotlib.pyplot as plt\n",
    "import plotly.express as px\n",
    "import sqlite3 as sql"
   ]
  },
  {
   "cell_type": "code",
   "execution_count": 2,
   "id": "66757934",
   "metadata": {},
   "outputs": [],
   "source": [
    "### Define the path to the file (a string in a variable 'db_file')\n",
    "# if the data directory label is at the same level as the notebook,\n",
    "# then the path is 'data/astronomers_import.db'\n",
    "db_file_address = '../../../Data_base_donnee/Base_donnee/cycle_manifestation.db'"
   ]
  },
  {
   "cell_type": "code",
   "execution_count": 3,
   "id": "c105c9e2",
   "metadata": {},
   "outputs": [],
   "source": [
    "### This ist the query that produces the data to be analysed.\n",
    "# It has to be adapted to each use case\n",
    "q1 = \"\"\"\n",
    "SELECT \n",
    "    oa.nom nom_organis,\n",
    "    e.pk_evenement, \n",
    "    e.nom AS nom_evenement, \n",
    "    e.date, \n",
    "    e.heure_debut ,\n",
    "    e.\"type\" AS type_evenement,\n",
    "    l.nom AS nom_lieu, \n",
    "    l.ville, \n",
    "    l.pays\n",
    "FROM \n",
    "   liaison_pres_organisation_evenement lpoe \n",
    "JOIN organisation_association oa \n",
    "\tON lpoe.fk_organisation = oa.pk_organisation \n",
    "JOIN evenement e \n",
    "\tON e.pk_evenement = lpoe.fk_evenement\n",
    "JOIN \n",
    "    lieu l ON l.pk_lieu = e.fk_lieu_debut\n",
    "ORDER BY e.date, e.\"type\" ;   \n",
    "\"\"\""
   ]
  },
  {
   "cell_type": "code",
   "execution_count": 4,
   "id": "81b7a2b8",
   "metadata": {},
   "outputs": [],
   "source": [
    "### Create a connection to the SQLite database of your repository\n",
    "# Beware : if the database does not exist at the specified address (db_file_address)\n",
    "# it will be created and will be empty. Therefore, carefully check the database address\n",
    "try:\n",
    "    cn = sql.connect(db_file_address)    \n",
    "except Exception as e:\n",
    "    # if the connection does not work\n",
    "    # an error message is raised\n",
    "    print(e)    \n"
   ]
  },
  {
   "cell_type": "code",
   "execution_count": 5,
   "id": "b95de180",
   "metadata": {},
   "outputs": [
    {
     "data": {
      "text/html": [
       "<div>\n",
       "<style scoped>\n",
       "    .dataframe tbody tr th:only-of-type {\n",
       "        vertical-align: middle;\n",
       "    }\n",
       "\n",
       "    .dataframe tbody tr th {\n",
       "        vertical-align: top;\n",
       "    }\n",
       "\n",
       "    .dataframe thead th {\n",
       "        text-align: right;\n",
       "    }\n",
       "</style>\n",
       "<table border=\"1\" class=\"dataframe\">\n",
       "  <thead>\n",
       "    <tr style=\"text-align: right;\">\n",
       "      <th></th>\n",
       "      <th>nom_organis</th>\n",
       "      <th>pk_evenement</th>\n",
       "      <th>nom_evenement</th>\n",
       "      <th>date</th>\n",
       "      <th>heure_debut</th>\n",
       "      <th>type_evenement</th>\n",
       "      <th>nom_lieu</th>\n",
       "      <th>ville</th>\n",
       "      <th>pays</th>\n",
       "    </tr>\n",
       "  </thead>\n",
       "  <tbody>\n",
       "    <tr>\n",
       "      <th>0</th>\n",
       "      <td>CFDT-Lip</td>\n",
       "      <td>34</td>\n",
       "      <td>regroupement devant le consulat suisse des ouv...</td>\n",
       "      <td>1973-05-10</td>\n",
       "      <td>None</td>\n",
       "      <td>regroupement de rue /manifestation statique</td>\n",
       "      <td>Consulat suisse</td>\n",
       "      <td>Besançon</td>\n",
       "      <td>France</td>\n",
       "    </tr>\n",
       "    <tr>\n",
       "      <th>1</th>\n",
       "      <td>Personnel Lip</td>\n",
       "      <td>34</td>\n",
       "      <td>regroupement devant le consulat suisse des ouv...</td>\n",
       "      <td>1973-05-10</td>\n",
       "      <td>None</td>\n",
       "      <td>regroupement de rue /manifestation statique</td>\n",
       "      <td>Consulat suisse</td>\n",
       "      <td>Besançon</td>\n",
       "      <td>France</td>\n",
       "    </tr>\n",
       "    <tr>\n",
       "      <th>2</th>\n",
       "      <td>CGT-Lip</td>\n",
       "      <td>34</td>\n",
       "      <td>regroupement devant le consulat suisse des ouv...</td>\n",
       "      <td>1973-05-10</td>\n",
       "      <td>None</td>\n",
       "      <td>regroupement de rue /manifestation statique</td>\n",
       "      <td>Consulat suisse</td>\n",
       "      <td>Besançon</td>\n",
       "      <td>France</td>\n",
       "    </tr>\n",
       "    <tr>\n",
       "      <th>3</th>\n",
       "      <td>CFDT-Lip</td>\n",
       "      <td>1</td>\n",
       "      <td>manifestation des ouvrier.ère.s de Lip</td>\n",
       "      <td>1973-05-18</td>\n",
       "      <td>11:00</td>\n",
       "      <td>manifestation de rue</td>\n",
       "      <td>Place du Port</td>\n",
       "      <td>Neuchâtel</td>\n",
       "      <td>Suisse</td>\n",
       "    </tr>\n",
       "    <tr>\n",
       "      <th>4</th>\n",
       "      <td>Comité d'action (CA)</td>\n",
       "      <td>1</td>\n",
       "      <td>manifestation des ouvrier.ère.s de Lip</td>\n",
       "      <td>1973-05-18</td>\n",
       "      <td>11:00</td>\n",
       "      <td>manifestation de rue</td>\n",
       "      <td>Place du Port</td>\n",
       "      <td>Neuchâtel</td>\n",
       "      <td>Suisse</td>\n",
       "    </tr>\n",
       "  </tbody>\n",
       "</table>\n",
       "</div>"
      ],
      "text/plain": [
       "            nom_organis  pk_evenement  \\\n",
       "0              CFDT-Lip            34   \n",
       "1         Personnel Lip            34   \n",
       "2               CGT-Lip            34   \n",
       "3              CFDT-Lip             1   \n",
       "4  Comité d'action (CA)             1   \n",
       "\n",
       "                                       nom_evenement        date heure_debut  \\\n",
       "0  regroupement devant le consulat suisse des ouv...  1973-05-10        None   \n",
       "1  regroupement devant le consulat suisse des ouv...  1973-05-10        None   \n",
       "2  regroupement devant le consulat suisse des ouv...  1973-05-10        None   \n",
       "3             manifestation des ouvrier.ère.s de Lip  1973-05-18       11:00   \n",
       "4             manifestation des ouvrier.ère.s de Lip  1973-05-18       11:00   \n",
       "\n",
       "                                type_evenement         nom_lieu      ville  \\\n",
       "0  regroupement de rue /manifestation statique  Consulat suisse   Besançon   \n",
       "1  regroupement de rue /manifestation statique  Consulat suisse   Besançon   \n",
       "2  regroupement de rue /manifestation statique  Consulat suisse   Besançon   \n",
       "3                         manifestation de rue    Place du Port  Neuchâtel   \n",
       "4                         manifestation de rue    Place du Port  Neuchâtel   \n",
       "\n",
       "     pays  \n",
       "0  France  \n",
       "1  France  \n",
       "2  France  \n",
       "3  Suisse  \n",
       "4  Suisse  "
      ]
     },
     "execution_count": 5,
     "metadata": {},
     "output_type": "execute_result"
    }
   ],
   "source": [
    "### This instruction executes the query \n",
    "# then closes the connection to the database \n",
    "q1_df= pd.read_sql_query(q1, cn)\n",
    "cn.close()\n",
    "# Inspect the first lines\n",
    "q1_df.head()"
   ]
  },
  {
   "cell_type": "code",
   "execution_count": null,
   "id": "c4e76463",
   "metadata": {},
   "outputs": [],
   "source": []
  },
  {
   "cell_type": "code",
   "execution_count": 82,
   "id": "79eed1b5",
   "metadata": {},
   "outputs": [
    {
     "data": {
      "text/html": [
       "<div>\n",
       "<style scoped>\n",
       "    .dataframe tbody tr th:only-of-type {\n",
       "        vertical-align: middle;\n",
       "    }\n",
       "\n",
       "    .dataframe tbody tr th {\n",
       "        vertical-align: top;\n",
       "    }\n",
       "\n",
       "    .dataframe thead th {\n",
       "        text-align: right;\n",
       "    }\n",
       "</style>\n",
       "<table border=\"1\" class=\"dataframe\">\n",
       "  <thead>\n",
       "    <tr style=\"text-align: right;\">\n",
       "      <th></th>\n",
       "      <th>nom_organis</th>\n",
       "      <th>pays</th>\n",
       "      <th>effectif</th>\n",
       "    </tr>\n",
       "  </thead>\n",
       "  <tbody>\n",
       "    <tr>\n",
       "      <th>40</th>\n",
       "      <td>Ligue marxiste révolutionnaire (LMR)</td>\n",
       "      <td>Suisse</td>\n",
       "      <td>13</td>\n",
       "    </tr>\n",
       "    <tr>\n",
       "      <th>17</th>\n",
       "      <td>Comité de travailleurs horlogerie - métallurgi...</td>\n",
       "      <td>Suisse</td>\n",
       "      <td>8</td>\n",
       "    </tr>\n",
       "    <tr>\n",
       "      <th>61</th>\n",
       "      <td>Personnel Lip</td>\n",
       "      <td>France</td>\n",
       "      <td>8</td>\n",
       "    </tr>\n",
       "    <tr>\n",
       "      <th>2</th>\n",
       "      <td>CFDT-Lip</td>\n",
       "      <td>France</td>\n",
       "      <td>7</td>\n",
       "    </tr>\n",
       "    <tr>\n",
       "      <th>6</th>\n",
       "      <td>CGT-Lip</td>\n",
       "      <td>France</td>\n",
       "      <td>6</td>\n",
       "    </tr>\n",
       "  </tbody>\n",
       "</table>\n",
       "</div>"
      ],
      "text/plain": [
       "                                          nom_organis    pays  effectif\n",
       "40               Ligue marxiste révolutionnaire (LMR)  Suisse        13\n",
       "17  Comité de travailleurs horlogerie - métallurgi...  Suisse         8\n",
       "61                                      Personnel Lip  France         8\n",
       "2                                            CFDT-Lip  France         7\n",
       "6                                             CGT-Lip  France         6"
      ]
     },
     "execution_count": 82,
     "metadata": {},
     "output_type": "execute_result"
    }
   ],
   "source": [
    "### Regrouper par date et pays, compter\n",
    "g1_q1 = q1_df[['nom_organis', 'pays']].groupby(by=['nom_organis', 'pays'])\\\n",
    "    .size().to_frame('effectif').reset_index().sort_values(by='effectif', ascending=False)\n",
    "\n",
    "g1_q1.head()\n"
   ]
  },
  {
   "cell_type": "code",
   "execution_count": 93,
   "id": "85700fce",
   "metadata": {},
   "outputs": [],
   "source": [
    "pa = g1_q1.sort_values(by=['effectif'], ascending=True)"
   ]
  },
  {
   "cell_type": "code",
   "execution_count": 95,
   "id": "a32daf47",
   "metadata": {},
   "outputs": [
    {
     "data": {
      "application/vnd.plotly.v1+json": {
       "config": {
        "plotlyServerURL": "https://plot.ly"
       },
       "data": [
        {
         "alignmentgroup": "True",
         "hovertemplate": "pays=Suisse<br>effectif=%{x}<br>nom_organis=%{y}<extra></extra>",
         "legendgroup": "Suisse",
         "marker": {
          "color": "red",
          "pattern": {
           "shape": ""
          }
         },
         "name": "Suisse",
         "offsetgroup": "Suisse",
         "orientation": "h",
         "showlegend": true,
         "textposition": "auto",
         "type": "bar",
         "x": [
          1,
          1,
          1,
          1,
          1,
          1,
          1,
          1,
          1,
          1,
          1,
          1,
          1,
          1,
          1,
          1,
          1,
          1,
          1,
          1,
          1,
          1,
          1,
          1,
          1,
          1,
          1,
          1,
          1,
          1,
          1,
          1,
          1,
          1,
          2,
          2,
          2,
          2,
          2,
          2,
          2,
          2,
          2,
          2,
          3,
          3,
          3,
          4,
          5,
          6,
          8,
          13
         ],
         "xaxis": "x",
         "y": [
          "Parti socialiste section Lausanne",
          "Parti socialiste neuchâtelois",
          "POP section La Chaux-de-Fonds",
          "Parti socialiste jurassien",
          "Parti communiste italien section Delémont",
          "Action socialiste",
          "Comité du Parti socialiste section Bienne",
          "CGT",
          "Cartel syndical neuchâtelois",
          "Colonies libres italiennes",
          "Colonies libres italiennes section Bienne",
          "Colonies libres italiennes section Delémont",
          "Comité de lutte ouvrière",
          "Comité de soutien aux travailleurs de Lip en lutte",
          "Comité du Parti socialiste romand",
          "Jeunesse chrétienne rurale",
          "FOBB section Zürich",
          "FTMH section Genève",
          "Fédération internaionale des organisations des travailleurs de la metallurgie (FIOM)",
          "Fédération jurassienne des syndicats chrétiens (FJSC)",
          "Fédération neuchâteloise des travailleurs du commerce,  des transports et de l'alimentation (FCTA)",
          "Fédération suisse du personnel des services publics section Zürich",
          "Groupe de travailleurs FOBB",
          "Groupe de travailleurs VPOD",
          "POP neuchâtelois",
          "Jeunesse Ouvrière Chrétienne",
          "Typographia section Zürich",
          "Mouvemen populaire des familles",
          "Lutte prolétaire Bienne",
          "Parti socialiste vaudois",
          "Parti socialiste ville de Zürich",
          "Rupture pour le communisme",
          "Parti communiste français (PCF)",
          "Parti communiste italien",
          "FOBB section Jura",
          "Ligue marxiste révolutionnaire section Neuchâtel",
          "Groupe de typographe zürichois",
          "Ligue marxiste révolutionnaire section Bienne",
          "Groupe de travailleurs Lip",
          "Ligue communiste française",
          "Personnel Lip",
          "CGT-Lip",
          "Parti socialiste unifié français (PSU)",
          "Fédération chrétienne des ouvriers sur métaux (FCOM)",
          "Ligue marxiste révolutionnaire section Delémont",
          "POP",
          "POP section Bienne",
          "CFDT-Lip",
          "Groupe de travailleurs FTMH",
          "Comité d'action (CA)",
          "Comité de travailleurs horlogerie - métallurgie (Comité de soutien à Lip Bienne - Jura - Neuchâtel)",
          "Ligue marxiste révolutionnaire (LMR)"
         ],
         "yaxis": "y"
        },
        {
         "alignmentgroup": "True",
         "hovertemplate": "pays=France<br>effectif=%{x}<br>nom_organis=%{y}<extra></extra>",
         "legendgroup": "France",
         "marker": {
          "color": "blue",
          "pattern": {
           "shape": ""
          }
         },
         "name": "France",
         "offsetgroup": "France",
         "orientation": "h",
         "showlegend": true,
         "textposition": "auto",
         "type": "bar",
         "x": [
          1,
          1,
          1,
          1,
          1,
          1,
          1,
          2,
          3,
          4,
          6,
          7,
          8
         ],
         "xaxis": "x",
         "y": [
          "Parti communiste français (PCF)",
          "Ligue marxiste révolutionnaire (LMR)",
          "CGT",
          "Comité de travailleurs horlogerie - métallurgie (Comité de soutien à Lip Bienne - Jura - Neuchâtel)",
          "Comité d’action syndicale Lausanne (C.A.S)",
          "CFDT",
          "Parti socialiste unifié français (PSU)",
          "Groupe de travailleurs CGT-Lip",
          "Groupe de travailleurs Lip",
          "Comité d'action (CA)",
          "CGT-Lip",
          "CFDT-Lip",
          "Personnel Lip"
         ],
         "yaxis": "y"
        }
       ],
       "layout": {
        "autosize": false,
        "barmode": "relative",
        "height": 1000,
        "legend": {
         "title": {
          "text": "pays"
         },
         "tracegroupgap": 0
        },
        "margin": {
         "t": 60
        },
        "template": {
         "data": {
          "bar": [
           {
            "error_x": {
             "color": "#2a3f5f"
            },
            "error_y": {
             "color": "#2a3f5f"
            },
            "marker": {
             "line": {
              "color": "#E5ECF6",
              "width": 0.5
             },
             "pattern": {
              "fillmode": "overlay",
              "size": 10,
              "solidity": 0.2
             }
            },
            "type": "bar"
           }
          ],
          "barpolar": [
           {
            "marker": {
             "line": {
              "color": "#E5ECF6",
              "width": 0.5
             },
             "pattern": {
              "fillmode": "overlay",
              "size": 10,
              "solidity": 0.2
             }
            },
            "type": "barpolar"
           }
          ],
          "carpet": [
           {
            "aaxis": {
             "endlinecolor": "#2a3f5f",
             "gridcolor": "white",
             "linecolor": "white",
             "minorgridcolor": "white",
             "startlinecolor": "#2a3f5f"
            },
            "baxis": {
             "endlinecolor": "#2a3f5f",
             "gridcolor": "white",
             "linecolor": "white",
             "minorgridcolor": "white",
             "startlinecolor": "#2a3f5f"
            },
            "type": "carpet"
           }
          ],
          "choropleth": [
           {
            "colorbar": {
             "outlinewidth": 0,
             "ticks": ""
            },
            "type": "choropleth"
           }
          ],
          "contour": [
           {
            "colorbar": {
             "outlinewidth": 0,
             "ticks": ""
            },
            "colorscale": [
             [
              0,
              "#0d0887"
             ],
             [
              0.1111111111111111,
              "#46039f"
             ],
             [
              0.2222222222222222,
              "#7201a8"
             ],
             [
              0.3333333333333333,
              "#9c179e"
             ],
             [
              0.4444444444444444,
              "#bd3786"
             ],
             [
              0.5555555555555556,
              "#d8576b"
             ],
             [
              0.6666666666666666,
              "#ed7953"
             ],
             [
              0.7777777777777778,
              "#fb9f3a"
             ],
             [
              0.8888888888888888,
              "#fdca26"
             ],
             [
              1,
              "#f0f921"
             ]
            ],
            "type": "contour"
           }
          ],
          "contourcarpet": [
           {
            "colorbar": {
             "outlinewidth": 0,
             "ticks": ""
            },
            "type": "contourcarpet"
           }
          ],
          "heatmap": [
           {
            "colorbar": {
             "outlinewidth": 0,
             "ticks": ""
            },
            "colorscale": [
             [
              0,
              "#0d0887"
             ],
             [
              0.1111111111111111,
              "#46039f"
             ],
             [
              0.2222222222222222,
              "#7201a8"
             ],
             [
              0.3333333333333333,
              "#9c179e"
             ],
             [
              0.4444444444444444,
              "#bd3786"
             ],
             [
              0.5555555555555556,
              "#d8576b"
             ],
             [
              0.6666666666666666,
              "#ed7953"
             ],
             [
              0.7777777777777778,
              "#fb9f3a"
             ],
             [
              0.8888888888888888,
              "#fdca26"
             ],
             [
              1,
              "#f0f921"
             ]
            ],
            "type": "heatmap"
           }
          ],
          "heatmapgl": [
           {
            "colorbar": {
             "outlinewidth": 0,
             "ticks": ""
            },
            "colorscale": [
             [
              0,
              "#0d0887"
             ],
             [
              0.1111111111111111,
              "#46039f"
             ],
             [
              0.2222222222222222,
              "#7201a8"
             ],
             [
              0.3333333333333333,
              "#9c179e"
             ],
             [
              0.4444444444444444,
              "#bd3786"
             ],
             [
              0.5555555555555556,
              "#d8576b"
             ],
             [
              0.6666666666666666,
              "#ed7953"
             ],
             [
              0.7777777777777778,
              "#fb9f3a"
             ],
             [
              0.8888888888888888,
              "#fdca26"
             ],
             [
              1,
              "#f0f921"
             ]
            ],
            "type": "heatmapgl"
           }
          ],
          "histogram": [
           {
            "marker": {
             "pattern": {
              "fillmode": "overlay",
              "size": 10,
              "solidity": 0.2
             }
            },
            "type": "histogram"
           }
          ],
          "histogram2d": [
           {
            "colorbar": {
             "outlinewidth": 0,
             "ticks": ""
            },
            "colorscale": [
             [
              0,
              "#0d0887"
             ],
             [
              0.1111111111111111,
              "#46039f"
             ],
             [
              0.2222222222222222,
              "#7201a8"
             ],
             [
              0.3333333333333333,
              "#9c179e"
             ],
             [
              0.4444444444444444,
              "#bd3786"
             ],
             [
              0.5555555555555556,
              "#d8576b"
             ],
             [
              0.6666666666666666,
              "#ed7953"
             ],
             [
              0.7777777777777778,
              "#fb9f3a"
             ],
             [
              0.8888888888888888,
              "#fdca26"
             ],
             [
              1,
              "#f0f921"
             ]
            ],
            "type": "histogram2d"
           }
          ],
          "histogram2dcontour": [
           {
            "colorbar": {
             "outlinewidth": 0,
             "ticks": ""
            },
            "colorscale": [
             [
              0,
              "#0d0887"
             ],
             [
              0.1111111111111111,
              "#46039f"
             ],
             [
              0.2222222222222222,
              "#7201a8"
             ],
             [
              0.3333333333333333,
              "#9c179e"
             ],
             [
              0.4444444444444444,
              "#bd3786"
             ],
             [
              0.5555555555555556,
              "#d8576b"
             ],
             [
              0.6666666666666666,
              "#ed7953"
             ],
             [
              0.7777777777777778,
              "#fb9f3a"
             ],
             [
              0.8888888888888888,
              "#fdca26"
             ],
             [
              1,
              "#f0f921"
             ]
            ],
            "type": "histogram2dcontour"
           }
          ],
          "mesh3d": [
           {
            "colorbar": {
             "outlinewidth": 0,
             "ticks": ""
            },
            "type": "mesh3d"
           }
          ],
          "parcoords": [
           {
            "line": {
             "colorbar": {
              "outlinewidth": 0,
              "ticks": ""
             }
            },
            "type": "parcoords"
           }
          ],
          "pie": [
           {
            "automargin": true,
            "type": "pie"
           }
          ],
          "scatter": [
           {
            "fillpattern": {
             "fillmode": "overlay",
             "size": 10,
             "solidity": 0.2
            },
            "type": "scatter"
           }
          ],
          "scatter3d": [
           {
            "line": {
             "colorbar": {
              "outlinewidth": 0,
              "ticks": ""
             }
            },
            "marker": {
             "colorbar": {
              "outlinewidth": 0,
              "ticks": ""
             }
            },
            "type": "scatter3d"
           }
          ],
          "scattercarpet": [
           {
            "marker": {
             "colorbar": {
              "outlinewidth": 0,
              "ticks": ""
             }
            },
            "type": "scattercarpet"
           }
          ],
          "scattergeo": [
           {
            "marker": {
             "colorbar": {
              "outlinewidth": 0,
              "ticks": ""
             }
            },
            "type": "scattergeo"
           }
          ],
          "scattergl": [
           {
            "marker": {
             "colorbar": {
              "outlinewidth": 0,
              "ticks": ""
             }
            },
            "type": "scattergl"
           }
          ],
          "scattermapbox": [
           {
            "marker": {
             "colorbar": {
              "outlinewidth": 0,
              "ticks": ""
             }
            },
            "type": "scattermapbox"
           }
          ],
          "scatterpolar": [
           {
            "marker": {
             "colorbar": {
              "outlinewidth": 0,
              "ticks": ""
             }
            },
            "type": "scatterpolar"
           }
          ],
          "scatterpolargl": [
           {
            "marker": {
             "colorbar": {
              "outlinewidth": 0,
              "ticks": ""
             }
            },
            "type": "scatterpolargl"
           }
          ],
          "scatterternary": [
           {
            "marker": {
             "colorbar": {
              "outlinewidth": 0,
              "ticks": ""
             }
            },
            "type": "scatterternary"
           }
          ],
          "surface": [
           {
            "colorbar": {
             "outlinewidth": 0,
             "ticks": ""
            },
            "colorscale": [
             [
              0,
              "#0d0887"
             ],
             [
              0.1111111111111111,
              "#46039f"
             ],
             [
              0.2222222222222222,
              "#7201a8"
             ],
             [
              0.3333333333333333,
              "#9c179e"
             ],
             [
              0.4444444444444444,
              "#bd3786"
             ],
             [
              0.5555555555555556,
              "#d8576b"
             ],
             [
              0.6666666666666666,
              "#ed7953"
             ],
             [
              0.7777777777777778,
              "#fb9f3a"
             ],
             [
              0.8888888888888888,
              "#fdca26"
             ],
             [
              1,
              "#f0f921"
             ]
            ],
            "type": "surface"
           }
          ],
          "table": [
           {
            "cells": {
             "fill": {
              "color": "#EBF0F8"
             },
             "line": {
              "color": "white"
             }
            },
            "header": {
             "fill": {
              "color": "#C8D4E3"
             },
             "line": {
              "color": "white"
             }
            },
            "type": "table"
           }
          ]
         },
         "layout": {
          "annotationdefaults": {
           "arrowcolor": "#2a3f5f",
           "arrowhead": 0,
           "arrowwidth": 1
          },
          "autotypenumbers": "strict",
          "coloraxis": {
           "colorbar": {
            "outlinewidth": 0,
            "ticks": ""
           }
          },
          "colorscale": {
           "diverging": [
            [
             0,
             "#8e0152"
            ],
            [
             0.1,
             "#c51b7d"
            ],
            [
             0.2,
             "#de77ae"
            ],
            [
             0.3,
             "#f1b6da"
            ],
            [
             0.4,
             "#fde0ef"
            ],
            [
             0.5,
             "#f7f7f7"
            ],
            [
             0.6,
             "#e6f5d0"
            ],
            [
             0.7,
             "#b8e186"
            ],
            [
             0.8,
             "#7fbc41"
            ],
            [
             0.9,
             "#4d9221"
            ],
            [
             1,
             "#276419"
            ]
           ],
           "sequential": [
            [
             0,
             "#0d0887"
            ],
            [
             0.1111111111111111,
             "#46039f"
            ],
            [
             0.2222222222222222,
             "#7201a8"
            ],
            [
             0.3333333333333333,
             "#9c179e"
            ],
            [
             0.4444444444444444,
             "#bd3786"
            ],
            [
             0.5555555555555556,
             "#d8576b"
            ],
            [
             0.6666666666666666,
             "#ed7953"
            ],
            [
             0.7777777777777778,
             "#fb9f3a"
            ],
            [
             0.8888888888888888,
             "#fdca26"
            ],
            [
             1,
             "#f0f921"
            ]
           ],
           "sequentialminus": [
            [
             0,
             "#0d0887"
            ],
            [
             0.1111111111111111,
             "#46039f"
            ],
            [
             0.2222222222222222,
             "#7201a8"
            ],
            [
             0.3333333333333333,
             "#9c179e"
            ],
            [
             0.4444444444444444,
             "#bd3786"
            ],
            [
             0.5555555555555556,
             "#d8576b"
            ],
            [
             0.6666666666666666,
             "#ed7953"
            ],
            [
             0.7777777777777778,
             "#fb9f3a"
            ],
            [
             0.8888888888888888,
             "#fdca26"
            ],
            [
             1,
             "#f0f921"
            ]
           ]
          },
          "colorway": [
           "#636efa",
           "#EF553B",
           "#00cc96",
           "#ab63fa",
           "#FFA15A",
           "#19d3f3",
           "#FF6692",
           "#B6E880",
           "#FF97FF",
           "#FECB52"
          ],
          "font": {
           "color": "#2a3f5f"
          },
          "geo": {
           "bgcolor": "white",
           "lakecolor": "white",
           "landcolor": "#E5ECF6",
           "showlakes": true,
           "showland": true,
           "subunitcolor": "white"
          },
          "hoverlabel": {
           "align": "left"
          },
          "hovermode": "closest",
          "mapbox": {
           "style": "light"
          },
          "paper_bgcolor": "white",
          "plot_bgcolor": "#E5ECF6",
          "polar": {
           "angularaxis": {
            "gridcolor": "white",
            "linecolor": "white",
            "ticks": ""
           },
           "bgcolor": "#E5ECF6",
           "radialaxis": {
            "gridcolor": "white",
            "linecolor": "white",
            "ticks": ""
           }
          },
          "scene": {
           "xaxis": {
            "backgroundcolor": "#E5ECF6",
            "gridcolor": "white",
            "gridwidth": 2,
            "linecolor": "white",
            "showbackground": true,
            "ticks": "",
            "zerolinecolor": "white"
           },
           "yaxis": {
            "backgroundcolor": "#E5ECF6",
            "gridcolor": "white",
            "gridwidth": 2,
            "linecolor": "white",
            "showbackground": true,
            "ticks": "",
            "zerolinecolor": "white"
           },
           "zaxis": {
            "backgroundcolor": "#E5ECF6",
            "gridcolor": "white",
            "gridwidth": 2,
            "linecolor": "white",
            "showbackground": true,
            "ticks": "",
            "zerolinecolor": "white"
           }
          },
          "shapedefaults": {
           "line": {
            "color": "#2a3f5f"
           }
          },
          "ternary": {
           "aaxis": {
            "gridcolor": "white",
            "linecolor": "white",
            "ticks": ""
           },
           "baxis": {
            "gridcolor": "white",
            "linecolor": "white",
            "ticks": ""
           },
           "bgcolor": "#E5ECF6",
           "caxis": {
            "gridcolor": "white",
            "linecolor": "white",
            "ticks": ""
           }
          },
          "title": {
           "x": 0.05
          },
          "xaxis": {
           "automargin": true,
           "gridcolor": "white",
           "linecolor": "white",
           "ticks": "",
           "title": {
            "standoff": 15
           },
           "zerolinecolor": "white",
           "zerolinewidth": 2
          },
          "yaxis": {
           "automargin": true,
           "gridcolor": "white",
           "linecolor": "white",
           "ticks": "",
           "title": {
            "standoff": 15
           },
           "zerolinecolor": "white",
           "zerolinewidth": 2
          }
         }
        },
        "width": 1000,
        "xaxis": {
         "anchor": "y",
         "domain": [
          0,
          1
         ],
         "title": {
          "text": "effectif"
         }
        },
        "yaxis": {
         "anchor": "x",
         "domain": [
          0,
          1
         ],
         "dtick": 1,
         "title": {
          "text": "nom_organis"
         }
        }
       }
      }
     },
     "metadata": {},
     "output_type": "display_data"
    }
   ],
   "source": [
    "### Use a different plotting library: Plotly Express\n",
    "# Observe the default behaviour of the library\n",
    "\n",
    "### Colors\n",
    "# https://stackoverflow.com/questions/63460213/how-to-define-colors-in-a-figure-using-plotly-graph-objects-and-plotly-express\n",
    "\n",
    "fig = px.bar(pa, y='nom_organis', x='effectif', \n",
    "             color='pays',\n",
    "             color_discrete_map={\"Suisse\": 'red', \"France\": 'blue'},\n",
    "             # color_discrete_sequence=px.colors.qualitative.D3, \n",
    "             orientation='h')\n",
    "\n",
    "#fig = px.bar(x=q1_df.index, y=q1_df.values, title=\"Manifestations\", barmode='relative', orientation='h')\n",
    "fig.update_yaxes(dtick=1)\n",
    "fig.update_layout(\n",
    "    autosize=False,\n",
    "    width=1000,\n",
    "    height=1000,\n",
    ")\n",
    "fig.show()"
   ]
  },
  {
   "cell_type": "markdown",
   "id": "99b1fd46",
   "metadata": {},
   "source": [
    "## Visualisation avec des points (ou bulles) par organisation et pays de l'événement \n",
    "\n",
    "Ces visualisations visent à mettre mieux en évidencel participation des organisation aux événements et inspecter leur chronologie"
   ]
  },
  {
   "cell_type": "code",
   "execution_count": 96,
   "id": "23281a77",
   "metadata": {},
   "outputs": [
    {
     "data": {
      "text/html": [
       "<div>\n",
       "<style scoped>\n",
       "    .dataframe tbody tr th:only-of-type {\n",
       "        vertical-align: middle;\n",
       "    }\n",
       "\n",
       "    .dataframe tbody tr th {\n",
       "        vertical-align: top;\n",
       "    }\n",
       "\n",
       "    .dataframe thead tr th {\n",
       "        text-align: left;\n",
       "    }\n",
       "</style>\n",
       "<table border=\"1\" class=\"dataframe\">\n",
       "  <thead>\n",
       "    <tr>\n",
       "      <th></th>\n",
       "      <th>nom_organis</th>\n",
       "      <th>date</th>\n",
       "      <th>pays</th>\n",
       "      <th colspan=\"2\" halign=\"left\">nom_lieu</th>\n",
       "    </tr>\n",
       "    <tr>\n",
       "      <th></th>\n",
       "      <th></th>\n",
       "      <th></th>\n",
       "      <th></th>\n",
       "      <th>join</th>\n",
       "      <th>count</th>\n",
       "    </tr>\n",
       "  </thead>\n",
       "  <tbody>\n",
       "    <tr>\n",
       "      <th>113</th>\n",
       "      <td>Personnel Lip</td>\n",
       "      <td>1973-06-23</td>\n",
       "      <td>Suisse</td>\n",
       "      <td>Place de la Gare, Maison du Peuple</td>\n",
       "      <td>2</td>\n",
       "    </tr>\n",
       "    <tr>\n",
       "      <th>114</th>\n",
       "      <td>Personnel Lip</td>\n",
       "      <td>1973-08-14</td>\n",
       "      <td>France</td>\n",
       "      <td>Usine Lip</td>\n",
       "      <td>1</td>\n",
       "    </tr>\n",
       "    <tr>\n",
       "      <th>115</th>\n",
       "      <td>Personnel Lip</td>\n",
       "      <td>1973-09-29</td>\n",
       "      <td>France</td>\n",
       "      <td>Châteaufarine</td>\n",
       "      <td>1</td>\n",
       "    </tr>\n",
       "    <tr>\n",
       "      <th>116</th>\n",
       "      <td>Rupture pour le communisme</td>\n",
       "      <td>1973-08-23</td>\n",
       "      <td>Suisse</td>\n",
       "      <td>Salle des 22-Cantons</td>\n",
       "      <td>1</td>\n",
       "    </tr>\n",
       "    <tr>\n",
       "      <th>117</th>\n",
       "      <td>Typographia section Zürich</td>\n",
       "      <td>1973-08-31</td>\n",
       "      <td>Suisse</td>\n",
       "      <td>Volkshaus</td>\n",
       "      <td>1</td>\n",
       "    </tr>\n",
       "  </tbody>\n",
       "</table>\n",
       "</div>"
      ],
      "text/plain": [
       "                    nom_organis        date    pays  \\\n",
       "                                                      \n",
       "113               Personnel Lip  1973-06-23  Suisse   \n",
       "114               Personnel Lip  1973-08-14  France   \n",
       "115               Personnel Lip  1973-09-29  France   \n",
       "116  Rupture pour le communisme  1973-08-23  Suisse   \n",
       "117  Typographia section Zürich  1973-08-31  Suisse   \n",
       "\n",
       "                               nom_lieu        \n",
       "                                   join count  \n",
       "113  Place de la Gare, Maison du Peuple     2  \n",
       "114                           Usine Lip     1  \n",
       "115                       Châteaufarine     1  \n",
       "116                Salle des 22-Cantons     1  \n",
       "117                           Volkshaus     1  "
      ]
     },
     "execution_count": 96,
     "metadata": {},
     "output_type": "execute_result"
    }
   ],
   "source": [
    "### Regrouper par date et pays, compter\n",
    "g1_q1 = q1_df[['nom_organis', 'date', 'pays', 'nom_lieu']].groupby(['nom_organis','date', 'pays'])\\\n",
    "        .agg({'nom_lieu':[', '.join,'count']}).reset_index()\n",
    "\n",
    "g1_q1.tail()\n"
   ]
  },
  {
   "cell_type": "code",
   "execution_count": 111,
   "id": "163987a4",
   "metadata": {},
   "outputs": [],
   "source": [
    "def insert_break_after(text, n):\n",
    "    if len(text) <= n:\n",
    "        return text\n",
    "    # If the text is longer, find the first space after the 40th character\n",
    "    else:\n",
    "        space_index = text.find(' ', n)\n",
    "        \n",
    "        print(space_index)\n",
    "        if space_index == -1:\n",
    "            return text\n",
    "        return text[:space_index] + '<br>' + text[space_index+1:]"
   ]
  },
  {
   "cell_type": "code",
   "execution_count": 180,
   "id": "d6e4d7af",
   "metadata": {},
   "outputs": [
    {
     "name": "stdout",
     "output_type": "stream",
     "text": [
      "10\n",
      "Fédération<br>neuchâteloise des travailleurs du commerce,  des transports et de l'alimentation (FCTA)\n"
     ]
    }
   ],
   "source": [
    "r = insert_break_after(\"Fédération neuchâteloise des travailleurs du commerce,  des transports et de l'alimentation (FCTA)\", 7)\n",
    "print(r)"
   ]
  },
  {
   "cell_type": "code",
   "execution_count": 191,
   "id": "5475e880",
   "metadata": {},
   "outputs": [],
   "source": [
    "def splitTextToNWords(string, n):\n",
    "    words = string.split()\n",
    "    out_words = ''\n",
    "    i = 1\n",
    "    j = 1\n",
    "    for w in words:\n",
    "        if i == n and j < len(words):\n",
    "            i = 1\n",
    "            # do not add the / for br\n",
    "            out_words += w + '<br>'\n",
    "        elif j < len(words):\n",
    "            out_words += w + ' '\n",
    "            i += 1\n",
    "        else:\n",
    "            out_words += w\n",
    "\n",
    "\n",
    "    return out_words"
   ]
  },
  {
   "cell_type": "code",
   "execution_count": 192,
   "id": "5f44b735",
   "metadata": {},
   "outputs": [
    {
     "name": "stdout",
     "output_type": "stream",
     "text": [
      "Fédération neuchâteloise des travailleurs du commerce, des<br>transports et de l'alimentation (FCTA) \n"
     ]
    }
   ],
   "source": [
    "d = \"Fédération neuchâteloise des travailleurs du commerce,  des transports et de l'alimentation (FCTA)\"\n",
    "print(splitTextToNWords(d, 7))"
   ]
  },
  {
   "cell_type": "code",
   "execution_count": 202,
   "id": "499aee0c",
   "metadata": {},
   "outputs": [
    {
     "data": {
      "text/html": [
       "<div>\n",
       "<style scoped>\n",
       "    .dataframe tbody tr th:only-of-type {\n",
       "        vertical-align: middle;\n",
       "    }\n",
       "\n",
       "    .dataframe tbody tr th {\n",
       "        vertical-align: top;\n",
       "    }\n",
       "\n",
       "    .dataframe thead th {\n",
       "        text-align: right;\n",
       "    }\n",
       "</style>\n",
       "<table border=\"1\" class=\"dataframe\">\n",
       "  <thead>\n",
       "    <tr style=\"text-align: right;\">\n",
       "      <th></th>\n",
       "      <th>nom_organis</th>\n",
       "      <th>date</th>\n",
       "      <th>pays</th>\n",
       "      <th>noms_lieux</th>\n",
       "      <th>effectif</th>\n",
       "      <th>nom_organis_break</th>\n",
       "    </tr>\n",
       "  </thead>\n",
       "  <tbody>\n",
       "    <tr>\n",
       "      <th>108</th>\n",
       "      <td>Parti socialiste ville de Zürich</td>\n",
       "      <td>1973-08-31</td>\n",
       "      <td>Suisse</td>\n",
       "      <td>Volkshaus</td>\n",
       "      <td>1</td>\n",
       "      <td>Parti socialiste ville de Zürich&lt;br&gt;</td>\n",
       "    </tr>\n",
       "    <tr>\n",
       "      <th>109</th>\n",
       "      <td>Personnel Lip</td>\n",
       "      <td>1973-05-10</td>\n",
       "      <td>France</td>\n",
       "      <td>Consulat suisse</td>\n",
       "      <td>1</td>\n",
       "      <td>Personnel Lip</td>\n",
       "    </tr>\n",
       "    <tr>\n",
       "      <th>110</th>\n",
       "      <td>Personnel Lip</td>\n",
       "      <td>1973-05-18</td>\n",
       "      <td>France</td>\n",
       "      <td>Morteau, Villers-le-Lac, Consulat suisse</td>\n",
       "      <td>3</td>\n",
       "      <td>Personnel Lip</td>\n",
       "    </tr>\n",
       "    <tr>\n",
       "      <th>111</th>\n",
       "      <td>Personnel Lip</td>\n",
       "      <td>1973-05-29</td>\n",
       "      <td>France</td>\n",
       "      <td>Consulat suisse</td>\n",
       "      <td>1</td>\n",
       "      <td>Personnel Lip</td>\n",
       "    </tr>\n",
       "    <tr>\n",
       "      <th>112</th>\n",
       "      <td>Personnel Lip</td>\n",
       "      <td>1973-06-15</td>\n",
       "      <td>France</td>\n",
       "      <td>Place Battant</td>\n",
       "      <td>1</td>\n",
       "      <td>Personnel Lip</td>\n",
       "    </tr>\n",
       "    <tr>\n",
       "      <th>113</th>\n",
       "      <td>Personnel Lip</td>\n",
       "      <td>1973-06-23</td>\n",
       "      <td>Suisse</td>\n",
       "      <td>Place de la Gare, Maison du Peuple</td>\n",
       "      <td>2</td>\n",
       "      <td>Personnel Lip</td>\n",
       "    </tr>\n",
       "    <tr>\n",
       "      <th>114</th>\n",
       "      <td>Personnel Lip</td>\n",
       "      <td>1973-08-14</td>\n",
       "      <td>France</td>\n",
       "      <td>Usine Lip</td>\n",
       "      <td>1</td>\n",
       "      <td>Personnel Lip</td>\n",
       "    </tr>\n",
       "    <tr>\n",
       "      <th>115</th>\n",
       "      <td>Personnel Lip</td>\n",
       "      <td>1973-09-29</td>\n",
       "      <td>France</td>\n",
       "      <td>Châteaufarine</td>\n",
       "      <td>1</td>\n",
       "      <td>Personnel Lip</td>\n",
       "    </tr>\n",
       "    <tr>\n",
       "      <th>116</th>\n",
       "      <td>Rupture pour le communisme</td>\n",
       "      <td>1973-08-23</td>\n",
       "      <td>Suisse</td>\n",
       "      <td>Salle des 22-Cantons</td>\n",
       "      <td>1</td>\n",
       "      <td>Rupture pour le communisme</td>\n",
       "    </tr>\n",
       "    <tr>\n",
       "      <th>117</th>\n",
       "      <td>Typographia section Zürich</td>\n",
       "      <td>1973-08-31</td>\n",
       "      <td>Suisse</td>\n",
       "      <td>Volkshaus</td>\n",
       "      <td>1</td>\n",
       "      <td>Typographia section Zürich</td>\n",
       "    </tr>\n",
       "  </tbody>\n",
       "</table>\n",
       "</div>"
      ],
      "text/plain": [
       "                          nom_organis        date    pays  \\\n",
       "108  Parti socialiste ville de Zürich  1973-08-31  Suisse   \n",
       "109                     Personnel Lip  1973-05-10  France   \n",
       "110                     Personnel Lip  1973-05-18  France   \n",
       "111                     Personnel Lip  1973-05-29  France   \n",
       "112                     Personnel Lip  1973-06-15  France   \n",
       "113                     Personnel Lip  1973-06-23  Suisse   \n",
       "114                     Personnel Lip  1973-08-14  France   \n",
       "115                     Personnel Lip  1973-09-29  France   \n",
       "116        Rupture pour le communisme  1973-08-23  Suisse   \n",
       "117        Typographia section Zürich  1973-08-31  Suisse   \n",
       "\n",
       "                                   noms_lieux  effectif  \\\n",
       "108                                 Volkshaus         1   \n",
       "109                           Consulat suisse         1   \n",
       "110  Morteau, Villers-le-Lac, Consulat suisse         3   \n",
       "111                           Consulat suisse         1   \n",
       "112                             Place Battant         1   \n",
       "113        Place de la Gare, Maison du Peuple         2   \n",
       "114                                 Usine Lip         1   \n",
       "115                             Châteaufarine         1   \n",
       "116                      Salle des 22-Cantons         1   \n",
       "117                                 Volkshaus         1   \n",
       "\n",
       "                        nom_organis_break  \n",
       "108  Parti socialiste ville de Zürich<br>  \n",
       "109                        Personnel Lip   \n",
       "110                        Personnel Lip   \n",
       "111                        Personnel Lip   \n",
       "112                        Personnel Lip   \n",
       "113                        Personnel Lip   \n",
       "114                        Personnel Lip   \n",
       "115                        Personnel Lip   \n",
       "116           Rupture pour le communisme   \n",
       "117           Typographia section Zürich   "
      ]
     },
     "execution_count": 202,
     "metadata": {},
     "output_type": "execute_result"
    }
   ],
   "source": [
    "g1_q1['nom_organis_break'] = g1_q1.nom_organis.apply(lambda x: splitTextToNWords(x, 5))\n",
    "g1_q1.columns=[\t'nom_organis','date','pays','noms_lieux', 'effectif','nom_organis_break']\n",
    "g1_q1.tail(10)"
   ]
  },
  {
   "cell_type": "code",
   "execution_count": 209,
   "id": "d2a7394b",
   "metadata": {},
   "outputs": [
    {
     "name": "stdout",
     "output_type": "stream",
     "text": [
      "\n"
     ]
    },
    {
     "data": {
      "application/vnd.plotly.v1+json": {
       "config": {
        "plotlyServerURL": "https://plot.ly"
       },
       "data": [
        {
         "customdata": [
          [
           1,
           "Canton du Jura"
          ],
          [
           1,
           "Place du Port"
          ],
          [
           2,
           "Place de la Gare, Maison du Peuple"
          ],
          [
           1,
           "Salle communale de Plainpalais"
          ],
          [
           1,
           "Maison du Peuple"
          ],
          [
           2,
           "Place de la Gare, Maison du Peuple"
          ],
          [
           1,
           "Place de la Gare"
          ],
          [
           1,
           "Canton du Jura"
          ],
          [
           1,
           "Place de la Gare"
          ],
          [
           1,
           "Place de la Gare"
          ],
          [
           1,
           "Place du Port"
          ],
          [
           2,
           "Maison du Peuple, Café Saint-Gervais"
          ],
          [
           1,
           "Maison du Peuple"
          ],
          [
           2,
           "Place de la Gare, Maison du Peuple"
          ],
          [
           1,
           "Place de la Gare"
          ],
          [
           1,
           "Salle des 22-Cantons"
          ],
          [
           2,
           "Maison du Peuple, Café Saint-Gervais"
          ],
          [
           1,
           "Maison du Peuple"
          ],
          [
           2,
           "Place de la Gare, Maison du Peuple"
          ],
          [
           1,
           "Canton du Jura"
          ],
          [
           1,
           "Place de la Gare"
          ],
          [
           1,
           "Hôtel du Soleil"
          ],
          [
           1,
           "Place de la Gare"
          ],
          [
           1,
           "Place de la Gare"
          ],
          [
           2,
           "Place de la Gare, Maison du Peuple"
          ],
          [
           1,
           "Volkshaus"
          ],
          [
           1,
           "Salle communale de Plainpalais"
          ],
          [
           1,
           "Delémont"
          ],
          [
           1,
           "Hôtel du Soleil"
          ],
          [
           1,
           "Salle communale de Plainpalais"
          ],
          [
           1,
           "Delémont"
          ],
          [
           1,
           "Place de la Gare"
          ],
          [
           1,
           "Volkshaus"
          ],
          [
           1,
           "Place de la Gare"
          ],
          [
           1,
           "Cercle des Travailleurs"
          ],
          [
           1,
           "Maison du Peuple"
          ],
          [
           1,
           "Place de la Gare"
          ],
          [
           1,
           "Salle communale de Plainpalais"
          ],
          [
           1,
           "Hôtel du Soleil"
          ],
          [
           1,
           "Place de l'Hôtel communal"
          ],
          [
           1,
           "Volkshaus"
          ],
          [
           1,
           "Place de la Gare"
          ],
          [
           2,
           "Place de la Gare, Maison du Peuple"
          ],
          [
           1,
           "Hôtel du Soleil"
          ],
          [
           1,
           "Canton du Jura"
          ],
          [
           2,
           "Place de la Gare, Maison du Peuple"
          ],
          [
           1,
           "Place de l'Hôtel communal"
          ],
          [
           2,
           "Maison du Peuple, Café Saint-Gervais"
          ],
          [
           1,
           "Maison du Peuple"
          ],
          [
           2,
           "Place de la Gare, Maison du Peuple"
          ],
          [
           1,
           "Canton du Jura"
          ],
          [
           1,
           "Place de la Gare"
          ],
          [
           1,
           "Salle des 22-Cantons"
          ],
          [
           1,
           "Volkshaus"
          ],
          [
           1,
           "Hôtel du Soleil"
          ],
          [
           1,
           "Maison du Peuple"
          ],
          [
           1,
           "Buffet de la gare"
          ],
          [
           1,
           "Cercle des Travailleurs"
          ],
          [
           1,
           "Place de la Gare"
          ],
          [
           2,
           "Cercle des Travailleurs, Cercle des Travailleurs"
          ],
          [
           1,
           "Place de la Gare"
          ],
          [
           1,
           "Cercle des Travailleurs"
          ],
          [
           1,
           "Place de la Gare"
          ],
          [
           1,
           "Place de la Gare"
          ],
          [
           1,
           "Hôtel du Soleil"
          ],
          [
           1,
           "Canton du Jura"
          ],
          [
           1,
           "Salle des 22-Cantons"
          ],
          [
           1,
           "Hôtel du Soleil"
          ],
          [
           1,
           "Place de la Gare"
          ],
          [
           2,
           "Place de la Gare, Maison du Peuple"
          ],
          [
           1,
           "Place de la Gare"
          ],
          [
           1,
           "Maison du Peuple"
          ],
          [
           1,
           "Maison du Peuple"
          ],
          [
           1,
           "Canton du Jura"
          ],
          [
           1,
           "Place de la Gare"
          ],
          [
           1,
           "Hôtel du Soleil"
          ],
          [
           1,
           "Place de la Gare"
          ],
          [
           1,
           "Salle des 22-Cantons"
          ],
          [
           2,
           "Place de la Gare, Maison du Peuple"
          ],
          [
           1,
           "Salle des 22-Cantons"
          ],
          [
           1,
           "Volkshaus"
          ],
          [
           2,
           "Place de la Gare, Maison du Peuple"
          ],
          [
           1,
           "Salle des 22-Cantons"
          ],
          [
           1,
           "Volkshaus"
          ]
         ],
         "hovertemplate": "pays=Suisse<br>date=%{x}<br>nom_organis_break=%{y}<br>effectif=%{customdata[0]}<br>noms_lieux=%{customdata[1]}<extra></extra>",
         "legendgroup": "Suisse",
         "marker": {
          "color": "#ff3333",
          "size": [
           1,
           1,
           2,
           1,
           1,
           2,
           1,
           1,
           1,
           1,
           1,
           2,
           1,
           2,
           1,
           1,
           2,
           1,
           2,
           1,
           1,
           1,
           1,
           1,
           2,
           1,
           1,
           1,
           1,
           1,
           1,
           1,
           1,
           1,
           1,
           1,
           1,
           1,
           1,
           1,
           1,
           1,
           2,
           1,
           1,
           2,
           1,
           2,
           1,
           2,
           1,
           1,
           1,
           1,
           1,
           1,
           1,
           1,
           1,
           2,
           1,
           1,
           1,
           1,
           1,
           1,
           1,
           1,
           1,
           2,
           1,
           1,
           1,
           1,
           1,
           1,
           1,
           1,
           2,
           1,
           1,
           2,
           1,
           1
          ],
          "sizemode": "area",
          "sizeref": 0.013333333333333334,
          "symbol": "circle"
         },
         "mode": "markers",
         "name": "Suisse",
         "orientation": "v",
         "showlegend": true,
         "type": "scatter",
         "x": [
          "1973-08-16",
          "1973-05-18",
          "1973-06-23",
          "1973-08-22",
          "1973-06-27",
          "1973-06-23",
          "1973-08-17",
          "1973-08-16",
          "1973-08-18",
          "1973-08-18",
          "1973-05-18",
          "1973-06-20",
          "1973-06-21",
          "1973-06-23",
          "1973-08-18",
          "1973-08-23",
          "1973-06-20",
          "1973-06-21",
          "1973-06-23",
          "1973-08-16",
          "1973-08-18",
          "1973-09-05",
          "1973-08-18",
          "1973-08-18",
          "1973-06-23",
          "1973-08-31",
          "1973-08-22",
          "1973-08-24",
          "1973-09-05",
          "1973-08-22",
          "1973-08-24",
          "1973-08-17",
          "1973-08-31",
          "1973-08-18",
          "1973-05-25",
          "1973-06-20",
          "1973-08-18",
          "1973-08-22",
          "1973-09-05",
          "1973-05-28",
          "1973-08-31",
          "1973-08-18",
          "1973-06-23",
          "1973-09-05",
          "1973-08-16",
          "1973-06-23",
          "1973-05-28",
          "1973-06-20",
          "1973-06-21",
          "1973-06-23",
          "1973-08-16",
          "1973-08-17",
          "1973-08-23",
          "1973-08-31",
          "1973-09-05",
          "1973-10-19",
          "1973-10-25",
          "1973-05-25",
          "1973-08-18",
          "1973-05-25",
          "1973-08-18",
          "1973-05-25",
          "1973-08-18",
          "1973-08-18",
          "1973-09-05",
          "1973-08-16",
          "1973-08-23",
          "1973-09-05",
          "1973-08-17",
          "1973-06-23",
          "1973-08-18",
          "1973-06-27",
          "1973-06-27",
          "1973-08-16",
          "1973-08-18",
          "1973-09-05",
          "1973-08-17",
          "1973-08-23",
          "1973-06-23",
          "1973-08-23",
          "1973-08-31",
          "1973-06-23",
          "1973-08-23",
          "1973-08-31"
         ],
         "xaxis": "x",
         "y": [
          "Action socialiste ",
          "CFDT-Lip",
          "CFDT-Lip",
          "CFDT-Lip",
          "CGT",
          "CGT-Lip",
          "Cartel syndical neuchâtelois ",
          "Colonies libres italiennes ",
          "Colonies libres italiennes section Bienne<br>",
          "Colonies libres italiennes section Delémont<br>",
          "Comité d'action (CA) ",
          "Comité d'action (CA) ",
          "Comité d'action (CA) ",
          "Comité d'action (CA) ",
          "Comité de lutte ouvrière ",
          "Comité de soutien aux travailleurs<br>de Lip en lutte ",
          "Comité de travailleurs horlogerie -<br>métallurgie (Comité de soutien à<br>Lip Bienne - Jura -<br>Neuchâtel) ",
          "Comité de travailleurs horlogerie -<br>métallurgie (Comité de soutien à<br>Lip Bienne - Jura -<br>Neuchâtel) ",
          "Comité de travailleurs horlogerie -<br>métallurgie (Comité de soutien à<br>Lip Bienne - Jura -<br>Neuchâtel) ",
          "Comité de travailleurs horlogerie -<br>métallurgie (Comité de soutien à<br>Lip Bienne - Jura -<br>Neuchâtel) ",
          "Comité de travailleurs horlogerie -<br>métallurgie (Comité de soutien à<br>Lip Bienne - Jura -<br>Neuchâtel) ",
          "Comité de travailleurs horlogerie -<br>métallurgie (Comité de soutien à<br>Lip Bienne - Jura -<br>Neuchâtel) ",
          "Comité du Parti socialiste romand<br>",
          "Comité du Parti socialiste section<br>Bienne ",
          "FOBB section Jura ",
          "FOBB section Zürich ",
          "FTMH section Genève ",
          "Fédération chrétienne des ouvriers sur<br>métaux (FCOM) ",
          "Fédération chrétienne des ouvriers sur<br>métaux (FCOM) ",
          "Fédération internaionale des organisations des<br>travailleurs de la metallurgie (FIOM)<br>",
          "Fédération jurassienne des syndicats chrétiens<br>(FJSC) ",
          "Fédération neuchâteloise des travailleurs du<br>commerce, des transports et de<br>l'alimentation (FCTA) ",
          "Fédération suisse du personnel des<br>services publics section Zürich ",
          "Groupe de travailleurs FOBB ",
          "Groupe de travailleurs FTMH ",
          "Groupe de travailleurs FTMH ",
          "Groupe de travailleurs FTMH ",
          "Groupe de travailleurs FTMH ",
          "Groupe de travailleurs FTMH ",
          "Groupe de travailleurs Lip ",
          "Groupe de travailleurs Lip ",
          "Groupe de travailleurs VPOD ",
          "Groupe de typographe zürichois ",
          "Jeunesse Ouvrière Chrétienne ",
          "Jeunesse chrétienne rurale ",
          "Ligue communiste française ",
          "Ligue marxiste révolutionnaire (LMR) ",
          "Ligue marxiste révolutionnaire (LMR) ",
          "Ligue marxiste révolutionnaire (LMR) ",
          "Ligue marxiste révolutionnaire (LMR) ",
          "Ligue marxiste révolutionnaire (LMR) ",
          "Ligue marxiste révolutionnaire (LMR) ",
          "Ligue marxiste révolutionnaire (LMR) ",
          "Ligue marxiste révolutionnaire (LMR) ",
          "Ligue marxiste révolutionnaire (LMR) ",
          "Ligue marxiste révolutionnaire (LMR) ",
          "Ligue marxiste révolutionnaire (LMR) ",
          "Ligue marxiste révolutionnaire section Bienne<br>",
          "Ligue marxiste révolutionnaire section Bienne<br>",
          "Ligue marxiste révolutionnaire section Delémont<br>",
          "Ligue marxiste révolutionnaire section Delémont<br>",
          "Ligue marxiste révolutionnaire section Neuchâtel<br>",
          "Ligue marxiste révolutionnaire section Neuchâtel<br>",
          "Lutte prolétaire Bienne ",
          "Mouvemen populaire des familles ",
          "POP",
          "POP",
          "POP",
          "POP neuchâtelois ",
          "POP section Bienne ",
          "POP section Bienne ",
          "POP section La Chaux-de-Fonds ",
          "Parti communiste français (PCF) ",
          "Parti communiste italien ",
          "Parti communiste italien section Delémont<br>",
          "Parti socialiste jurassien ",
          "Parti socialiste neuchâtelois ",
          "Parti socialiste section Lausanne ",
          "Parti socialiste unifié français (PSU)<br>",
          "Parti socialiste vaudois ",
          "Parti socialiste ville de Zürich<br>",
          "Personnel Lip ",
          "Rupture pour le communisme ",
          "Typographia section Zürich "
         ],
         "yaxis": "y"
        },
        {
         "customdata": [
          [
           1,
           "Châteaufarine"
          ],
          [
           1,
           "Consulat suisse"
          ],
          [
           1,
           "Place Saint-Pierre"
          ],
          [
           1,
           "Usine Lip"
          ],
          [
           1,
           "Usine Lip"
          ],
          [
           1,
           "Place Battant"
          ],
          [
           1,
           "Usine Lip"
          ],
          [
           1,
           "Châteaufarine"
          ],
          [
           1,
           "Châteaufarine"
          ],
          [
           1,
           "Consulat suisse"
          ],
          [
           1,
           "Place Saint-Pierre"
          ],
          [
           1,
           "Usine Lip"
          ],
          [
           1,
           "Place Battant"
          ],
          [
           1,
           "Usine Lip"
          ],
          [
           1,
           "Châteaufarine"
          ],
          [
           1,
           "Usine Lip"
          ],
          [
           1,
           "Usine Lip"
          ],
          [
           1,
           "Place Battant"
          ],
          [
           1,
           "Châteaufarine"
          ],
          [
           1,
           "Place Saint-Pierre"
          ],
          [
           1,
           "Châteaufarine"
          ],
          [
           2,
           "Usine Lip, Usine Lip"
          ],
          [
           1,
           "Porte d'Italie"
          ],
          [
           1,
           "Usine Lip"
          ],
          [
           1,
           "Usine Lip"
          ],
          [
           1,
           "Châteaufarine"
          ],
          [
           1,
           "Châteaufarine"
          ],
          [
           1,
           "Châteaufarine"
          ],
          [
           1,
           "Consulat suisse"
          ],
          [
           3,
           "Morteau, Villers-le-Lac, Consulat suisse"
          ],
          [
           1,
           "Consulat suisse"
          ],
          [
           1,
           "Place Battant"
          ],
          [
           1,
           "Usine Lip"
          ],
          [
           1,
           "Châteaufarine"
          ]
         ],
         "hovertemplate": "pays=France<br>date=%{x}<br>nom_organis_break=%{y}<br>effectif=%{customdata[0]}<br>noms_lieux=%{customdata[1]}<extra></extra>",
         "legendgroup": "France",
         "marker": {
          "color": "#3333ff",
          "size": [
           1,
           1,
           1,
           1,
           1,
           1,
           1,
           1,
           1,
           1,
           1,
           1,
           1,
           1,
           1,
           1,
           1,
           1,
           1,
           1,
           1,
           2,
           1,
           1,
           1,
           1,
           1,
           1,
           1,
           3,
           1,
           1,
           1,
           1
          ],
          "sizemode": "area",
          "sizeref": 0.013333333333333334,
          "symbol": "circle"
         },
         "mode": "markers",
         "name": "France",
         "orientation": "v",
         "showlegend": true,
         "type": "scatter",
         "x": [
          "1973-09-29",
          "1973-05-10",
          "1973-05-24",
          "1973-06-12",
          "1973-06-13",
          "1973-06-15",
          "1973-08-14",
          "1973-09-29",
          "1973-09-29",
          "1973-05-10",
          "1973-05-24",
          "1973-06-13",
          "1973-06-15",
          "1973-08-14",
          "1973-09-29",
          "1973-06-12",
          "1973-06-13",
          "1973-06-15",
          "1973-09-29",
          "1973-05-24",
          "1973-09-29",
          "1973-06-12",
          "1973-05-29",
          "1973-06-10",
          "1973-06-12",
          "1973-09-29",
          "1973-09-29",
          "1973-09-29",
          "1973-05-10",
          "1973-05-18",
          "1973-05-29",
          "1973-06-15",
          "1973-08-14",
          "1973-09-29"
         ],
         "xaxis": "x",
         "y": [
          "CFDT",
          "CFDT-Lip",
          "CFDT-Lip",
          "CFDT-Lip",
          "CFDT-Lip",
          "CFDT-Lip",
          "CFDT-Lip",
          "CFDT-Lip",
          "CGT",
          "CGT-Lip",
          "CGT-Lip",
          "CGT-Lip",
          "CGT-Lip",
          "CGT-Lip",
          "CGT-Lip",
          "Comité d'action (CA) ",
          "Comité d'action (CA) ",
          "Comité d'action (CA) ",
          "Comité d'action (CA) ",
          "Comité de travailleurs horlogerie -<br>métallurgie (Comité de soutien à<br>Lip Bienne - Jura -<br>Neuchâtel) ",
          "Comité d’action syndicale Lausanne (C.A.S)<br>",
          "Groupe de travailleurs CGT-Lip ",
          "Groupe de travailleurs Lip ",
          "Groupe de travailleurs Lip ",
          "Groupe de travailleurs Lip ",
          "Ligue marxiste révolutionnaire (LMR) ",
          "Parti communiste français (PCF) ",
          "Parti socialiste unifié français (PSU)<br>",
          "Personnel Lip ",
          "Personnel Lip ",
          "Personnel Lip ",
          "Personnel Lip ",
          "Personnel Lip ",
          "Personnel Lip "
         ],
         "yaxis": "y"
        }
       ],
       "layout": {
        "autosize": false,
        "height": 2000,
        "legend": {
         "itemsizing": "constant",
         "title": {
          "text": "pays"
         },
         "tracegroupgap": 0,
         "x": 0.01
        },
        "margin": {
         "b": 20,
         "l": 20,
         "r": 20,
         "t": 20
        },
        "paper_bgcolor": "LightSteelBlue",
        "template": {
         "data": {
          "bar": [
           {
            "error_x": {
             "color": "#2a3f5f"
            },
            "error_y": {
             "color": "#2a3f5f"
            },
            "marker": {
             "line": {
              "color": "#E5ECF6",
              "width": 0.5
             },
             "pattern": {
              "fillmode": "overlay",
              "size": 10,
              "solidity": 0.2
             }
            },
            "type": "bar"
           }
          ],
          "barpolar": [
           {
            "marker": {
             "line": {
              "color": "#E5ECF6",
              "width": 0.5
             },
             "pattern": {
              "fillmode": "overlay",
              "size": 10,
              "solidity": 0.2
             }
            },
            "type": "barpolar"
           }
          ],
          "carpet": [
           {
            "aaxis": {
             "endlinecolor": "#2a3f5f",
             "gridcolor": "white",
             "linecolor": "white",
             "minorgridcolor": "white",
             "startlinecolor": "#2a3f5f"
            },
            "baxis": {
             "endlinecolor": "#2a3f5f",
             "gridcolor": "white",
             "linecolor": "white",
             "minorgridcolor": "white",
             "startlinecolor": "#2a3f5f"
            },
            "type": "carpet"
           }
          ],
          "choropleth": [
           {
            "colorbar": {
             "outlinewidth": 0,
             "ticks": ""
            },
            "type": "choropleth"
           }
          ],
          "contour": [
           {
            "colorbar": {
             "outlinewidth": 0,
             "ticks": ""
            },
            "colorscale": [
             [
              0,
              "#0d0887"
             ],
             [
              0.1111111111111111,
              "#46039f"
             ],
             [
              0.2222222222222222,
              "#7201a8"
             ],
             [
              0.3333333333333333,
              "#9c179e"
             ],
             [
              0.4444444444444444,
              "#bd3786"
             ],
             [
              0.5555555555555556,
              "#d8576b"
             ],
             [
              0.6666666666666666,
              "#ed7953"
             ],
             [
              0.7777777777777778,
              "#fb9f3a"
             ],
             [
              0.8888888888888888,
              "#fdca26"
             ],
             [
              1,
              "#f0f921"
             ]
            ],
            "type": "contour"
           }
          ],
          "contourcarpet": [
           {
            "colorbar": {
             "outlinewidth": 0,
             "ticks": ""
            },
            "type": "contourcarpet"
           }
          ],
          "heatmap": [
           {
            "colorbar": {
             "outlinewidth": 0,
             "ticks": ""
            },
            "colorscale": [
             [
              0,
              "#0d0887"
             ],
             [
              0.1111111111111111,
              "#46039f"
             ],
             [
              0.2222222222222222,
              "#7201a8"
             ],
             [
              0.3333333333333333,
              "#9c179e"
             ],
             [
              0.4444444444444444,
              "#bd3786"
             ],
             [
              0.5555555555555556,
              "#d8576b"
             ],
             [
              0.6666666666666666,
              "#ed7953"
             ],
             [
              0.7777777777777778,
              "#fb9f3a"
             ],
             [
              0.8888888888888888,
              "#fdca26"
             ],
             [
              1,
              "#f0f921"
             ]
            ],
            "type": "heatmap"
           }
          ],
          "heatmapgl": [
           {
            "colorbar": {
             "outlinewidth": 0,
             "ticks": ""
            },
            "colorscale": [
             [
              0,
              "#0d0887"
             ],
             [
              0.1111111111111111,
              "#46039f"
             ],
             [
              0.2222222222222222,
              "#7201a8"
             ],
             [
              0.3333333333333333,
              "#9c179e"
             ],
             [
              0.4444444444444444,
              "#bd3786"
             ],
             [
              0.5555555555555556,
              "#d8576b"
             ],
             [
              0.6666666666666666,
              "#ed7953"
             ],
             [
              0.7777777777777778,
              "#fb9f3a"
             ],
             [
              0.8888888888888888,
              "#fdca26"
             ],
             [
              1,
              "#f0f921"
             ]
            ],
            "type": "heatmapgl"
           }
          ],
          "histogram": [
           {
            "marker": {
             "pattern": {
              "fillmode": "overlay",
              "size": 10,
              "solidity": 0.2
             }
            },
            "type": "histogram"
           }
          ],
          "histogram2d": [
           {
            "colorbar": {
             "outlinewidth": 0,
             "ticks": ""
            },
            "colorscale": [
             [
              0,
              "#0d0887"
             ],
             [
              0.1111111111111111,
              "#46039f"
             ],
             [
              0.2222222222222222,
              "#7201a8"
             ],
             [
              0.3333333333333333,
              "#9c179e"
             ],
             [
              0.4444444444444444,
              "#bd3786"
             ],
             [
              0.5555555555555556,
              "#d8576b"
             ],
             [
              0.6666666666666666,
              "#ed7953"
             ],
             [
              0.7777777777777778,
              "#fb9f3a"
             ],
             [
              0.8888888888888888,
              "#fdca26"
             ],
             [
              1,
              "#f0f921"
             ]
            ],
            "type": "histogram2d"
           }
          ],
          "histogram2dcontour": [
           {
            "colorbar": {
             "outlinewidth": 0,
             "ticks": ""
            },
            "colorscale": [
             [
              0,
              "#0d0887"
             ],
             [
              0.1111111111111111,
              "#46039f"
             ],
             [
              0.2222222222222222,
              "#7201a8"
             ],
             [
              0.3333333333333333,
              "#9c179e"
             ],
             [
              0.4444444444444444,
              "#bd3786"
             ],
             [
              0.5555555555555556,
              "#d8576b"
             ],
             [
              0.6666666666666666,
              "#ed7953"
             ],
             [
              0.7777777777777778,
              "#fb9f3a"
             ],
             [
              0.8888888888888888,
              "#fdca26"
             ],
             [
              1,
              "#f0f921"
             ]
            ],
            "type": "histogram2dcontour"
           }
          ],
          "mesh3d": [
           {
            "colorbar": {
             "outlinewidth": 0,
             "ticks": ""
            },
            "type": "mesh3d"
           }
          ],
          "parcoords": [
           {
            "line": {
             "colorbar": {
              "outlinewidth": 0,
              "ticks": ""
             }
            },
            "type": "parcoords"
           }
          ],
          "pie": [
           {
            "automargin": true,
            "type": "pie"
           }
          ],
          "scatter": [
           {
            "fillpattern": {
             "fillmode": "overlay",
             "size": 10,
             "solidity": 0.2
            },
            "type": "scatter"
           }
          ],
          "scatter3d": [
           {
            "line": {
             "colorbar": {
              "outlinewidth": 0,
              "ticks": ""
             }
            },
            "marker": {
             "colorbar": {
              "outlinewidth": 0,
              "ticks": ""
             }
            },
            "type": "scatter3d"
           }
          ],
          "scattercarpet": [
           {
            "marker": {
             "colorbar": {
              "outlinewidth": 0,
              "ticks": ""
             }
            },
            "type": "scattercarpet"
           }
          ],
          "scattergeo": [
           {
            "marker": {
             "colorbar": {
              "outlinewidth": 0,
              "ticks": ""
             }
            },
            "type": "scattergeo"
           }
          ],
          "scattergl": [
           {
            "marker": {
             "colorbar": {
              "outlinewidth": 0,
              "ticks": ""
             }
            },
            "type": "scattergl"
           }
          ],
          "scattermapbox": [
           {
            "marker": {
             "colorbar": {
              "outlinewidth": 0,
              "ticks": ""
             }
            },
            "type": "scattermapbox"
           }
          ],
          "scatterpolar": [
           {
            "marker": {
             "colorbar": {
              "outlinewidth": 0,
              "ticks": ""
             }
            },
            "type": "scatterpolar"
           }
          ],
          "scatterpolargl": [
           {
            "marker": {
             "colorbar": {
              "outlinewidth": 0,
              "ticks": ""
             }
            },
            "type": "scatterpolargl"
           }
          ],
          "scatterternary": [
           {
            "marker": {
             "colorbar": {
              "outlinewidth": 0,
              "ticks": ""
             }
            },
            "type": "scatterternary"
           }
          ],
          "surface": [
           {
            "colorbar": {
             "outlinewidth": 0,
             "ticks": ""
            },
            "colorscale": [
             [
              0,
              "#0d0887"
             ],
             [
              0.1111111111111111,
              "#46039f"
             ],
             [
              0.2222222222222222,
              "#7201a8"
             ],
             [
              0.3333333333333333,
              "#9c179e"
             ],
             [
              0.4444444444444444,
              "#bd3786"
             ],
             [
              0.5555555555555556,
              "#d8576b"
             ],
             [
              0.6666666666666666,
              "#ed7953"
             ],
             [
              0.7777777777777778,
              "#fb9f3a"
             ],
             [
              0.8888888888888888,
              "#fdca26"
             ],
             [
              1,
              "#f0f921"
             ]
            ],
            "type": "surface"
           }
          ],
          "table": [
           {
            "cells": {
             "fill": {
              "color": "#EBF0F8"
             },
             "line": {
              "color": "white"
             }
            },
            "header": {
             "fill": {
              "color": "#C8D4E3"
             },
             "line": {
              "color": "white"
             }
            },
            "type": "table"
           }
          ]
         },
         "layout": {
          "annotationdefaults": {
           "arrowcolor": "#2a3f5f",
           "arrowhead": 0,
           "arrowwidth": 1
          },
          "autotypenumbers": "strict",
          "coloraxis": {
           "colorbar": {
            "outlinewidth": 0,
            "ticks": ""
           }
          },
          "colorscale": {
           "diverging": [
            [
             0,
             "#8e0152"
            ],
            [
             0.1,
             "#c51b7d"
            ],
            [
             0.2,
             "#de77ae"
            ],
            [
             0.3,
             "#f1b6da"
            ],
            [
             0.4,
             "#fde0ef"
            ],
            [
             0.5,
             "#f7f7f7"
            ],
            [
             0.6,
             "#e6f5d0"
            ],
            [
             0.7,
             "#b8e186"
            ],
            [
             0.8,
             "#7fbc41"
            ],
            [
             0.9,
             "#4d9221"
            ],
            [
             1,
             "#276419"
            ]
           ],
           "sequential": [
            [
             0,
             "#0d0887"
            ],
            [
             0.1111111111111111,
             "#46039f"
            ],
            [
             0.2222222222222222,
             "#7201a8"
            ],
            [
             0.3333333333333333,
             "#9c179e"
            ],
            [
             0.4444444444444444,
             "#bd3786"
            ],
            [
             0.5555555555555556,
             "#d8576b"
            ],
            [
             0.6666666666666666,
             "#ed7953"
            ],
            [
             0.7777777777777778,
             "#fb9f3a"
            ],
            [
             0.8888888888888888,
             "#fdca26"
            ],
            [
             1,
             "#f0f921"
            ]
           ],
           "sequentialminus": [
            [
             0,
             "#0d0887"
            ],
            [
             0.1111111111111111,
             "#46039f"
            ],
            [
             0.2222222222222222,
             "#7201a8"
            ],
            [
             0.3333333333333333,
             "#9c179e"
            ],
            [
             0.4444444444444444,
             "#bd3786"
            ],
            [
             0.5555555555555556,
             "#d8576b"
            ],
            [
             0.6666666666666666,
             "#ed7953"
            ],
            [
             0.7777777777777778,
             "#fb9f3a"
            ],
            [
             0.8888888888888888,
             "#fdca26"
            ],
            [
             1,
             "#f0f921"
            ]
           ]
          },
          "colorway": [
           "#636efa",
           "#EF553B",
           "#00cc96",
           "#ab63fa",
           "#FFA15A",
           "#19d3f3",
           "#FF6692",
           "#B6E880",
           "#FF97FF",
           "#FECB52"
          ],
          "font": {
           "color": "#2a3f5f"
          },
          "geo": {
           "bgcolor": "white",
           "lakecolor": "white",
           "landcolor": "#E5ECF6",
           "showlakes": true,
           "showland": true,
           "subunitcolor": "white"
          },
          "hoverlabel": {
           "align": "left"
          },
          "hovermode": "closest",
          "mapbox": {
           "style": "light"
          },
          "paper_bgcolor": "white",
          "plot_bgcolor": "#E5ECF6",
          "polar": {
           "angularaxis": {
            "gridcolor": "white",
            "linecolor": "white",
            "ticks": ""
           },
           "bgcolor": "#E5ECF6",
           "radialaxis": {
            "gridcolor": "white",
            "linecolor": "white",
            "ticks": ""
           }
          },
          "scene": {
           "xaxis": {
            "backgroundcolor": "#E5ECF6",
            "gridcolor": "white",
            "gridwidth": 2,
            "linecolor": "white",
            "showbackground": true,
            "ticks": "",
            "zerolinecolor": "white"
           },
           "yaxis": {
            "backgroundcolor": "#E5ECF6",
            "gridcolor": "white",
            "gridwidth": 2,
            "linecolor": "white",
            "showbackground": true,
            "ticks": "",
            "zerolinecolor": "white"
           },
           "zaxis": {
            "backgroundcolor": "#E5ECF6",
            "gridcolor": "white",
            "gridwidth": 2,
            "linecolor": "white",
            "showbackground": true,
            "ticks": "",
            "zerolinecolor": "white"
           }
          },
          "shapedefaults": {
           "line": {
            "color": "#2a3f5f"
           }
          },
          "ternary": {
           "aaxis": {
            "gridcolor": "white",
            "linecolor": "white",
            "ticks": ""
           },
           "baxis": {
            "gridcolor": "white",
            "linecolor": "white",
            "ticks": ""
           },
           "bgcolor": "#E5ECF6",
           "caxis": {
            "gridcolor": "white",
            "linecolor": "white",
            "ticks": ""
           }
          },
          "title": {
           "x": 0.05
          },
          "xaxis": {
           "automargin": true,
           "gridcolor": "white",
           "linecolor": "white",
           "ticks": "",
           "title": {
            "standoff": 15
           },
           "zerolinecolor": "white",
           "zerolinewidth": 2
          },
          "yaxis": {
           "automargin": true,
           "gridcolor": "white",
           "linecolor": "white",
           "ticks": "",
           "title": {
            "standoff": 15
           },
           "zerolinecolor": "white",
           "zerolinewidth": 2
          }
         }
        },
        "width": 1400,
        "xaxis": {
         "anchor": "y",
         "domain": [
          0,
          1
         ],
         "tickangle": -60,
         "tickfont": {
          "color": "Black",
          "size": 9
         },
         "tickmode": "array",
         "ticktext": [
          "1973-08-16",
          "1973-09-29",
          "1973-05-10",
          "1973-05-18",
          "1973-05-24",
          "1973-06-12",
          "1973-06-13",
          "1973-06-15",
          "1973-06-23",
          "1973-08-14",
          "1973-08-22",
          "1973-09-29",
          "1973-06-27",
          "1973-09-29",
          "1973-05-10",
          "1973-05-24",
          "1973-06-13",
          "1973-06-15",
          "1973-06-23",
          "1973-08-14",
          "1973-09-29",
          "1973-08-17",
          "1973-08-16",
          "1973-08-18",
          "1973-08-18",
          "1973-05-18",
          "1973-06-12",
          "1973-06-13",
          "1973-06-15",
          "1973-06-20",
          "1973-06-21",
          "1973-06-23",
          "1973-09-29",
          "1973-08-18",
          "1973-08-23",
          "1973-05-24",
          "1973-06-20",
          "1973-06-21",
          "1973-06-23",
          "1973-08-16",
          "1973-08-18",
          "1973-09-05",
          "1973-08-18",
          "1973-08-18",
          "1973-09-29",
          "1973-06-23",
          "1973-08-31",
          "1973-08-22",
          "1973-08-24",
          "1973-09-05",
          "1973-08-22",
          "1973-08-24",
          "1973-08-17",
          "1973-08-31",
          "1973-06-12",
          "1973-08-18",
          "1973-05-25",
          "1973-06-20",
          "1973-08-18",
          "1973-08-22",
          "1973-09-05",
          "1973-05-28",
          "1973-05-29",
          "1973-06-10",
          "1973-06-12",
          "1973-08-31",
          "1973-08-18",
          "1973-06-23",
          "1973-09-05",
          "1973-08-16",
          "1973-06-23",
          "1973-05-28",
          "1973-06-20",
          "1973-06-21",
          "1973-06-23",
          "1973-08-16",
          "1973-08-17",
          "1973-08-23",
          "1973-08-31",
          "1973-09-05",
          "1973-09-29",
          "1973-10-19",
          "1973-10-25",
          "1973-05-25",
          "1973-08-18",
          "1973-05-25",
          "1973-08-18",
          "1973-05-25",
          "1973-08-18",
          "1973-08-18",
          "1973-09-05",
          "1973-08-16",
          "1973-08-23",
          "1973-09-05",
          "1973-08-17",
          "1973-06-23",
          "1973-08-18",
          "1973-06-27",
          "1973-06-27",
          "1973-09-29",
          "1973-08-16",
          "1973-08-18",
          "1973-09-05",
          "1973-08-17",
          "1973-08-23",
          "1973-06-23",
          "1973-09-29",
          "1973-08-23",
          "1973-08-31",
          "1973-05-10",
          "1973-05-18",
          "1973-05-29",
          "1973-06-15",
          "1973-06-23",
          "1973-08-14",
          "1973-09-29",
          "1973-08-23",
          "1973-08-31"
         ],
         "tickvals": [
          "1973-08-16",
          "1973-09-29",
          "1973-05-10",
          "1973-05-18",
          "1973-05-24",
          "1973-06-12",
          "1973-06-13",
          "1973-06-15",
          "1973-06-23",
          "1973-08-14",
          "1973-08-22",
          "1973-09-29",
          "1973-06-27",
          "1973-09-29",
          "1973-05-10",
          "1973-05-24",
          "1973-06-13",
          "1973-06-15",
          "1973-06-23",
          "1973-08-14",
          "1973-09-29",
          "1973-08-17",
          "1973-08-16",
          "1973-08-18",
          "1973-08-18",
          "1973-05-18",
          "1973-06-12",
          "1973-06-13",
          "1973-06-15",
          "1973-06-20",
          "1973-06-21",
          "1973-06-23",
          "1973-09-29",
          "1973-08-18",
          "1973-08-23",
          "1973-05-24",
          "1973-06-20",
          "1973-06-21",
          "1973-06-23",
          "1973-08-16",
          "1973-08-18",
          "1973-09-05",
          "1973-08-18",
          "1973-08-18",
          "1973-09-29",
          "1973-06-23",
          "1973-08-31",
          "1973-08-22",
          "1973-08-24",
          "1973-09-05",
          "1973-08-22",
          "1973-08-24",
          "1973-08-17",
          "1973-08-31",
          "1973-06-12",
          "1973-08-18",
          "1973-05-25",
          "1973-06-20",
          "1973-08-18",
          "1973-08-22",
          "1973-09-05",
          "1973-05-28",
          "1973-05-29",
          "1973-06-10",
          "1973-06-12",
          "1973-08-31",
          "1973-08-18",
          "1973-06-23",
          "1973-09-05",
          "1973-08-16",
          "1973-06-23",
          "1973-05-28",
          "1973-06-20",
          "1973-06-21",
          "1973-06-23",
          "1973-08-16",
          "1973-08-17",
          "1973-08-23",
          "1973-08-31",
          "1973-09-05",
          "1973-09-29",
          "1973-10-19",
          "1973-10-25",
          "1973-05-25",
          "1973-08-18",
          "1973-05-25",
          "1973-08-18",
          "1973-05-25",
          "1973-08-18",
          "1973-08-18",
          "1973-09-05",
          "1973-08-16",
          "1973-08-23",
          "1973-09-05",
          "1973-08-17",
          "1973-06-23",
          "1973-08-18",
          "1973-06-27",
          "1973-06-27",
          "1973-09-29",
          "1973-08-16",
          "1973-08-18",
          "1973-09-05",
          "1973-08-17",
          "1973-08-23",
          "1973-06-23",
          "1973-09-29",
          "1973-08-23",
          "1973-08-31",
          "1973-05-10",
          "1973-05-18",
          "1973-05-29",
          "1973-06-15",
          "1973-06-23",
          "1973-08-14",
          "1973-09-29",
          "1973-08-23",
          "1973-08-31"
         ],
         "title": {
          "text": "Date"
         }
        },
        "yaxis": {
         "anchor": "x",
         "domain": [
          0,
          1
         ],
         "tickangle": -10,
         "tickfont": {
          "color": "DarkBlue",
          "size": 9
         },
         "tickmode": "array",
         "ticktext": [
          "Action socialiste ",
          "CFDT",
          "CFDT-Lip",
          "CFDT-Lip",
          "CFDT-Lip",
          "CFDT-Lip",
          "CFDT-Lip",
          "CFDT-Lip",
          "CFDT-Lip",
          "CFDT-Lip",
          "CFDT-Lip",
          "CFDT-Lip",
          "CGT",
          "CGT",
          "CGT-Lip",
          "CGT-Lip",
          "CGT-Lip",
          "CGT-Lip",
          "CGT-Lip",
          "CGT-Lip",
          "CGT-Lip",
          "Cartel syndical neuchâtelois ",
          "Colonies libres italiennes ",
          "Colonies libres italiennes section Bienne<br>",
          "Colonies libres italiennes section Delémont<br>",
          "Comité d'action (CA) ",
          "Comité d'action (CA) ",
          "Comité d'action (CA) ",
          "Comité d'action (CA) ",
          "Comité d'action (CA) ",
          "Comité d'action (CA) ",
          "Comité d'action (CA) ",
          "Comité d'action (CA) ",
          "Comité de lutte ouvrière ",
          "Comité de soutien aux travailleurs<br>de Lip en lutte ",
          "Comité de travailleurs horlogerie -<br>métallurgie (Comité de soutien à<br>Lip Bienne - Jura -<br>Neuchâtel) ",
          "Comité de travailleurs horlogerie -<br>métallurgie (Comité de soutien à<br>Lip Bienne - Jura -<br>Neuchâtel) ",
          "Comité de travailleurs horlogerie -<br>métallurgie (Comité de soutien à<br>Lip Bienne - Jura -<br>Neuchâtel) ",
          "Comité de travailleurs horlogerie -<br>métallurgie (Comité de soutien à<br>Lip Bienne - Jura -<br>Neuchâtel) ",
          "Comité de travailleurs horlogerie -<br>métallurgie (Comité de soutien à<br>Lip Bienne - Jura -<br>Neuchâtel) ",
          "Comité de travailleurs horlogerie -<br>métallurgie (Comité de soutien à<br>Lip Bienne - Jura -<br>Neuchâtel) ",
          "Comité de travailleurs horlogerie -<br>métallurgie (Comité de soutien à<br>Lip Bienne - Jura -<br>Neuchâtel) ",
          "Comité du Parti socialiste romand<br>",
          "Comité du Parti socialiste section<br>Bienne ",
          "Comité d’action syndicale Lausanne (C.A.S)<br>",
          "FOBB section Jura ",
          "FOBB section Zürich ",
          "FTMH section Genève ",
          "Fédération chrétienne des ouvriers sur<br>métaux (FCOM) ",
          "Fédération chrétienne des ouvriers sur<br>métaux (FCOM) ",
          "Fédération internaionale des organisations des<br>travailleurs de la metallurgie (FIOM)<br>",
          "Fédération jurassienne des syndicats chrétiens<br>(FJSC) ",
          "Fédération neuchâteloise des travailleurs du<br>commerce, des transports et de<br>l'alimentation (FCTA) ",
          "Fédération suisse du personnel des<br>services publics section Zürich ",
          "Groupe de travailleurs CGT-Lip ",
          "Groupe de travailleurs FOBB ",
          "Groupe de travailleurs FTMH ",
          "Groupe de travailleurs FTMH ",
          "Groupe de travailleurs FTMH ",
          "Groupe de travailleurs FTMH ",
          "Groupe de travailleurs FTMH ",
          "Groupe de travailleurs Lip ",
          "Groupe de travailleurs Lip ",
          "Groupe de travailleurs Lip ",
          "Groupe de travailleurs Lip ",
          "Groupe de travailleurs Lip ",
          "Groupe de travailleurs VPOD ",
          "Groupe de typographe zürichois ",
          "Jeunesse Ouvrière Chrétienne ",
          "Jeunesse chrétienne rurale ",
          "Ligue communiste française ",
          "Ligue marxiste révolutionnaire (LMR) ",
          "Ligue marxiste révolutionnaire (LMR) ",
          "Ligue marxiste révolutionnaire (LMR) ",
          "Ligue marxiste révolutionnaire (LMR) ",
          "Ligue marxiste révolutionnaire (LMR) ",
          "Ligue marxiste révolutionnaire (LMR) ",
          "Ligue marxiste révolutionnaire (LMR) ",
          "Ligue marxiste révolutionnaire (LMR) ",
          "Ligue marxiste révolutionnaire (LMR) ",
          "Ligue marxiste révolutionnaire (LMR) ",
          "Ligue marxiste révolutionnaire (LMR) ",
          "Ligue marxiste révolutionnaire (LMR) ",
          "Ligue marxiste révolutionnaire section Bienne<br>",
          "Ligue marxiste révolutionnaire section Bienne<br>",
          "Ligue marxiste révolutionnaire section Delémont<br>",
          "Ligue marxiste révolutionnaire section Delémont<br>",
          "Ligue marxiste révolutionnaire section Neuchâtel<br>",
          "Ligue marxiste révolutionnaire section Neuchâtel<br>",
          "Lutte prolétaire Bienne ",
          "Mouvemen populaire des familles ",
          "POP",
          "POP",
          "POP",
          "POP neuchâtelois ",
          "POP section Bienne ",
          "POP section Bienne ",
          "POP section La Chaux-de-Fonds ",
          "Parti communiste français (PCF) ",
          "Parti communiste français (PCF) ",
          "Parti communiste italien ",
          "Parti communiste italien section Delémont<br>",
          "Parti socialiste jurassien ",
          "Parti socialiste neuchâtelois ",
          "Parti socialiste section Lausanne ",
          "Parti socialiste unifié français (PSU)<br>",
          "Parti socialiste unifié français (PSU)<br>",
          "Parti socialiste vaudois ",
          "Parti socialiste ville de Zürich<br>",
          "Personnel Lip ",
          "Personnel Lip ",
          "Personnel Lip ",
          "Personnel Lip ",
          "Personnel Lip ",
          "Personnel Lip ",
          "Personnel Lip ",
          "Rupture pour le communisme ",
          "Typographia section Zürich "
         ],
         "tickvals": [
          "Action socialiste ",
          "CFDT",
          "CFDT-Lip",
          "CFDT-Lip",
          "CFDT-Lip",
          "CFDT-Lip",
          "CFDT-Lip",
          "CFDT-Lip",
          "CFDT-Lip",
          "CFDT-Lip",
          "CFDT-Lip",
          "CFDT-Lip",
          "CGT",
          "CGT",
          "CGT-Lip",
          "CGT-Lip",
          "CGT-Lip",
          "CGT-Lip",
          "CGT-Lip",
          "CGT-Lip",
          "CGT-Lip",
          "Cartel syndical neuchâtelois ",
          "Colonies libres italiennes ",
          "Colonies libres italiennes section Bienne<br>",
          "Colonies libres italiennes section Delémont<br>",
          "Comité d'action (CA) ",
          "Comité d'action (CA) ",
          "Comité d'action (CA) ",
          "Comité d'action (CA) ",
          "Comité d'action (CA) ",
          "Comité d'action (CA) ",
          "Comité d'action (CA) ",
          "Comité d'action (CA) ",
          "Comité de lutte ouvrière ",
          "Comité de soutien aux travailleurs<br>de Lip en lutte ",
          "Comité de travailleurs horlogerie -<br>métallurgie (Comité de soutien à<br>Lip Bienne - Jura -<br>Neuchâtel) ",
          "Comité de travailleurs horlogerie -<br>métallurgie (Comité de soutien à<br>Lip Bienne - Jura -<br>Neuchâtel) ",
          "Comité de travailleurs horlogerie -<br>métallurgie (Comité de soutien à<br>Lip Bienne - Jura -<br>Neuchâtel) ",
          "Comité de travailleurs horlogerie -<br>métallurgie (Comité de soutien à<br>Lip Bienne - Jura -<br>Neuchâtel) ",
          "Comité de travailleurs horlogerie -<br>métallurgie (Comité de soutien à<br>Lip Bienne - Jura -<br>Neuchâtel) ",
          "Comité de travailleurs horlogerie -<br>métallurgie (Comité de soutien à<br>Lip Bienne - Jura -<br>Neuchâtel) ",
          "Comité de travailleurs horlogerie -<br>métallurgie (Comité de soutien à<br>Lip Bienne - Jura -<br>Neuchâtel) ",
          "Comité du Parti socialiste romand<br>",
          "Comité du Parti socialiste section<br>Bienne ",
          "Comité d’action syndicale Lausanne (C.A.S)<br>",
          "FOBB section Jura ",
          "FOBB section Zürich ",
          "FTMH section Genève ",
          "Fédération chrétienne des ouvriers sur<br>métaux (FCOM) ",
          "Fédération chrétienne des ouvriers sur<br>métaux (FCOM) ",
          "Fédération internaionale des organisations des<br>travailleurs de la metallurgie (FIOM)<br>",
          "Fédération jurassienne des syndicats chrétiens<br>(FJSC) ",
          "Fédération neuchâteloise des travailleurs du<br>commerce, des transports et de<br>l'alimentation (FCTA) ",
          "Fédération suisse du personnel des<br>services publics section Zürich ",
          "Groupe de travailleurs CGT-Lip ",
          "Groupe de travailleurs FOBB ",
          "Groupe de travailleurs FTMH ",
          "Groupe de travailleurs FTMH ",
          "Groupe de travailleurs FTMH ",
          "Groupe de travailleurs FTMH ",
          "Groupe de travailleurs FTMH ",
          "Groupe de travailleurs Lip ",
          "Groupe de travailleurs Lip ",
          "Groupe de travailleurs Lip ",
          "Groupe de travailleurs Lip ",
          "Groupe de travailleurs Lip ",
          "Groupe de travailleurs VPOD ",
          "Groupe de typographe zürichois ",
          "Jeunesse Ouvrière Chrétienne ",
          "Jeunesse chrétienne rurale ",
          "Ligue communiste française ",
          "Ligue marxiste révolutionnaire (LMR) ",
          "Ligue marxiste révolutionnaire (LMR) ",
          "Ligue marxiste révolutionnaire (LMR) ",
          "Ligue marxiste révolutionnaire (LMR) ",
          "Ligue marxiste révolutionnaire (LMR) ",
          "Ligue marxiste révolutionnaire (LMR) ",
          "Ligue marxiste révolutionnaire (LMR) ",
          "Ligue marxiste révolutionnaire (LMR) ",
          "Ligue marxiste révolutionnaire (LMR) ",
          "Ligue marxiste révolutionnaire (LMR) ",
          "Ligue marxiste révolutionnaire (LMR) ",
          "Ligue marxiste révolutionnaire (LMR) ",
          "Ligue marxiste révolutionnaire section Bienne<br>",
          "Ligue marxiste révolutionnaire section Bienne<br>",
          "Ligue marxiste révolutionnaire section Delémont<br>",
          "Ligue marxiste révolutionnaire section Delémont<br>",
          "Ligue marxiste révolutionnaire section Neuchâtel<br>",
          "Ligue marxiste révolutionnaire section Neuchâtel<br>",
          "Lutte prolétaire Bienne ",
          "Mouvemen populaire des familles ",
          "POP",
          "POP",
          "POP",
          "POP neuchâtelois ",
          "POP section Bienne ",
          "POP section Bienne ",
          "POP section La Chaux-de-Fonds ",
          "Parti communiste français (PCF) ",
          "Parti communiste français (PCF) ",
          "Parti communiste italien ",
          "Parti communiste italien section Delémont<br>",
          "Parti socialiste jurassien ",
          "Parti socialiste neuchâtelois ",
          "Parti socialiste section Lausanne ",
          "Parti socialiste unifié français (PSU)<br>",
          "Parti socialiste unifié français (PSU)<br>",
          "Parti socialiste vaudois ",
          "Parti socialiste ville de Zürich<br>",
          "Personnel Lip ",
          "Personnel Lip ",
          "Personnel Lip ",
          "Personnel Lip ",
          "Personnel Lip ",
          "Personnel Lip ",
          "Personnel Lip ",
          "Rupture pour le communisme ",
          "Typographia section Zürich "
         ],
         "title": {
          "text": "Organisation"
         }
        }
       }
      }
     },
     "metadata": {},
     "output_type": "display_data"
    }
   ],
   "source": [
    "### Observer présences et absences d'organisations aux événements\n",
    "# Les étiquette ont été enlevées à gauche, il faut l'affichage Plotly dynamique pour voir les valeurs en survol\n",
    "\n",
    "\n",
    "#size = [s*0.5 for s in g_q1.effectif]\n",
    "\n",
    "fig = px.scatter(g1_q1, x='date', y='nom_organis_break', size='effectif', size_max=15, \n",
    "                color='pays', \n",
    "                color_discrete_map={\"Suisse\": '#ff3333', \"France\": '#3333ff'},\n",
    "                hover_data=['date', 'effectif', 'noms_lieux'])\n",
    "\n",
    "#fig = px.bar(x=q1_df.index, y=q1_df.values, title=\"Manifestations\", barmode='relative')\n",
    "#fig.update_yaxes(dtick=1)\n",
    "\n",
    "fig.update_layout(\n",
    "    autosize=False,\n",
    "    legend=dict(x=0.01),\n",
    "    margin=dict(l=20, r=20, t=20, b=20),\n",
    "    paper_bgcolor=\"LightSteelBlue\",\n",
    "    width=1400,\n",
    "    height=2000,\n",
    "    xaxis_title=\"Date\", yaxis_title=\"Organisation\"\n",
    "    )\n",
    "\n",
    "xtk = g1_q1.date.to_list()\n",
    "\n",
    "fig.update_xaxes(tickangle=-60,\n",
    "\n",
    "                 tickmode = 'array',\n",
    "                 tickvals = xtk,\n",
    "                 ticktext= xtk,\n",
    "                \n",
    "    tickfont=dict(\n",
    "                       size=9,  # Set the font size here\n",
    "        color=\"Black\"\n",
    "    ))\n",
    "\n",
    "\n",
    "ytk = g1_q1.nom_organis_break.to_list()\n",
    "print()\n",
    "\n",
    "\n",
    "fig.update_yaxes(tickangle=-10,\n",
    "                 #showticklabels=False,\n",
    "                 tickmode = 'array',\n",
    "                 tickvals = ytk,\n",
    "                 ticktext= ytk, #[], # ytk, # \n",
    "    tickfont=dict(\n",
    "                       size=9,  # Set the font size here\n",
    "        color=\"DarkBlue\"\n",
    "    ))\n",
    "\n",
    "fig.write_image(\"pictures/evenements_par_organisation_pays_et_date_with_names.jpg\")\n",
    "\n",
    "fig.show()"
   ]
  },
  {
   "cell_type": "code",
   "execution_count": 208,
   "id": "abfa70ca",
   "metadata": {},
   "outputs": [
    {
     "name": "stdout",
     "output_type": "stream",
     "text": [
      "\n"
     ]
    },
    {
     "data": {
      "application/vnd.plotly.v1+json": {
       "config": {
        "plotlyServerURL": "https://plot.ly"
       },
       "data": [
        {
         "customdata": [
          [
           1,
           "Canton du Jura"
          ],
          [
           1,
           "Place du Port"
          ],
          [
           2,
           "Place de la Gare, Maison du Peuple"
          ],
          [
           1,
           "Salle communale de Plainpalais"
          ],
          [
           1,
           "Maison du Peuple"
          ],
          [
           2,
           "Place de la Gare, Maison du Peuple"
          ],
          [
           1,
           "Place de la Gare"
          ],
          [
           1,
           "Canton du Jura"
          ],
          [
           1,
           "Place de la Gare"
          ],
          [
           1,
           "Place de la Gare"
          ],
          [
           1,
           "Place du Port"
          ],
          [
           2,
           "Maison du Peuple, Café Saint-Gervais"
          ],
          [
           1,
           "Maison du Peuple"
          ],
          [
           2,
           "Place de la Gare, Maison du Peuple"
          ],
          [
           1,
           "Place de la Gare"
          ],
          [
           1,
           "Salle des 22-Cantons"
          ],
          [
           2,
           "Maison du Peuple, Café Saint-Gervais"
          ],
          [
           1,
           "Maison du Peuple"
          ],
          [
           2,
           "Place de la Gare, Maison du Peuple"
          ],
          [
           1,
           "Canton du Jura"
          ],
          [
           1,
           "Place de la Gare"
          ],
          [
           1,
           "Hôtel du Soleil"
          ],
          [
           1,
           "Place de la Gare"
          ],
          [
           1,
           "Place de la Gare"
          ],
          [
           2,
           "Place de la Gare, Maison du Peuple"
          ],
          [
           1,
           "Volkshaus"
          ],
          [
           1,
           "Salle communale de Plainpalais"
          ],
          [
           1,
           "Delémont"
          ],
          [
           1,
           "Hôtel du Soleil"
          ],
          [
           1,
           "Salle communale de Plainpalais"
          ],
          [
           1,
           "Delémont"
          ],
          [
           1,
           "Place de la Gare"
          ],
          [
           1,
           "Volkshaus"
          ],
          [
           1,
           "Place de la Gare"
          ],
          [
           1,
           "Cercle des Travailleurs"
          ],
          [
           1,
           "Maison du Peuple"
          ],
          [
           1,
           "Place de la Gare"
          ],
          [
           1,
           "Salle communale de Plainpalais"
          ],
          [
           1,
           "Hôtel du Soleil"
          ],
          [
           1,
           "Place de l'Hôtel communal"
          ],
          [
           1,
           "Volkshaus"
          ],
          [
           1,
           "Place de la Gare"
          ],
          [
           2,
           "Place de la Gare, Maison du Peuple"
          ],
          [
           1,
           "Hôtel du Soleil"
          ],
          [
           1,
           "Canton du Jura"
          ],
          [
           2,
           "Place de la Gare, Maison du Peuple"
          ],
          [
           1,
           "Place de l'Hôtel communal"
          ],
          [
           2,
           "Maison du Peuple, Café Saint-Gervais"
          ],
          [
           1,
           "Maison du Peuple"
          ],
          [
           2,
           "Place de la Gare, Maison du Peuple"
          ],
          [
           1,
           "Canton du Jura"
          ],
          [
           1,
           "Place de la Gare"
          ],
          [
           1,
           "Salle des 22-Cantons"
          ],
          [
           1,
           "Volkshaus"
          ],
          [
           1,
           "Hôtel du Soleil"
          ],
          [
           1,
           "Maison du Peuple"
          ],
          [
           1,
           "Buffet de la gare"
          ],
          [
           1,
           "Cercle des Travailleurs"
          ],
          [
           1,
           "Place de la Gare"
          ],
          [
           2,
           "Cercle des Travailleurs, Cercle des Travailleurs"
          ],
          [
           1,
           "Place de la Gare"
          ],
          [
           1,
           "Cercle des Travailleurs"
          ],
          [
           1,
           "Place de la Gare"
          ],
          [
           1,
           "Place de la Gare"
          ],
          [
           1,
           "Hôtel du Soleil"
          ],
          [
           1,
           "Canton du Jura"
          ],
          [
           1,
           "Salle des 22-Cantons"
          ],
          [
           1,
           "Hôtel du Soleil"
          ],
          [
           1,
           "Place de la Gare"
          ],
          [
           2,
           "Place de la Gare, Maison du Peuple"
          ],
          [
           1,
           "Place de la Gare"
          ],
          [
           1,
           "Maison du Peuple"
          ],
          [
           1,
           "Maison du Peuple"
          ],
          [
           1,
           "Canton du Jura"
          ],
          [
           1,
           "Place de la Gare"
          ],
          [
           1,
           "Hôtel du Soleil"
          ],
          [
           1,
           "Place de la Gare"
          ],
          [
           1,
           "Salle des 22-Cantons"
          ],
          [
           2,
           "Place de la Gare, Maison du Peuple"
          ],
          [
           1,
           "Salle des 22-Cantons"
          ],
          [
           1,
           "Volkshaus"
          ],
          [
           2,
           "Place de la Gare, Maison du Peuple"
          ],
          [
           1,
           "Salle des 22-Cantons"
          ],
          [
           1,
           "Volkshaus"
          ]
         ],
         "hovertemplate": "pays=Suisse<br>date=%{x}<br>nom_organis_break=%{y}<br>effectif=%{customdata[0]}<br>noms_lieux=%{customdata[1]}<extra></extra>",
         "legendgroup": "Suisse",
         "marker": {
          "color": "#ff3333",
          "size": [
           1,
           1,
           2,
           1,
           1,
           2,
           1,
           1,
           1,
           1,
           1,
           2,
           1,
           2,
           1,
           1,
           2,
           1,
           2,
           1,
           1,
           1,
           1,
           1,
           2,
           1,
           1,
           1,
           1,
           1,
           1,
           1,
           1,
           1,
           1,
           1,
           1,
           1,
           1,
           1,
           1,
           1,
           2,
           1,
           1,
           2,
           1,
           2,
           1,
           2,
           1,
           1,
           1,
           1,
           1,
           1,
           1,
           1,
           1,
           2,
           1,
           1,
           1,
           1,
           1,
           1,
           1,
           1,
           1,
           2,
           1,
           1,
           1,
           1,
           1,
           1,
           1,
           1,
           2,
           1,
           1,
           2,
           1,
           1
          ],
          "sizemode": "area",
          "sizeref": 0.013333333333333334,
          "symbol": "circle"
         },
         "mode": "markers",
         "name": "Suisse",
         "orientation": "v",
         "showlegend": true,
         "type": "scatter",
         "x": [
          "1973-08-16",
          "1973-05-18",
          "1973-06-23",
          "1973-08-22",
          "1973-06-27",
          "1973-06-23",
          "1973-08-17",
          "1973-08-16",
          "1973-08-18",
          "1973-08-18",
          "1973-05-18",
          "1973-06-20",
          "1973-06-21",
          "1973-06-23",
          "1973-08-18",
          "1973-08-23",
          "1973-06-20",
          "1973-06-21",
          "1973-06-23",
          "1973-08-16",
          "1973-08-18",
          "1973-09-05",
          "1973-08-18",
          "1973-08-18",
          "1973-06-23",
          "1973-08-31",
          "1973-08-22",
          "1973-08-24",
          "1973-09-05",
          "1973-08-22",
          "1973-08-24",
          "1973-08-17",
          "1973-08-31",
          "1973-08-18",
          "1973-05-25",
          "1973-06-20",
          "1973-08-18",
          "1973-08-22",
          "1973-09-05",
          "1973-05-28",
          "1973-08-31",
          "1973-08-18",
          "1973-06-23",
          "1973-09-05",
          "1973-08-16",
          "1973-06-23",
          "1973-05-28",
          "1973-06-20",
          "1973-06-21",
          "1973-06-23",
          "1973-08-16",
          "1973-08-17",
          "1973-08-23",
          "1973-08-31",
          "1973-09-05",
          "1973-10-19",
          "1973-10-25",
          "1973-05-25",
          "1973-08-18",
          "1973-05-25",
          "1973-08-18",
          "1973-05-25",
          "1973-08-18",
          "1973-08-18",
          "1973-09-05",
          "1973-08-16",
          "1973-08-23",
          "1973-09-05",
          "1973-08-17",
          "1973-06-23",
          "1973-08-18",
          "1973-06-27",
          "1973-06-27",
          "1973-08-16",
          "1973-08-18",
          "1973-09-05",
          "1973-08-17",
          "1973-08-23",
          "1973-06-23",
          "1973-08-23",
          "1973-08-31",
          "1973-06-23",
          "1973-08-23",
          "1973-08-31"
         ],
         "xaxis": "x",
         "y": [
          "Action socialiste ",
          "CFDT-Lip",
          "CFDT-Lip",
          "CFDT-Lip",
          "CGT",
          "CGT-Lip",
          "Cartel syndical neuchâtelois ",
          "Colonies libres italiennes ",
          "Colonies libres italiennes section Bienne<br>",
          "Colonies libres italiennes section Delémont<br>",
          "Comité d'action (CA) ",
          "Comité d'action (CA) ",
          "Comité d'action (CA) ",
          "Comité d'action (CA) ",
          "Comité de lutte ouvrière ",
          "Comité de soutien aux travailleurs<br>de Lip en lutte ",
          "Comité de travailleurs horlogerie -<br>métallurgie (Comité de soutien à<br>Lip Bienne - Jura -<br>Neuchâtel) ",
          "Comité de travailleurs horlogerie -<br>métallurgie (Comité de soutien à<br>Lip Bienne - Jura -<br>Neuchâtel) ",
          "Comité de travailleurs horlogerie -<br>métallurgie (Comité de soutien à<br>Lip Bienne - Jura -<br>Neuchâtel) ",
          "Comité de travailleurs horlogerie -<br>métallurgie (Comité de soutien à<br>Lip Bienne - Jura -<br>Neuchâtel) ",
          "Comité de travailleurs horlogerie -<br>métallurgie (Comité de soutien à<br>Lip Bienne - Jura -<br>Neuchâtel) ",
          "Comité de travailleurs horlogerie -<br>métallurgie (Comité de soutien à<br>Lip Bienne - Jura -<br>Neuchâtel) ",
          "Comité du Parti socialiste romand<br>",
          "Comité du Parti socialiste section<br>Bienne ",
          "FOBB section Jura ",
          "FOBB section Zürich ",
          "FTMH section Genève ",
          "Fédération chrétienne des ouvriers sur<br>métaux (FCOM) ",
          "Fédération chrétienne des ouvriers sur<br>métaux (FCOM) ",
          "Fédération internaionale des organisations des<br>travailleurs de la metallurgie (FIOM)<br>",
          "Fédération jurassienne des syndicats chrétiens<br>(FJSC) ",
          "Fédération neuchâteloise des travailleurs du<br>commerce, des transports et de<br>l'alimentation (FCTA) ",
          "Fédération suisse du personnel des<br>services publics section Zürich ",
          "Groupe de travailleurs FOBB ",
          "Groupe de travailleurs FTMH ",
          "Groupe de travailleurs FTMH ",
          "Groupe de travailleurs FTMH ",
          "Groupe de travailleurs FTMH ",
          "Groupe de travailleurs FTMH ",
          "Groupe de travailleurs Lip ",
          "Groupe de travailleurs Lip ",
          "Groupe de travailleurs VPOD ",
          "Groupe de typographe zürichois ",
          "Jeunesse Ouvrière Chrétienne ",
          "Jeunesse chrétienne rurale ",
          "Ligue communiste française ",
          "Ligue marxiste révolutionnaire (LMR) ",
          "Ligue marxiste révolutionnaire (LMR) ",
          "Ligue marxiste révolutionnaire (LMR) ",
          "Ligue marxiste révolutionnaire (LMR) ",
          "Ligue marxiste révolutionnaire (LMR) ",
          "Ligue marxiste révolutionnaire (LMR) ",
          "Ligue marxiste révolutionnaire (LMR) ",
          "Ligue marxiste révolutionnaire (LMR) ",
          "Ligue marxiste révolutionnaire (LMR) ",
          "Ligue marxiste révolutionnaire (LMR) ",
          "Ligue marxiste révolutionnaire (LMR) ",
          "Ligue marxiste révolutionnaire section Bienne<br>",
          "Ligue marxiste révolutionnaire section Bienne<br>",
          "Ligue marxiste révolutionnaire section Delémont<br>",
          "Ligue marxiste révolutionnaire section Delémont<br>",
          "Ligue marxiste révolutionnaire section Neuchâtel<br>",
          "Ligue marxiste révolutionnaire section Neuchâtel<br>",
          "Lutte prolétaire Bienne ",
          "Mouvemen populaire des familles ",
          "POP",
          "POP",
          "POP",
          "POP neuchâtelois ",
          "POP section Bienne ",
          "POP section Bienne ",
          "POP section La Chaux-de-Fonds ",
          "Parti communiste français (PCF) ",
          "Parti communiste italien ",
          "Parti communiste italien section Delémont<br>",
          "Parti socialiste jurassien ",
          "Parti socialiste neuchâtelois ",
          "Parti socialiste section Lausanne ",
          "Parti socialiste unifié français (PSU)<br>",
          "Parti socialiste vaudois ",
          "Parti socialiste ville de Zürich<br>",
          "Personnel Lip ",
          "Rupture pour le communisme ",
          "Typographia section Zürich "
         ],
         "yaxis": "y"
        },
        {
         "customdata": [
          [
           1,
           "Châteaufarine"
          ],
          [
           1,
           "Consulat suisse"
          ],
          [
           1,
           "Place Saint-Pierre"
          ],
          [
           1,
           "Usine Lip"
          ],
          [
           1,
           "Usine Lip"
          ],
          [
           1,
           "Place Battant"
          ],
          [
           1,
           "Usine Lip"
          ],
          [
           1,
           "Châteaufarine"
          ],
          [
           1,
           "Châteaufarine"
          ],
          [
           1,
           "Consulat suisse"
          ],
          [
           1,
           "Place Saint-Pierre"
          ],
          [
           1,
           "Usine Lip"
          ],
          [
           1,
           "Place Battant"
          ],
          [
           1,
           "Usine Lip"
          ],
          [
           1,
           "Châteaufarine"
          ],
          [
           1,
           "Usine Lip"
          ],
          [
           1,
           "Usine Lip"
          ],
          [
           1,
           "Place Battant"
          ],
          [
           1,
           "Châteaufarine"
          ],
          [
           1,
           "Place Saint-Pierre"
          ],
          [
           1,
           "Châteaufarine"
          ],
          [
           2,
           "Usine Lip, Usine Lip"
          ],
          [
           1,
           "Porte d'Italie"
          ],
          [
           1,
           "Usine Lip"
          ],
          [
           1,
           "Usine Lip"
          ],
          [
           1,
           "Châteaufarine"
          ],
          [
           1,
           "Châteaufarine"
          ],
          [
           1,
           "Châteaufarine"
          ],
          [
           1,
           "Consulat suisse"
          ],
          [
           3,
           "Morteau, Villers-le-Lac, Consulat suisse"
          ],
          [
           1,
           "Consulat suisse"
          ],
          [
           1,
           "Place Battant"
          ],
          [
           1,
           "Usine Lip"
          ],
          [
           1,
           "Châteaufarine"
          ]
         ],
         "hovertemplate": "pays=France<br>date=%{x}<br>nom_organis_break=%{y}<br>effectif=%{customdata[0]}<br>noms_lieux=%{customdata[1]}<extra></extra>",
         "legendgroup": "France",
         "marker": {
          "color": "#3333ff",
          "size": [
           1,
           1,
           1,
           1,
           1,
           1,
           1,
           1,
           1,
           1,
           1,
           1,
           1,
           1,
           1,
           1,
           1,
           1,
           1,
           1,
           1,
           2,
           1,
           1,
           1,
           1,
           1,
           1,
           1,
           3,
           1,
           1,
           1,
           1
          ],
          "sizemode": "area",
          "sizeref": 0.013333333333333334,
          "symbol": "circle"
         },
         "mode": "markers",
         "name": "France",
         "orientation": "v",
         "showlegend": true,
         "type": "scatter",
         "x": [
          "1973-09-29",
          "1973-05-10",
          "1973-05-24",
          "1973-06-12",
          "1973-06-13",
          "1973-06-15",
          "1973-08-14",
          "1973-09-29",
          "1973-09-29",
          "1973-05-10",
          "1973-05-24",
          "1973-06-13",
          "1973-06-15",
          "1973-08-14",
          "1973-09-29",
          "1973-06-12",
          "1973-06-13",
          "1973-06-15",
          "1973-09-29",
          "1973-05-24",
          "1973-09-29",
          "1973-06-12",
          "1973-05-29",
          "1973-06-10",
          "1973-06-12",
          "1973-09-29",
          "1973-09-29",
          "1973-09-29",
          "1973-05-10",
          "1973-05-18",
          "1973-05-29",
          "1973-06-15",
          "1973-08-14",
          "1973-09-29"
         ],
         "xaxis": "x",
         "y": [
          "CFDT",
          "CFDT-Lip",
          "CFDT-Lip",
          "CFDT-Lip",
          "CFDT-Lip",
          "CFDT-Lip",
          "CFDT-Lip",
          "CFDT-Lip",
          "CGT",
          "CGT-Lip",
          "CGT-Lip",
          "CGT-Lip",
          "CGT-Lip",
          "CGT-Lip",
          "CGT-Lip",
          "Comité d'action (CA) ",
          "Comité d'action (CA) ",
          "Comité d'action (CA) ",
          "Comité d'action (CA) ",
          "Comité de travailleurs horlogerie -<br>métallurgie (Comité de soutien à<br>Lip Bienne - Jura -<br>Neuchâtel) ",
          "Comité d’action syndicale Lausanne (C.A.S)<br>",
          "Groupe de travailleurs CGT-Lip ",
          "Groupe de travailleurs Lip ",
          "Groupe de travailleurs Lip ",
          "Groupe de travailleurs Lip ",
          "Ligue marxiste révolutionnaire (LMR) ",
          "Parti communiste français (PCF) ",
          "Parti socialiste unifié français (PSU)<br>",
          "Personnel Lip ",
          "Personnel Lip ",
          "Personnel Lip ",
          "Personnel Lip ",
          "Personnel Lip ",
          "Personnel Lip "
         ],
         "yaxis": "y"
        }
       ],
       "layout": {
        "autosize": false,
        "height": 1000,
        "legend": {
         "itemsizing": "constant",
         "title": {
          "text": "pays"
         },
         "tracegroupgap": 0,
         "x": 0.01
        },
        "margin": {
         "b": 10,
         "l": 10,
         "r": 10,
         "t": 10
        },
        "paper_bgcolor": "LightSteelBlue",
        "template": {
         "data": {
          "bar": [
           {
            "error_x": {
             "color": "#2a3f5f"
            },
            "error_y": {
             "color": "#2a3f5f"
            },
            "marker": {
             "line": {
              "color": "#E5ECF6",
              "width": 0.5
             },
             "pattern": {
              "fillmode": "overlay",
              "size": 10,
              "solidity": 0.2
             }
            },
            "type": "bar"
           }
          ],
          "barpolar": [
           {
            "marker": {
             "line": {
              "color": "#E5ECF6",
              "width": 0.5
             },
             "pattern": {
              "fillmode": "overlay",
              "size": 10,
              "solidity": 0.2
             }
            },
            "type": "barpolar"
           }
          ],
          "carpet": [
           {
            "aaxis": {
             "endlinecolor": "#2a3f5f",
             "gridcolor": "white",
             "linecolor": "white",
             "minorgridcolor": "white",
             "startlinecolor": "#2a3f5f"
            },
            "baxis": {
             "endlinecolor": "#2a3f5f",
             "gridcolor": "white",
             "linecolor": "white",
             "minorgridcolor": "white",
             "startlinecolor": "#2a3f5f"
            },
            "type": "carpet"
           }
          ],
          "choropleth": [
           {
            "colorbar": {
             "outlinewidth": 0,
             "ticks": ""
            },
            "type": "choropleth"
           }
          ],
          "contour": [
           {
            "colorbar": {
             "outlinewidth": 0,
             "ticks": ""
            },
            "colorscale": [
             [
              0,
              "#0d0887"
             ],
             [
              0.1111111111111111,
              "#46039f"
             ],
             [
              0.2222222222222222,
              "#7201a8"
             ],
             [
              0.3333333333333333,
              "#9c179e"
             ],
             [
              0.4444444444444444,
              "#bd3786"
             ],
             [
              0.5555555555555556,
              "#d8576b"
             ],
             [
              0.6666666666666666,
              "#ed7953"
             ],
             [
              0.7777777777777778,
              "#fb9f3a"
             ],
             [
              0.8888888888888888,
              "#fdca26"
             ],
             [
              1,
              "#f0f921"
             ]
            ],
            "type": "contour"
           }
          ],
          "contourcarpet": [
           {
            "colorbar": {
             "outlinewidth": 0,
             "ticks": ""
            },
            "type": "contourcarpet"
           }
          ],
          "heatmap": [
           {
            "colorbar": {
             "outlinewidth": 0,
             "ticks": ""
            },
            "colorscale": [
             [
              0,
              "#0d0887"
             ],
             [
              0.1111111111111111,
              "#46039f"
             ],
             [
              0.2222222222222222,
              "#7201a8"
             ],
             [
              0.3333333333333333,
              "#9c179e"
             ],
             [
              0.4444444444444444,
              "#bd3786"
             ],
             [
              0.5555555555555556,
              "#d8576b"
             ],
             [
              0.6666666666666666,
              "#ed7953"
             ],
             [
              0.7777777777777778,
              "#fb9f3a"
             ],
             [
              0.8888888888888888,
              "#fdca26"
             ],
             [
              1,
              "#f0f921"
             ]
            ],
            "type": "heatmap"
           }
          ],
          "heatmapgl": [
           {
            "colorbar": {
             "outlinewidth": 0,
             "ticks": ""
            },
            "colorscale": [
             [
              0,
              "#0d0887"
             ],
             [
              0.1111111111111111,
              "#46039f"
             ],
             [
              0.2222222222222222,
              "#7201a8"
             ],
             [
              0.3333333333333333,
              "#9c179e"
             ],
             [
              0.4444444444444444,
              "#bd3786"
             ],
             [
              0.5555555555555556,
              "#d8576b"
             ],
             [
              0.6666666666666666,
              "#ed7953"
             ],
             [
              0.7777777777777778,
              "#fb9f3a"
             ],
             [
              0.8888888888888888,
              "#fdca26"
             ],
             [
              1,
              "#f0f921"
             ]
            ],
            "type": "heatmapgl"
           }
          ],
          "histogram": [
           {
            "marker": {
             "pattern": {
              "fillmode": "overlay",
              "size": 10,
              "solidity": 0.2
             }
            },
            "type": "histogram"
           }
          ],
          "histogram2d": [
           {
            "colorbar": {
             "outlinewidth": 0,
             "ticks": ""
            },
            "colorscale": [
             [
              0,
              "#0d0887"
             ],
             [
              0.1111111111111111,
              "#46039f"
             ],
             [
              0.2222222222222222,
              "#7201a8"
             ],
             [
              0.3333333333333333,
              "#9c179e"
             ],
             [
              0.4444444444444444,
              "#bd3786"
             ],
             [
              0.5555555555555556,
              "#d8576b"
             ],
             [
              0.6666666666666666,
              "#ed7953"
             ],
             [
              0.7777777777777778,
              "#fb9f3a"
             ],
             [
              0.8888888888888888,
              "#fdca26"
             ],
             [
              1,
              "#f0f921"
             ]
            ],
            "type": "histogram2d"
           }
          ],
          "histogram2dcontour": [
           {
            "colorbar": {
             "outlinewidth": 0,
             "ticks": ""
            },
            "colorscale": [
             [
              0,
              "#0d0887"
             ],
             [
              0.1111111111111111,
              "#46039f"
             ],
             [
              0.2222222222222222,
              "#7201a8"
             ],
             [
              0.3333333333333333,
              "#9c179e"
             ],
             [
              0.4444444444444444,
              "#bd3786"
             ],
             [
              0.5555555555555556,
              "#d8576b"
             ],
             [
              0.6666666666666666,
              "#ed7953"
             ],
             [
              0.7777777777777778,
              "#fb9f3a"
             ],
             [
              0.8888888888888888,
              "#fdca26"
             ],
             [
              1,
              "#f0f921"
             ]
            ],
            "type": "histogram2dcontour"
           }
          ],
          "mesh3d": [
           {
            "colorbar": {
             "outlinewidth": 0,
             "ticks": ""
            },
            "type": "mesh3d"
           }
          ],
          "parcoords": [
           {
            "line": {
             "colorbar": {
              "outlinewidth": 0,
              "ticks": ""
             }
            },
            "type": "parcoords"
           }
          ],
          "pie": [
           {
            "automargin": true,
            "type": "pie"
           }
          ],
          "scatter": [
           {
            "fillpattern": {
             "fillmode": "overlay",
             "size": 10,
             "solidity": 0.2
            },
            "type": "scatter"
           }
          ],
          "scatter3d": [
           {
            "line": {
             "colorbar": {
              "outlinewidth": 0,
              "ticks": ""
             }
            },
            "marker": {
             "colorbar": {
              "outlinewidth": 0,
              "ticks": ""
             }
            },
            "type": "scatter3d"
           }
          ],
          "scattercarpet": [
           {
            "marker": {
             "colorbar": {
              "outlinewidth": 0,
              "ticks": ""
             }
            },
            "type": "scattercarpet"
           }
          ],
          "scattergeo": [
           {
            "marker": {
             "colorbar": {
              "outlinewidth": 0,
              "ticks": ""
             }
            },
            "type": "scattergeo"
           }
          ],
          "scattergl": [
           {
            "marker": {
             "colorbar": {
              "outlinewidth": 0,
              "ticks": ""
             }
            },
            "type": "scattergl"
           }
          ],
          "scattermapbox": [
           {
            "marker": {
             "colorbar": {
              "outlinewidth": 0,
              "ticks": ""
             }
            },
            "type": "scattermapbox"
           }
          ],
          "scatterpolar": [
           {
            "marker": {
             "colorbar": {
              "outlinewidth": 0,
              "ticks": ""
             }
            },
            "type": "scatterpolar"
           }
          ],
          "scatterpolargl": [
           {
            "marker": {
             "colorbar": {
              "outlinewidth": 0,
              "ticks": ""
             }
            },
            "type": "scatterpolargl"
           }
          ],
          "scatterternary": [
           {
            "marker": {
             "colorbar": {
              "outlinewidth": 0,
              "ticks": ""
             }
            },
            "type": "scatterternary"
           }
          ],
          "surface": [
           {
            "colorbar": {
             "outlinewidth": 0,
             "ticks": ""
            },
            "colorscale": [
             [
              0,
              "#0d0887"
             ],
             [
              0.1111111111111111,
              "#46039f"
             ],
             [
              0.2222222222222222,
              "#7201a8"
             ],
             [
              0.3333333333333333,
              "#9c179e"
             ],
             [
              0.4444444444444444,
              "#bd3786"
             ],
             [
              0.5555555555555556,
              "#d8576b"
             ],
             [
              0.6666666666666666,
              "#ed7953"
             ],
             [
              0.7777777777777778,
              "#fb9f3a"
             ],
             [
              0.8888888888888888,
              "#fdca26"
             ],
             [
              1,
              "#f0f921"
             ]
            ],
            "type": "surface"
           }
          ],
          "table": [
           {
            "cells": {
             "fill": {
              "color": "#EBF0F8"
             },
             "line": {
              "color": "white"
             }
            },
            "header": {
             "fill": {
              "color": "#C8D4E3"
             },
             "line": {
              "color": "white"
             }
            },
            "type": "table"
           }
          ]
         },
         "layout": {
          "annotationdefaults": {
           "arrowcolor": "#2a3f5f",
           "arrowhead": 0,
           "arrowwidth": 1
          },
          "autotypenumbers": "strict",
          "coloraxis": {
           "colorbar": {
            "outlinewidth": 0,
            "ticks": ""
           }
          },
          "colorscale": {
           "diverging": [
            [
             0,
             "#8e0152"
            ],
            [
             0.1,
             "#c51b7d"
            ],
            [
             0.2,
             "#de77ae"
            ],
            [
             0.3,
             "#f1b6da"
            ],
            [
             0.4,
             "#fde0ef"
            ],
            [
             0.5,
             "#f7f7f7"
            ],
            [
             0.6,
             "#e6f5d0"
            ],
            [
             0.7,
             "#b8e186"
            ],
            [
             0.8,
             "#7fbc41"
            ],
            [
             0.9,
             "#4d9221"
            ],
            [
             1,
             "#276419"
            ]
           ],
           "sequential": [
            [
             0,
             "#0d0887"
            ],
            [
             0.1111111111111111,
             "#46039f"
            ],
            [
             0.2222222222222222,
             "#7201a8"
            ],
            [
             0.3333333333333333,
             "#9c179e"
            ],
            [
             0.4444444444444444,
             "#bd3786"
            ],
            [
             0.5555555555555556,
             "#d8576b"
            ],
            [
             0.6666666666666666,
             "#ed7953"
            ],
            [
             0.7777777777777778,
             "#fb9f3a"
            ],
            [
             0.8888888888888888,
             "#fdca26"
            ],
            [
             1,
             "#f0f921"
            ]
           ],
           "sequentialminus": [
            [
             0,
             "#0d0887"
            ],
            [
             0.1111111111111111,
             "#46039f"
            ],
            [
             0.2222222222222222,
             "#7201a8"
            ],
            [
             0.3333333333333333,
             "#9c179e"
            ],
            [
             0.4444444444444444,
             "#bd3786"
            ],
            [
             0.5555555555555556,
             "#d8576b"
            ],
            [
             0.6666666666666666,
             "#ed7953"
            ],
            [
             0.7777777777777778,
             "#fb9f3a"
            ],
            [
             0.8888888888888888,
             "#fdca26"
            ],
            [
             1,
             "#f0f921"
            ]
           ]
          },
          "colorway": [
           "#636efa",
           "#EF553B",
           "#00cc96",
           "#ab63fa",
           "#FFA15A",
           "#19d3f3",
           "#FF6692",
           "#B6E880",
           "#FF97FF",
           "#FECB52"
          ],
          "font": {
           "color": "#2a3f5f"
          },
          "geo": {
           "bgcolor": "white",
           "lakecolor": "white",
           "landcolor": "#E5ECF6",
           "showlakes": true,
           "showland": true,
           "subunitcolor": "white"
          },
          "hoverlabel": {
           "align": "left"
          },
          "hovermode": "closest",
          "mapbox": {
           "style": "light"
          },
          "paper_bgcolor": "white",
          "plot_bgcolor": "#E5ECF6",
          "polar": {
           "angularaxis": {
            "gridcolor": "white",
            "linecolor": "white",
            "ticks": ""
           },
           "bgcolor": "#E5ECF6",
           "radialaxis": {
            "gridcolor": "white",
            "linecolor": "white",
            "ticks": ""
           }
          },
          "scene": {
           "xaxis": {
            "backgroundcolor": "#E5ECF6",
            "gridcolor": "white",
            "gridwidth": 2,
            "linecolor": "white",
            "showbackground": true,
            "ticks": "",
            "zerolinecolor": "white"
           },
           "yaxis": {
            "backgroundcolor": "#E5ECF6",
            "gridcolor": "white",
            "gridwidth": 2,
            "linecolor": "white",
            "showbackground": true,
            "ticks": "",
            "zerolinecolor": "white"
           },
           "zaxis": {
            "backgroundcolor": "#E5ECF6",
            "gridcolor": "white",
            "gridwidth": 2,
            "linecolor": "white",
            "showbackground": true,
            "ticks": "",
            "zerolinecolor": "white"
           }
          },
          "shapedefaults": {
           "line": {
            "color": "#2a3f5f"
           }
          },
          "ternary": {
           "aaxis": {
            "gridcolor": "white",
            "linecolor": "white",
            "ticks": ""
           },
           "baxis": {
            "gridcolor": "white",
            "linecolor": "white",
            "ticks": ""
           },
           "bgcolor": "#E5ECF6",
           "caxis": {
            "gridcolor": "white",
            "linecolor": "white",
            "ticks": ""
           }
          },
          "title": {
           "x": 0.05
          },
          "xaxis": {
           "automargin": true,
           "gridcolor": "white",
           "linecolor": "white",
           "ticks": "",
           "title": {
            "standoff": 15
           },
           "zerolinecolor": "white",
           "zerolinewidth": 2
          },
          "yaxis": {
           "automargin": true,
           "gridcolor": "white",
           "linecolor": "white",
           "ticks": "",
           "title": {
            "standoff": 15
           },
           "zerolinecolor": "white",
           "zerolinewidth": 2
          }
         }
        },
        "width": 1000,
        "xaxis": {
         "anchor": "y",
         "domain": [
          0,
          1
         ],
         "tickangle": -50,
         "tickfont": {
          "color": "Black",
          "size": 9
         },
         "tickmode": "array",
         "ticktext": [
          "1973-08-16",
          "1973-09-29",
          "1973-05-10",
          "1973-05-18",
          "1973-05-24",
          "1973-06-12",
          "1973-06-13",
          "1973-06-15",
          "1973-06-23",
          "1973-08-14",
          "1973-08-22",
          "1973-09-29",
          "1973-06-27",
          "1973-09-29",
          "1973-05-10",
          "1973-05-24",
          "1973-06-13",
          "1973-06-15",
          "1973-06-23",
          "1973-08-14",
          "1973-09-29",
          "1973-08-17",
          "1973-08-16",
          "1973-08-18",
          "1973-08-18",
          "1973-05-18",
          "1973-06-12",
          "1973-06-13",
          "1973-06-15",
          "1973-06-20",
          "1973-06-21",
          "1973-06-23",
          "1973-09-29",
          "1973-08-18",
          "1973-08-23",
          "1973-05-24",
          "1973-06-20",
          "1973-06-21",
          "1973-06-23",
          "1973-08-16",
          "1973-08-18",
          "1973-09-05",
          "1973-08-18",
          "1973-08-18",
          "1973-09-29",
          "1973-06-23",
          "1973-08-31",
          "1973-08-22",
          "1973-08-24",
          "1973-09-05",
          "1973-08-22",
          "1973-08-24",
          "1973-08-17",
          "1973-08-31",
          "1973-06-12",
          "1973-08-18",
          "1973-05-25",
          "1973-06-20",
          "1973-08-18",
          "1973-08-22",
          "1973-09-05",
          "1973-05-28",
          "1973-05-29",
          "1973-06-10",
          "1973-06-12",
          "1973-08-31",
          "1973-08-18",
          "1973-06-23",
          "1973-09-05",
          "1973-08-16",
          "1973-06-23",
          "1973-05-28",
          "1973-06-20",
          "1973-06-21",
          "1973-06-23",
          "1973-08-16",
          "1973-08-17",
          "1973-08-23",
          "1973-08-31",
          "1973-09-05",
          "1973-09-29",
          "1973-10-19",
          "1973-10-25",
          "1973-05-25",
          "1973-08-18",
          "1973-05-25",
          "1973-08-18",
          "1973-05-25",
          "1973-08-18",
          "1973-08-18",
          "1973-09-05",
          "1973-08-16",
          "1973-08-23",
          "1973-09-05",
          "1973-08-17",
          "1973-06-23",
          "1973-08-18",
          "1973-06-27",
          "1973-06-27",
          "1973-09-29",
          "1973-08-16",
          "1973-08-18",
          "1973-09-05",
          "1973-08-17",
          "1973-08-23",
          "1973-06-23",
          "1973-09-29",
          "1973-08-23",
          "1973-08-31",
          "1973-05-10",
          "1973-05-18",
          "1973-05-29",
          "1973-06-15",
          "1973-06-23",
          "1973-08-14",
          "1973-09-29",
          "1973-08-23",
          "1973-08-31"
         ],
         "tickvals": [
          "1973-08-16",
          "1973-09-29",
          "1973-05-10",
          "1973-05-18",
          "1973-05-24",
          "1973-06-12",
          "1973-06-13",
          "1973-06-15",
          "1973-06-23",
          "1973-08-14",
          "1973-08-22",
          "1973-09-29",
          "1973-06-27",
          "1973-09-29",
          "1973-05-10",
          "1973-05-24",
          "1973-06-13",
          "1973-06-15",
          "1973-06-23",
          "1973-08-14",
          "1973-09-29",
          "1973-08-17",
          "1973-08-16",
          "1973-08-18",
          "1973-08-18",
          "1973-05-18",
          "1973-06-12",
          "1973-06-13",
          "1973-06-15",
          "1973-06-20",
          "1973-06-21",
          "1973-06-23",
          "1973-09-29",
          "1973-08-18",
          "1973-08-23",
          "1973-05-24",
          "1973-06-20",
          "1973-06-21",
          "1973-06-23",
          "1973-08-16",
          "1973-08-18",
          "1973-09-05",
          "1973-08-18",
          "1973-08-18",
          "1973-09-29",
          "1973-06-23",
          "1973-08-31",
          "1973-08-22",
          "1973-08-24",
          "1973-09-05",
          "1973-08-22",
          "1973-08-24",
          "1973-08-17",
          "1973-08-31",
          "1973-06-12",
          "1973-08-18",
          "1973-05-25",
          "1973-06-20",
          "1973-08-18",
          "1973-08-22",
          "1973-09-05",
          "1973-05-28",
          "1973-05-29",
          "1973-06-10",
          "1973-06-12",
          "1973-08-31",
          "1973-08-18",
          "1973-06-23",
          "1973-09-05",
          "1973-08-16",
          "1973-06-23",
          "1973-05-28",
          "1973-06-20",
          "1973-06-21",
          "1973-06-23",
          "1973-08-16",
          "1973-08-17",
          "1973-08-23",
          "1973-08-31",
          "1973-09-05",
          "1973-09-29",
          "1973-10-19",
          "1973-10-25",
          "1973-05-25",
          "1973-08-18",
          "1973-05-25",
          "1973-08-18",
          "1973-05-25",
          "1973-08-18",
          "1973-08-18",
          "1973-09-05",
          "1973-08-16",
          "1973-08-23",
          "1973-09-05",
          "1973-08-17",
          "1973-06-23",
          "1973-08-18",
          "1973-06-27",
          "1973-06-27",
          "1973-09-29",
          "1973-08-16",
          "1973-08-18",
          "1973-09-05",
          "1973-08-17",
          "1973-08-23",
          "1973-06-23",
          "1973-09-29",
          "1973-08-23",
          "1973-08-31",
          "1973-05-10",
          "1973-05-18",
          "1973-05-29",
          "1973-06-15",
          "1973-06-23",
          "1973-08-14",
          "1973-09-29",
          "1973-08-23",
          "1973-08-31"
         ],
         "title": {
          "text": "Date"
         }
        },
        "yaxis": {
         "anchor": "x",
         "domain": [
          0,
          1
         ],
         "showticklabels": false,
         "tickangle": -20,
         "tickfont": {
          "color": "DarkBlue",
          "size": 9
         },
         "tickmode": "array",
         "ticktext": [
          "Action socialiste ",
          "CFDT",
          "CFDT-Lip",
          "CFDT-Lip",
          "CFDT-Lip",
          "CFDT-Lip",
          "CFDT-Lip",
          "CFDT-Lip",
          "CFDT-Lip",
          "CFDT-Lip",
          "CFDT-Lip",
          "CFDT-Lip",
          "CGT",
          "CGT",
          "CGT-Lip",
          "CGT-Lip",
          "CGT-Lip",
          "CGT-Lip",
          "CGT-Lip",
          "CGT-Lip",
          "CGT-Lip",
          "Cartel syndical neuchâtelois ",
          "Colonies libres italiennes ",
          "Colonies libres italiennes section Bienne<br>",
          "Colonies libres italiennes section Delémont<br>",
          "Comité d'action (CA) ",
          "Comité d'action (CA) ",
          "Comité d'action (CA) ",
          "Comité d'action (CA) ",
          "Comité d'action (CA) ",
          "Comité d'action (CA) ",
          "Comité d'action (CA) ",
          "Comité d'action (CA) ",
          "Comité de lutte ouvrière ",
          "Comité de soutien aux travailleurs<br>de Lip en lutte ",
          "Comité de travailleurs horlogerie -<br>métallurgie (Comité de soutien à<br>Lip Bienne - Jura -<br>Neuchâtel) ",
          "Comité de travailleurs horlogerie -<br>métallurgie (Comité de soutien à<br>Lip Bienne - Jura -<br>Neuchâtel) ",
          "Comité de travailleurs horlogerie -<br>métallurgie (Comité de soutien à<br>Lip Bienne - Jura -<br>Neuchâtel) ",
          "Comité de travailleurs horlogerie -<br>métallurgie (Comité de soutien à<br>Lip Bienne - Jura -<br>Neuchâtel) ",
          "Comité de travailleurs horlogerie -<br>métallurgie (Comité de soutien à<br>Lip Bienne - Jura -<br>Neuchâtel) ",
          "Comité de travailleurs horlogerie -<br>métallurgie (Comité de soutien à<br>Lip Bienne - Jura -<br>Neuchâtel) ",
          "Comité de travailleurs horlogerie -<br>métallurgie (Comité de soutien à<br>Lip Bienne - Jura -<br>Neuchâtel) ",
          "Comité du Parti socialiste romand<br>",
          "Comité du Parti socialiste section<br>Bienne ",
          "Comité d’action syndicale Lausanne (C.A.S)<br>",
          "FOBB section Jura ",
          "FOBB section Zürich ",
          "FTMH section Genève ",
          "Fédération chrétienne des ouvriers sur<br>métaux (FCOM) ",
          "Fédération chrétienne des ouvriers sur<br>métaux (FCOM) ",
          "Fédération internaionale des organisations des<br>travailleurs de la metallurgie (FIOM)<br>",
          "Fédération jurassienne des syndicats chrétiens<br>(FJSC) ",
          "Fédération neuchâteloise des travailleurs du<br>commerce, des transports et de<br>l'alimentation (FCTA) ",
          "Fédération suisse du personnel des<br>services publics section Zürich ",
          "Groupe de travailleurs CGT-Lip ",
          "Groupe de travailleurs FOBB ",
          "Groupe de travailleurs FTMH ",
          "Groupe de travailleurs FTMH ",
          "Groupe de travailleurs FTMH ",
          "Groupe de travailleurs FTMH ",
          "Groupe de travailleurs FTMH ",
          "Groupe de travailleurs Lip ",
          "Groupe de travailleurs Lip ",
          "Groupe de travailleurs Lip ",
          "Groupe de travailleurs Lip ",
          "Groupe de travailleurs Lip ",
          "Groupe de travailleurs VPOD ",
          "Groupe de typographe zürichois ",
          "Jeunesse Ouvrière Chrétienne ",
          "Jeunesse chrétienne rurale ",
          "Ligue communiste française ",
          "Ligue marxiste révolutionnaire (LMR) ",
          "Ligue marxiste révolutionnaire (LMR) ",
          "Ligue marxiste révolutionnaire (LMR) ",
          "Ligue marxiste révolutionnaire (LMR) ",
          "Ligue marxiste révolutionnaire (LMR) ",
          "Ligue marxiste révolutionnaire (LMR) ",
          "Ligue marxiste révolutionnaire (LMR) ",
          "Ligue marxiste révolutionnaire (LMR) ",
          "Ligue marxiste révolutionnaire (LMR) ",
          "Ligue marxiste révolutionnaire (LMR) ",
          "Ligue marxiste révolutionnaire (LMR) ",
          "Ligue marxiste révolutionnaire (LMR) ",
          "Ligue marxiste révolutionnaire section Bienne<br>",
          "Ligue marxiste révolutionnaire section Bienne<br>",
          "Ligue marxiste révolutionnaire section Delémont<br>",
          "Ligue marxiste révolutionnaire section Delémont<br>",
          "Ligue marxiste révolutionnaire section Neuchâtel<br>",
          "Ligue marxiste révolutionnaire section Neuchâtel<br>",
          "Lutte prolétaire Bienne ",
          "Mouvemen populaire des familles ",
          "POP",
          "POP",
          "POP",
          "POP neuchâtelois ",
          "POP section Bienne ",
          "POP section Bienne ",
          "POP section La Chaux-de-Fonds ",
          "Parti communiste français (PCF) ",
          "Parti communiste français (PCF) ",
          "Parti communiste italien ",
          "Parti communiste italien section Delémont<br>",
          "Parti socialiste jurassien ",
          "Parti socialiste neuchâtelois ",
          "Parti socialiste section Lausanne ",
          "Parti socialiste unifié français (PSU)<br>",
          "Parti socialiste unifié français (PSU)<br>",
          "Parti socialiste vaudois ",
          "Parti socialiste ville de Zürich<br>",
          "Personnel Lip ",
          "Personnel Lip ",
          "Personnel Lip ",
          "Personnel Lip ",
          "Personnel Lip ",
          "Personnel Lip ",
          "Personnel Lip ",
          "Rupture pour le communisme ",
          "Typographia section Zürich "
         ],
         "tickvals": [
          "Action socialiste ",
          "CFDT",
          "CFDT-Lip",
          "CFDT-Lip",
          "CFDT-Lip",
          "CFDT-Lip",
          "CFDT-Lip",
          "CFDT-Lip",
          "CFDT-Lip",
          "CFDT-Lip",
          "CFDT-Lip",
          "CFDT-Lip",
          "CGT",
          "CGT",
          "CGT-Lip",
          "CGT-Lip",
          "CGT-Lip",
          "CGT-Lip",
          "CGT-Lip",
          "CGT-Lip",
          "CGT-Lip",
          "Cartel syndical neuchâtelois ",
          "Colonies libres italiennes ",
          "Colonies libres italiennes section Bienne<br>",
          "Colonies libres italiennes section Delémont<br>",
          "Comité d'action (CA) ",
          "Comité d'action (CA) ",
          "Comité d'action (CA) ",
          "Comité d'action (CA) ",
          "Comité d'action (CA) ",
          "Comité d'action (CA) ",
          "Comité d'action (CA) ",
          "Comité d'action (CA) ",
          "Comité de lutte ouvrière ",
          "Comité de soutien aux travailleurs<br>de Lip en lutte ",
          "Comité de travailleurs horlogerie -<br>métallurgie (Comité de soutien à<br>Lip Bienne - Jura -<br>Neuchâtel) ",
          "Comité de travailleurs horlogerie -<br>métallurgie (Comité de soutien à<br>Lip Bienne - Jura -<br>Neuchâtel) ",
          "Comité de travailleurs horlogerie -<br>métallurgie (Comité de soutien à<br>Lip Bienne - Jura -<br>Neuchâtel) ",
          "Comité de travailleurs horlogerie -<br>métallurgie (Comité de soutien à<br>Lip Bienne - Jura -<br>Neuchâtel) ",
          "Comité de travailleurs horlogerie -<br>métallurgie (Comité de soutien à<br>Lip Bienne - Jura -<br>Neuchâtel) ",
          "Comité de travailleurs horlogerie -<br>métallurgie (Comité de soutien à<br>Lip Bienne - Jura -<br>Neuchâtel) ",
          "Comité de travailleurs horlogerie -<br>métallurgie (Comité de soutien à<br>Lip Bienne - Jura -<br>Neuchâtel) ",
          "Comité du Parti socialiste romand<br>",
          "Comité du Parti socialiste section<br>Bienne ",
          "Comité d’action syndicale Lausanne (C.A.S)<br>",
          "FOBB section Jura ",
          "FOBB section Zürich ",
          "FTMH section Genève ",
          "Fédération chrétienne des ouvriers sur<br>métaux (FCOM) ",
          "Fédération chrétienne des ouvriers sur<br>métaux (FCOM) ",
          "Fédération internaionale des organisations des<br>travailleurs de la metallurgie (FIOM)<br>",
          "Fédération jurassienne des syndicats chrétiens<br>(FJSC) ",
          "Fédération neuchâteloise des travailleurs du<br>commerce, des transports et de<br>l'alimentation (FCTA) ",
          "Fédération suisse du personnel des<br>services publics section Zürich ",
          "Groupe de travailleurs CGT-Lip ",
          "Groupe de travailleurs FOBB ",
          "Groupe de travailleurs FTMH ",
          "Groupe de travailleurs FTMH ",
          "Groupe de travailleurs FTMH ",
          "Groupe de travailleurs FTMH ",
          "Groupe de travailleurs FTMH ",
          "Groupe de travailleurs Lip ",
          "Groupe de travailleurs Lip ",
          "Groupe de travailleurs Lip ",
          "Groupe de travailleurs Lip ",
          "Groupe de travailleurs Lip ",
          "Groupe de travailleurs VPOD ",
          "Groupe de typographe zürichois ",
          "Jeunesse Ouvrière Chrétienne ",
          "Jeunesse chrétienne rurale ",
          "Ligue communiste française ",
          "Ligue marxiste révolutionnaire (LMR) ",
          "Ligue marxiste révolutionnaire (LMR) ",
          "Ligue marxiste révolutionnaire (LMR) ",
          "Ligue marxiste révolutionnaire (LMR) ",
          "Ligue marxiste révolutionnaire (LMR) ",
          "Ligue marxiste révolutionnaire (LMR) ",
          "Ligue marxiste révolutionnaire (LMR) ",
          "Ligue marxiste révolutionnaire (LMR) ",
          "Ligue marxiste révolutionnaire (LMR) ",
          "Ligue marxiste révolutionnaire (LMR) ",
          "Ligue marxiste révolutionnaire (LMR) ",
          "Ligue marxiste révolutionnaire (LMR) ",
          "Ligue marxiste révolutionnaire section Bienne<br>",
          "Ligue marxiste révolutionnaire section Bienne<br>",
          "Ligue marxiste révolutionnaire section Delémont<br>",
          "Ligue marxiste révolutionnaire section Delémont<br>",
          "Ligue marxiste révolutionnaire section Neuchâtel<br>",
          "Ligue marxiste révolutionnaire section Neuchâtel<br>",
          "Lutte prolétaire Bienne ",
          "Mouvemen populaire des familles ",
          "POP",
          "POP",
          "POP",
          "POP neuchâtelois ",
          "POP section Bienne ",
          "POP section Bienne ",
          "POP section La Chaux-de-Fonds ",
          "Parti communiste français (PCF) ",
          "Parti communiste français (PCF) ",
          "Parti communiste italien ",
          "Parti communiste italien section Delémont<br>",
          "Parti socialiste jurassien ",
          "Parti socialiste neuchâtelois ",
          "Parti socialiste section Lausanne ",
          "Parti socialiste unifié français (PSU)<br>",
          "Parti socialiste unifié français (PSU)<br>",
          "Parti socialiste vaudois ",
          "Parti socialiste ville de Zürich<br>",
          "Personnel Lip ",
          "Personnel Lip ",
          "Personnel Lip ",
          "Personnel Lip ",
          "Personnel Lip ",
          "Personnel Lip ",
          "Personnel Lip ",
          "Rupture pour le communisme ",
          "Typographia section Zürich "
         ],
         "title": {
          "text": "Organisation"
         }
        }
       }
      }
     },
     "metadata": {},
     "output_type": "display_data"
    }
   ],
   "source": [
    "### Observer présences et absences d'organisations aux événements\n",
    "# Les étiquette ont été enlevées à gauche, il faut l'affichage Plotly dynamique pour voir les valeurs en survol\n",
    "\n",
    "\n",
    "#size = [s*0.5 for s in g_q1.effectif]\n",
    "\n",
    "fig = px.scatter(g1_q1, x='date', y='nom_organis_break', size='effectif', size_max=15, \n",
    "                color='pays', \n",
    "                color_discrete_map={\"Suisse\": '#ff3333', \"France\": '#3333ff'},\n",
    "                hover_data=['date', 'effectif', 'noms_lieux'])\n",
    "\n",
    "#fig = px.bar(x=q1_df.index, y=q1_df.values, title=\"Manifestations\", barmode='relative')\n",
    "#fig.update_yaxes(dtick=1)\n",
    "\n",
    "fig.update_layout(\n",
    "    autosize=False,\n",
    "    legend=dict(x=0.01),\n",
    "    margin=dict(l=10, r=10, t=10, b=10),\n",
    "    paper_bgcolor=\"LightSteelBlue\",\n",
    "    width=1000,\n",
    "    height=1000,\n",
    "    xaxis_title=\"Date\", yaxis_title=\"Organisation\"\n",
    "    )\n",
    "\n",
    "xtk = g1_q1.date.to_list()\n",
    "\n",
    "fig.update_xaxes(tickangle=-50,\n",
    "\n",
    "                 tickmode = 'array',\n",
    "                 tickvals = xtk,\n",
    "                 ticktext= xtk,\n",
    "                \n",
    "    tickfont=dict(\n",
    "                       size=9,  # Set the font size here\n",
    "        color=\"Black\"\n",
    "    ))\n",
    "\n",
    "\n",
    "ytk = g1_q1.nom_organis_break.to_list()\n",
    "print()\n",
    "\n",
    "\n",
    "fig.update_yaxes(tickangle=-20,\n",
    "                 showticklabels=False,\n",
    "                 tickmode = 'array',\n",
    "                 tickvals = ytk,\n",
    "                 ticktext= ytk, #[], # ytk, # \n",
    "    tickfont=dict(\n",
    "                       size=9,  # Set the font size here\n",
    "        color=\"DarkBlue\"\n",
    "    ))\n",
    "\n",
    "fig.write_image(\"pictures/evenements_par_organisation_pays_et_date.jpg\")\n",
    "\n",
    "fig.show()"
   ]
  },
  {
   "cell_type": "code",
   "execution_count": null,
   "id": "2d4e356f-8e1e-4746-acea-e381eae98f1e",
   "metadata": {},
   "outputs": [],
   "source": []
  }
 ],
 "metadata": {
  "kernelspec": {
   "display_name": "py310_data_analysis",
   "language": "python",
   "name": "py310_data_analysis"
  },
  "language_info": {
   "codemirror_mode": {
    "name": "ipython",
    "version": 3
   },
   "file_extension": ".py",
   "mimetype": "text/x-python",
   "name": "python",
   "nbconvert_exporter": "python",
   "pygments_lexer": "ipython3",
   "version": "3.10.9"
  }
 },
 "nbformat": 4,
 "nbformat_minor": 5
}
