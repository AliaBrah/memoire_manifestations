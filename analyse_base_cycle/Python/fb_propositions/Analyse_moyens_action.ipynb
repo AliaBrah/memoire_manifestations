{
 "cells": [
  {
   "cell_type": "code",
   "execution_count": 1,
   "id": "1c2c209b-db14-4e1e-9365-8b4bcd898ced",
   "metadata": {},
   "outputs": [],
   "source": [
    "import pandas as pd\n",
    "import matplotlib.pyplot as plt\n",
    "import plotly.express as px\n",
    "import sqlite3 as sql"
   ]
  },
  {
   "cell_type": "code",
   "execution_count": 12,
   "id": "66757934",
   "metadata": {},
   "outputs": [],
   "source": [
    "### Define the path to the file (a string in a variable 'db_file')\n",
    "# if the data directory label is at the same level as the notebook,\n",
    "# then the path is 'data/astronomers_import.db'\n",
    "db_file_address = '../../Base_donnees/cycle_manifestation.db'"
   ]
  },
  {
   "cell_type": "code",
   "execution_count": 13,
   "id": "c105c9e2",
   "metadata": {},
   "outputs": [],
   "source": [
    "### This ist the query that produces the data to be analysed.\n",
    "# It has to be adapted to each use case\n",
    "q1 = \"\"\"\n",
    "SELECT dte.nom, dte.date_debut , dte.date_fin, dte.pays \n",
    "FROM distribution_temps_evenements dte     \n",
    "\"\"\""
   ]
  },
  {
   "cell_type": "code",
   "execution_count": 14,
   "id": "81b7a2b8",
   "metadata": {},
   "outputs": [],
   "source": [
    "### Create a connection to the SQLite database of your repository\n",
    "# Beware : if the database does not exist at the specified address (db_file_address)\n",
    "# it will be created and will be empty. Therefore, carefully check the database address\n",
    "try:\n",
    "    cn = sql.connect(db_file_address)    \n",
    "except Exception as e:\n",
    "    # if the connection does not work\n",
    "    # an error message is raised\n",
    "    print(e)    \n"
   ]
  },
  {
   "cell_type": "code",
   "execution_count": 15,
   "id": "b95de180",
   "metadata": {},
   "outputs": [
    {
     "data": {
      "text/html": [
       "<div>\n",
       "<style scoped>\n",
       "    .dataframe tbody tr th:only-of-type {\n",
       "        vertical-align: middle;\n",
       "    }\n",
       "\n",
       "    .dataframe tbody tr th {\n",
       "        vertical-align: top;\n",
       "    }\n",
       "\n",
       "    .dataframe thead th {\n",
       "        text-align: right;\n",
       "    }\n",
       "</style>\n",
       "<table border=\"1\" class=\"dataframe\">\n",
       "  <thead>\n",
       "    <tr style=\"text-align: right;\">\n",
       "      <th></th>\n",
       "      <th>nom</th>\n",
       "      <th>date_debut</th>\n",
       "      <th>date_fin</th>\n",
       "      <th>pays</th>\n",
       "    </tr>\n",
       "  </thead>\n",
       "  <tbody>\n",
       "    <tr>\n",
       "      <th>0</th>\n",
       "      <td>manifestation des ouvrier-ère-s de Lip</td>\n",
       "      <td>1973-05-18</td>\n",
       "      <td>1973-05-18</td>\n",
       "      <td>Suisse</td>\n",
       "    </tr>\n",
       "    <tr>\n",
       "      <th>1</th>\n",
       "      <td>meeting en solidarité aux ouvrier-ère-s de Lip</td>\n",
       "      <td>1973-05-25</td>\n",
       "      <td>1973-05-25</td>\n",
       "      <td>Suisse</td>\n",
       "    </tr>\n",
       "    <tr>\n",
       "      <th>2</th>\n",
       "      <td>manifestation des ouvrier-ère-s de Lip</td>\n",
       "      <td>1973-05-18</td>\n",
       "      <td>1973-05-18</td>\n",
       "      <td>France</td>\n",
       "    </tr>\n",
       "    <tr>\n",
       "      <th>3</th>\n",
       "      <td>manifestation des ouvrier-ère-s de Lip</td>\n",
       "      <td>1973-05-18</td>\n",
       "      <td>1973-05-18</td>\n",
       "      <td>France</td>\n",
       "    </tr>\n",
       "    <tr>\n",
       "      <th>4</th>\n",
       "      <td>regroupement devant le consulat suisse des ouv...</td>\n",
       "      <td>1973-05-18</td>\n",
       "      <td>1973-05-18</td>\n",
       "      <td>France</td>\n",
       "    </tr>\n",
       "  </tbody>\n",
       "</table>\n",
       "</div>"
      ],
      "text/plain": [
       "                                                 nom  date_debut    date_fin  \\\n",
       "0             manifestation des ouvrier-ère-s de Lip  1973-05-18  1973-05-18   \n",
       "1     meeting en solidarité aux ouvrier-ère-s de Lip  1973-05-25  1973-05-25   \n",
       "2             manifestation des ouvrier-ère-s de Lip  1973-05-18  1973-05-18   \n",
       "3             manifestation des ouvrier-ère-s de Lip  1973-05-18  1973-05-18   \n",
       "4  regroupement devant le consulat suisse des ouv...  1973-05-18  1973-05-18   \n",
       "\n",
       "     pays  \n",
       "0  Suisse  \n",
       "1  Suisse  \n",
       "2  France  \n",
       "3  France  \n",
       "4  France  "
      ]
     },
     "execution_count": 15,
     "metadata": {},
     "output_type": "execute_result"
    }
   ],
   "source": [
    "### This instruction executes the query \n",
    "# then closes the connection to the database \n",
    "q1_df= pd.read_sql_query(q1, cn)\n",
    "cn.close()\n",
    "# Inspect the first lines\n",
    "q1_df.head()"
   ]
  },
  {
   "cell_type": "code",
   "execution_count": 16,
   "id": "23281a77",
   "metadata": {},
   "outputs": [
    {
     "data": {
      "text/html": [
       "<div>\n",
       "<style scoped>\n",
       "    .dataframe tbody tr th:only-of-type {\n",
       "        vertical-align: middle;\n",
       "    }\n",
       "\n",
       "    .dataframe tbody tr th {\n",
       "        vertical-align: top;\n",
       "    }\n",
       "\n",
       "    .dataframe thead th {\n",
       "        text-align: right;\n",
       "    }\n",
       "</style>\n",
       "<table border=\"1\" class=\"dataframe\">\n",
       "  <thead>\n",
       "    <tr style=\"text-align: right;\">\n",
       "      <th></th>\n",
       "      <th>date_debut</th>\n",
       "      <th>pays</th>\n",
       "      <th>effectif</th>\n",
       "    </tr>\n",
       "  </thead>\n",
       "  <tbody>\n",
       "    <tr>\n",
       "      <th>0</th>\n",
       "      <td>1973-05-10</td>\n",
       "      <td>France</td>\n",
       "      <td>1</td>\n",
       "    </tr>\n",
       "    <tr>\n",
       "      <th>1</th>\n",
       "      <td>1973-05-18</td>\n",
       "      <td>France</td>\n",
       "      <td>3</td>\n",
       "    </tr>\n",
       "    <tr>\n",
       "      <th>2</th>\n",
       "      <td>1973-05-18</td>\n",
       "      <td>Suisse</td>\n",
       "      <td>1</td>\n",
       "    </tr>\n",
       "    <tr>\n",
       "      <th>3</th>\n",
       "      <td>1973-05-24</td>\n",
       "      <td>France</td>\n",
       "      <td>1</td>\n",
       "    </tr>\n",
       "    <tr>\n",
       "      <th>4</th>\n",
       "      <td>1973-05-25</td>\n",
       "      <td>Suisse</td>\n",
       "      <td>1</td>\n",
       "    </tr>\n",
       "  </tbody>\n",
       "</table>\n",
       "</div>"
      ],
      "text/plain": [
       "   date_debut    pays  effectif\n",
       "0  1973-05-10  France         1\n",
       "1  1973-05-18  France         3\n",
       "2  1973-05-18  Suisse         1\n",
       "3  1973-05-24  France         1\n",
       "4  1973-05-25  Suisse         1"
      ]
     },
     "execution_count": 16,
     "metadata": {},
     "output_type": "execute_result"
    }
   ],
   "source": [
    "### Regrouper par date et pays, compter\n",
    "g_q1 = q1_df[['date_debut', 'pays']].groupby(by=['date_debut', 'pays']).size().to_frame('effectif').reset_index()\n",
    "\n",
    "g_q1.head()\n"
   ]
  },
  {
   "cell_type": "code",
   "execution_count": 19,
   "id": "a32daf47",
   "metadata": {},
   "outputs": [
    {
     "data": {
      "application/vnd.plotly.v1+json": {
       "config": {
        "plotlyServerURL": "https://plot.ly"
       },
       "data": [
        {
         "alignmentgroup": "True",
         "hovertemplate": "pays=France<br>date_debut=%{x}<br>effectif=%{y}<extra></extra>",
         "legendgroup": "France",
         "marker": {
          "color": "#1F77B4",
          "pattern": {
           "shape": ""
          }
         },
         "name": "France",
         "offsetgroup": "France",
         "orientation": "v",
         "showlegend": true,
         "textposition": "auto",
         "type": "bar",
         "x": [
          "1973-05-10",
          "1973-05-18",
          "1973-05-24",
          "1973-05-29",
          "1973-06-12",
          "1973-06-13",
          "1973-06-15",
          "1973-08-14",
          "1973-09-29"
         ],
         "xaxis": "x",
         "y": [
          1,
          3,
          1,
          2,
          1,
          1,
          1,
          1,
          1
         ],
         "yaxis": "y"
        },
        {
         "alignmentgroup": "True",
         "hovertemplate": "pays=Suisse<br>date_debut=%{x}<br>effectif=%{y}<extra></extra>",
         "legendgroup": "Suisse",
         "marker": {
          "color": "#FF7F0E",
          "pattern": {
           "shape": ""
          }
         },
         "name": "Suisse",
         "offsetgroup": "Suisse",
         "orientation": "v",
         "showlegend": true,
         "textposition": "auto",
         "type": "bar",
         "x": [
          "1973-05-18",
          "1973-05-25",
          "1973-05-28",
          "1973-06-20",
          "1973-06-21",
          "1973-06-23",
          "1973-06-27",
          "1973-08-16",
          "1973-08-17",
          "1973-08-18",
          "1973-08-20",
          "1973-08-22",
          "1973-08-23",
          "1973-08-24",
          "1973-08-31",
          "1973-09-05",
          "1973-09-26",
          "1973-10-19",
          "1973-10-25"
         ],
         "xaxis": "x",
         "y": [
          1,
          1,
          1,
          2,
          1,
          2,
          1,
          1,
          1,
          1,
          1,
          1,
          1,
          1,
          1,
          1,
          1,
          1,
          1
         ],
         "yaxis": "y"
        }
       ],
       "layout": {
        "autosize": false,
        "barmode": "relative",
        "height": 400,
        "legend": {
         "title": {
          "text": "pays"
         },
         "tracegroupgap": 0
        },
        "margin": {
         "t": 60
        },
        "template": {
         "data": {
          "bar": [
           {
            "error_x": {
             "color": "#2a3f5f"
            },
            "error_y": {
             "color": "#2a3f5f"
            },
            "marker": {
             "line": {
              "color": "#E5ECF6",
              "width": 0.5
             },
             "pattern": {
              "fillmode": "overlay",
              "size": 10,
              "solidity": 0.2
             }
            },
            "type": "bar"
           }
          ],
          "barpolar": [
           {
            "marker": {
             "line": {
              "color": "#E5ECF6",
              "width": 0.5
             },
             "pattern": {
              "fillmode": "overlay",
              "size": 10,
              "solidity": 0.2
             }
            },
            "type": "barpolar"
           }
          ],
          "carpet": [
           {
            "aaxis": {
             "endlinecolor": "#2a3f5f",
             "gridcolor": "white",
             "linecolor": "white",
             "minorgridcolor": "white",
             "startlinecolor": "#2a3f5f"
            },
            "baxis": {
             "endlinecolor": "#2a3f5f",
             "gridcolor": "white",
             "linecolor": "white",
             "minorgridcolor": "white",
             "startlinecolor": "#2a3f5f"
            },
            "type": "carpet"
           }
          ],
          "choropleth": [
           {
            "colorbar": {
             "outlinewidth": 0,
             "ticks": ""
            },
            "type": "choropleth"
           }
          ],
          "contour": [
           {
            "colorbar": {
             "outlinewidth": 0,
             "ticks": ""
            },
            "colorscale": [
             [
              0,
              "#0d0887"
             ],
             [
              0.1111111111111111,
              "#46039f"
             ],
             [
              0.2222222222222222,
              "#7201a8"
             ],
             [
              0.3333333333333333,
              "#9c179e"
             ],
             [
              0.4444444444444444,
              "#bd3786"
             ],
             [
              0.5555555555555556,
              "#d8576b"
             ],
             [
              0.6666666666666666,
              "#ed7953"
             ],
             [
              0.7777777777777778,
              "#fb9f3a"
             ],
             [
              0.8888888888888888,
              "#fdca26"
             ],
             [
              1,
              "#f0f921"
             ]
            ],
            "type": "contour"
           }
          ],
          "contourcarpet": [
           {
            "colorbar": {
             "outlinewidth": 0,
             "ticks": ""
            },
            "type": "contourcarpet"
           }
          ],
          "heatmap": [
           {
            "colorbar": {
             "outlinewidth": 0,
             "ticks": ""
            },
            "colorscale": [
             [
              0,
              "#0d0887"
             ],
             [
              0.1111111111111111,
              "#46039f"
             ],
             [
              0.2222222222222222,
              "#7201a8"
             ],
             [
              0.3333333333333333,
              "#9c179e"
             ],
             [
              0.4444444444444444,
              "#bd3786"
             ],
             [
              0.5555555555555556,
              "#d8576b"
             ],
             [
              0.6666666666666666,
              "#ed7953"
             ],
             [
              0.7777777777777778,
              "#fb9f3a"
             ],
             [
              0.8888888888888888,
              "#fdca26"
             ],
             [
              1,
              "#f0f921"
             ]
            ],
            "type": "heatmap"
           }
          ],
          "heatmapgl": [
           {
            "colorbar": {
             "outlinewidth": 0,
             "ticks": ""
            },
            "colorscale": [
             [
              0,
              "#0d0887"
             ],
             [
              0.1111111111111111,
              "#46039f"
             ],
             [
              0.2222222222222222,
              "#7201a8"
             ],
             [
              0.3333333333333333,
              "#9c179e"
             ],
             [
              0.4444444444444444,
              "#bd3786"
             ],
             [
              0.5555555555555556,
              "#d8576b"
             ],
             [
              0.6666666666666666,
              "#ed7953"
             ],
             [
              0.7777777777777778,
              "#fb9f3a"
             ],
             [
              0.8888888888888888,
              "#fdca26"
             ],
             [
              1,
              "#f0f921"
             ]
            ],
            "type": "heatmapgl"
           }
          ],
          "histogram": [
           {
            "marker": {
             "pattern": {
              "fillmode": "overlay",
              "size": 10,
              "solidity": 0.2
             }
            },
            "type": "histogram"
           }
          ],
          "histogram2d": [
           {
            "colorbar": {
             "outlinewidth": 0,
             "ticks": ""
            },
            "colorscale": [
             [
              0,
              "#0d0887"
             ],
             [
              0.1111111111111111,
              "#46039f"
             ],
             [
              0.2222222222222222,
              "#7201a8"
             ],
             [
              0.3333333333333333,
              "#9c179e"
             ],
             [
              0.4444444444444444,
              "#bd3786"
             ],
             [
              0.5555555555555556,
              "#d8576b"
             ],
             [
              0.6666666666666666,
              "#ed7953"
             ],
             [
              0.7777777777777778,
              "#fb9f3a"
             ],
             [
              0.8888888888888888,
              "#fdca26"
             ],
             [
              1,
              "#f0f921"
             ]
            ],
            "type": "histogram2d"
           }
          ],
          "histogram2dcontour": [
           {
            "colorbar": {
             "outlinewidth": 0,
             "ticks": ""
            },
            "colorscale": [
             [
              0,
              "#0d0887"
             ],
             [
              0.1111111111111111,
              "#46039f"
             ],
             [
              0.2222222222222222,
              "#7201a8"
             ],
             [
              0.3333333333333333,
              "#9c179e"
             ],
             [
              0.4444444444444444,
              "#bd3786"
             ],
             [
              0.5555555555555556,
              "#d8576b"
             ],
             [
              0.6666666666666666,
              "#ed7953"
             ],
             [
              0.7777777777777778,
              "#fb9f3a"
             ],
             [
              0.8888888888888888,
              "#fdca26"
             ],
             [
              1,
              "#f0f921"
             ]
            ],
            "type": "histogram2dcontour"
           }
          ],
          "mesh3d": [
           {
            "colorbar": {
             "outlinewidth": 0,
             "ticks": ""
            },
            "type": "mesh3d"
           }
          ],
          "parcoords": [
           {
            "line": {
             "colorbar": {
              "outlinewidth": 0,
              "ticks": ""
             }
            },
            "type": "parcoords"
           }
          ],
          "pie": [
           {
            "automargin": true,
            "type": "pie"
           }
          ],
          "scatter": [
           {
            "fillpattern": {
             "fillmode": "overlay",
             "size": 10,
             "solidity": 0.2
            },
            "type": "scatter"
           }
          ],
          "scatter3d": [
           {
            "line": {
             "colorbar": {
              "outlinewidth": 0,
              "ticks": ""
             }
            },
            "marker": {
             "colorbar": {
              "outlinewidth": 0,
              "ticks": ""
             }
            },
            "type": "scatter3d"
           }
          ],
          "scattercarpet": [
           {
            "marker": {
             "colorbar": {
              "outlinewidth": 0,
              "ticks": ""
             }
            },
            "type": "scattercarpet"
           }
          ],
          "scattergeo": [
           {
            "marker": {
             "colorbar": {
              "outlinewidth": 0,
              "ticks": ""
             }
            },
            "type": "scattergeo"
           }
          ],
          "scattergl": [
           {
            "marker": {
             "colorbar": {
              "outlinewidth": 0,
              "ticks": ""
             }
            },
            "type": "scattergl"
           }
          ],
          "scattermapbox": [
           {
            "marker": {
             "colorbar": {
              "outlinewidth": 0,
              "ticks": ""
             }
            },
            "type": "scattermapbox"
           }
          ],
          "scatterpolar": [
           {
            "marker": {
             "colorbar": {
              "outlinewidth": 0,
              "ticks": ""
             }
            },
            "type": "scatterpolar"
           }
          ],
          "scatterpolargl": [
           {
            "marker": {
             "colorbar": {
              "outlinewidth": 0,
              "ticks": ""
             }
            },
            "type": "scatterpolargl"
           }
          ],
          "scatterternary": [
           {
            "marker": {
             "colorbar": {
              "outlinewidth": 0,
              "ticks": ""
             }
            },
            "type": "scatterternary"
           }
          ],
          "surface": [
           {
            "colorbar": {
             "outlinewidth": 0,
             "ticks": ""
            },
            "colorscale": [
             [
              0,
              "#0d0887"
             ],
             [
              0.1111111111111111,
              "#46039f"
             ],
             [
              0.2222222222222222,
              "#7201a8"
             ],
             [
              0.3333333333333333,
              "#9c179e"
             ],
             [
              0.4444444444444444,
              "#bd3786"
             ],
             [
              0.5555555555555556,
              "#d8576b"
             ],
             [
              0.6666666666666666,
              "#ed7953"
             ],
             [
              0.7777777777777778,
              "#fb9f3a"
             ],
             [
              0.8888888888888888,
              "#fdca26"
             ],
             [
              1,
              "#f0f921"
             ]
            ],
            "type": "surface"
           }
          ],
          "table": [
           {
            "cells": {
             "fill": {
              "color": "#EBF0F8"
             },
             "line": {
              "color": "white"
             }
            },
            "header": {
             "fill": {
              "color": "#C8D4E3"
             },
             "line": {
              "color": "white"
             }
            },
            "type": "table"
           }
          ]
         },
         "layout": {
          "annotationdefaults": {
           "arrowcolor": "#2a3f5f",
           "arrowhead": 0,
           "arrowwidth": 1
          },
          "autotypenumbers": "strict",
          "coloraxis": {
           "colorbar": {
            "outlinewidth": 0,
            "ticks": ""
           }
          },
          "colorscale": {
           "diverging": [
            [
             0,
             "#8e0152"
            ],
            [
             0.1,
             "#c51b7d"
            ],
            [
             0.2,
             "#de77ae"
            ],
            [
             0.3,
             "#f1b6da"
            ],
            [
             0.4,
             "#fde0ef"
            ],
            [
             0.5,
             "#f7f7f7"
            ],
            [
             0.6,
             "#e6f5d0"
            ],
            [
             0.7,
             "#b8e186"
            ],
            [
             0.8,
             "#7fbc41"
            ],
            [
             0.9,
             "#4d9221"
            ],
            [
             1,
             "#276419"
            ]
           ],
           "sequential": [
            [
             0,
             "#0d0887"
            ],
            [
             0.1111111111111111,
             "#46039f"
            ],
            [
             0.2222222222222222,
             "#7201a8"
            ],
            [
             0.3333333333333333,
             "#9c179e"
            ],
            [
             0.4444444444444444,
             "#bd3786"
            ],
            [
             0.5555555555555556,
             "#d8576b"
            ],
            [
             0.6666666666666666,
             "#ed7953"
            ],
            [
             0.7777777777777778,
             "#fb9f3a"
            ],
            [
             0.8888888888888888,
             "#fdca26"
            ],
            [
             1,
             "#f0f921"
            ]
           ],
           "sequentialminus": [
            [
             0,
             "#0d0887"
            ],
            [
             0.1111111111111111,
             "#46039f"
            ],
            [
             0.2222222222222222,
             "#7201a8"
            ],
            [
             0.3333333333333333,
             "#9c179e"
            ],
            [
             0.4444444444444444,
             "#bd3786"
            ],
            [
             0.5555555555555556,
             "#d8576b"
            ],
            [
             0.6666666666666666,
             "#ed7953"
            ],
            [
             0.7777777777777778,
             "#fb9f3a"
            ],
            [
             0.8888888888888888,
             "#fdca26"
            ],
            [
             1,
             "#f0f921"
            ]
           ]
          },
          "colorway": [
           "#636efa",
           "#EF553B",
           "#00cc96",
           "#ab63fa",
           "#FFA15A",
           "#19d3f3",
           "#FF6692",
           "#B6E880",
           "#FF97FF",
           "#FECB52"
          ],
          "font": {
           "color": "#2a3f5f"
          },
          "geo": {
           "bgcolor": "white",
           "lakecolor": "white",
           "landcolor": "#E5ECF6",
           "showlakes": true,
           "showland": true,
           "subunitcolor": "white"
          },
          "hoverlabel": {
           "align": "left"
          },
          "hovermode": "closest",
          "mapbox": {
           "style": "light"
          },
          "paper_bgcolor": "white",
          "plot_bgcolor": "#E5ECF6",
          "polar": {
           "angularaxis": {
            "gridcolor": "white",
            "linecolor": "white",
            "ticks": ""
           },
           "bgcolor": "#E5ECF6",
           "radialaxis": {
            "gridcolor": "white",
            "linecolor": "white",
            "ticks": ""
           }
          },
          "scene": {
           "xaxis": {
            "backgroundcolor": "#E5ECF6",
            "gridcolor": "white",
            "gridwidth": 2,
            "linecolor": "white",
            "showbackground": true,
            "ticks": "",
            "zerolinecolor": "white"
           },
           "yaxis": {
            "backgroundcolor": "#E5ECF6",
            "gridcolor": "white",
            "gridwidth": 2,
            "linecolor": "white",
            "showbackground": true,
            "ticks": "",
            "zerolinecolor": "white"
           },
           "zaxis": {
            "backgroundcolor": "#E5ECF6",
            "gridcolor": "white",
            "gridwidth": 2,
            "linecolor": "white",
            "showbackground": true,
            "ticks": "",
            "zerolinecolor": "white"
           }
          },
          "shapedefaults": {
           "line": {
            "color": "#2a3f5f"
           }
          },
          "ternary": {
           "aaxis": {
            "gridcolor": "white",
            "linecolor": "white",
            "ticks": ""
           },
           "baxis": {
            "gridcolor": "white",
            "linecolor": "white",
            "ticks": ""
           },
           "bgcolor": "#E5ECF6",
           "caxis": {
            "gridcolor": "white",
            "linecolor": "white",
            "ticks": ""
           }
          },
          "title": {
           "x": 0.05
          },
          "xaxis": {
           "automargin": true,
           "gridcolor": "white",
           "linecolor": "white",
           "ticks": "",
           "title": {
            "standoff": 15
           },
           "zerolinecolor": "white",
           "zerolinewidth": 2
          },
          "yaxis": {
           "automargin": true,
           "gridcolor": "white",
           "linecolor": "white",
           "ticks": "",
           "title": {
            "standoff": 15
           },
           "zerolinecolor": "white",
           "zerolinewidth": 2
          }
         }
        },
        "width": 1000,
        "xaxis": {
         "anchor": "y",
         "domain": [
          0,
          1
         ],
         "title": {
          "text": "date_debut"
         }
        },
        "yaxis": {
         "anchor": "x",
         "domain": [
          0,
          1
         ],
         "dtick": 1,
         "title": {
          "text": "effectif"
         }
        }
       }
      },
      "text/html": [
       "<div>                            <div id=\"ebb4a30c-8e8a-4964-af6b-dfd5a8f31362\" class=\"plotly-graph-div\" style=\"height:400px; width:1000px;\"></div>            <script type=\"text/javascript\">                require([\"plotly\"], function(Plotly) {                    window.PLOTLYENV=window.PLOTLYENV || {};                                    if (document.getElementById(\"ebb4a30c-8e8a-4964-af6b-dfd5a8f31362\")) {                    Plotly.newPlot(                        \"ebb4a30c-8e8a-4964-af6b-dfd5a8f31362\",                        [{\"alignmentgroup\":\"True\",\"hovertemplate\":\"pays=France\\u003cbr\\u003edate_debut=%{x}\\u003cbr\\u003eeffectif=%{y}\\u003cextra\\u003e\\u003c\\u002fextra\\u003e\",\"legendgroup\":\"France\",\"marker\":{\"color\":\"#1F77B4\",\"pattern\":{\"shape\":\"\"}},\"name\":\"France\",\"offsetgroup\":\"France\",\"orientation\":\"v\",\"showlegend\":true,\"textposition\":\"auto\",\"x\":[\"1973-05-10\",\"1973-05-18\",\"1973-05-24\",\"1973-05-29\",\"1973-06-12\",\"1973-06-13\",\"1973-06-15\",\"1973-08-14\",\"1973-09-29\"],\"xaxis\":\"x\",\"y\":[1,3,1,2,1,1,1,1,1],\"yaxis\":\"y\",\"type\":\"bar\"},{\"alignmentgroup\":\"True\",\"hovertemplate\":\"pays=Suisse\\u003cbr\\u003edate_debut=%{x}\\u003cbr\\u003eeffectif=%{y}\\u003cextra\\u003e\\u003c\\u002fextra\\u003e\",\"legendgroup\":\"Suisse\",\"marker\":{\"color\":\"#FF7F0E\",\"pattern\":{\"shape\":\"\"}},\"name\":\"Suisse\",\"offsetgroup\":\"Suisse\",\"orientation\":\"v\",\"showlegend\":true,\"textposition\":\"auto\",\"x\":[\"1973-05-18\",\"1973-05-25\",\"1973-05-28\",\"1973-06-20\",\"1973-06-21\",\"1973-06-23\",\"1973-06-27\",\"1973-08-16\",\"1973-08-17\",\"1973-08-18\",\"1973-08-20\",\"1973-08-22\",\"1973-08-23\",\"1973-08-24\",\"1973-08-31\",\"1973-09-05\",\"1973-09-26\",\"1973-10-19\",\"1973-10-25\"],\"xaxis\":\"x\",\"y\":[1,1,1,2,1,2,1,1,1,1,1,1,1,1,1,1,1,1,1],\"yaxis\":\"y\",\"type\":\"bar\"}],                        {\"template\":{\"data\":{\"histogram2dcontour\":[{\"type\":\"histogram2dcontour\",\"colorbar\":{\"outlinewidth\":0,\"ticks\":\"\"},\"colorscale\":[[0.0,\"#0d0887\"],[0.1111111111111111,\"#46039f\"],[0.2222222222222222,\"#7201a8\"],[0.3333333333333333,\"#9c179e\"],[0.4444444444444444,\"#bd3786\"],[0.5555555555555556,\"#d8576b\"],[0.6666666666666666,\"#ed7953\"],[0.7777777777777778,\"#fb9f3a\"],[0.8888888888888888,\"#fdca26\"],[1.0,\"#f0f921\"]]}],\"choropleth\":[{\"type\":\"choropleth\",\"colorbar\":{\"outlinewidth\":0,\"ticks\":\"\"}}],\"histogram2d\":[{\"type\":\"histogram2d\",\"colorbar\":{\"outlinewidth\":0,\"ticks\":\"\"},\"colorscale\":[[0.0,\"#0d0887\"],[0.1111111111111111,\"#46039f\"],[0.2222222222222222,\"#7201a8\"],[0.3333333333333333,\"#9c179e\"],[0.4444444444444444,\"#bd3786\"],[0.5555555555555556,\"#d8576b\"],[0.6666666666666666,\"#ed7953\"],[0.7777777777777778,\"#fb9f3a\"],[0.8888888888888888,\"#fdca26\"],[1.0,\"#f0f921\"]]}],\"heatmap\":[{\"type\":\"heatmap\",\"colorbar\":{\"outlinewidth\":0,\"ticks\":\"\"},\"colorscale\":[[0.0,\"#0d0887\"],[0.1111111111111111,\"#46039f\"],[0.2222222222222222,\"#7201a8\"],[0.3333333333333333,\"#9c179e\"],[0.4444444444444444,\"#bd3786\"],[0.5555555555555556,\"#d8576b\"],[0.6666666666666666,\"#ed7953\"],[0.7777777777777778,\"#fb9f3a\"],[0.8888888888888888,\"#fdca26\"],[1.0,\"#f0f921\"]]}],\"heatmapgl\":[{\"type\":\"heatmapgl\",\"colorbar\":{\"outlinewidth\":0,\"ticks\":\"\"},\"colorscale\":[[0.0,\"#0d0887\"],[0.1111111111111111,\"#46039f\"],[0.2222222222222222,\"#7201a8\"],[0.3333333333333333,\"#9c179e\"],[0.4444444444444444,\"#bd3786\"],[0.5555555555555556,\"#d8576b\"],[0.6666666666666666,\"#ed7953\"],[0.7777777777777778,\"#fb9f3a\"],[0.8888888888888888,\"#fdca26\"],[1.0,\"#f0f921\"]]}],\"contourcarpet\":[{\"type\":\"contourcarpet\",\"colorbar\":{\"outlinewidth\":0,\"ticks\":\"\"}}],\"contour\":[{\"type\":\"contour\",\"colorbar\":{\"outlinewidth\":0,\"ticks\":\"\"},\"colorscale\":[[0.0,\"#0d0887\"],[0.1111111111111111,\"#46039f\"],[0.2222222222222222,\"#7201a8\"],[0.3333333333333333,\"#9c179e\"],[0.4444444444444444,\"#bd3786\"],[0.5555555555555556,\"#d8576b\"],[0.6666666666666666,\"#ed7953\"],[0.7777777777777778,\"#fb9f3a\"],[0.8888888888888888,\"#fdca26\"],[1.0,\"#f0f921\"]]}],\"surface\":[{\"type\":\"surface\",\"colorbar\":{\"outlinewidth\":0,\"ticks\":\"\"},\"colorscale\":[[0.0,\"#0d0887\"],[0.1111111111111111,\"#46039f\"],[0.2222222222222222,\"#7201a8\"],[0.3333333333333333,\"#9c179e\"],[0.4444444444444444,\"#bd3786\"],[0.5555555555555556,\"#d8576b\"],[0.6666666666666666,\"#ed7953\"],[0.7777777777777778,\"#fb9f3a\"],[0.8888888888888888,\"#fdca26\"],[1.0,\"#f0f921\"]]}],\"mesh3d\":[{\"type\":\"mesh3d\",\"colorbar\":{\"outlinewidth\":0,\"ticks\":\"\"}}],\"scatter\":[{\"fillpattern\":{\"fillmode\":\"overlay\",\"size\":10,\"solidity\":0.2},\"type\":\"scatter\"}],\"parcoords\":[{\"type\":\"parcoords\",\"line\":{\"colorbar\":{\"outlinewidth\":0,\"ticks\":\"\"}}}],\"scatterpolargl\":[{\"type\":\"scatterpolargl\",\"marker\":{\"colorbar\":{\"outlinewidth\":0,\"ticks\":\"\"}}}],\"bar\":[{\"error_x\":{\"color\":\"#2a3f5f\"},\"error_y\":{\"color\":\"#2a3f5f\"},\"marker\":{\"line\":{\"color\":\"#E5ECF6\",\"width\":0.5},\"pattern\":{\"fillmode\":\"overlay\",\"size\":10,\"solidity\":0.2}},\"type\":\"bar\"}],\"scattergeo\":[{\"type\":\"scattergeo\",\"marker\":{\"colorbar\":{\"outlinewidth\":0,\"ticks\":\"\"}}}],\"scatterpolar\":[{\"type\":\"scatterpolar\",\"marker\":{\"colorbar\":{\"outlinewidth\":0,\"ticks\":\"\"}}}],\"histogram\":[{\"marker\":{\"pattern\":{\"fillmode\":\"overlay\",\"size\":10,\"solidity\":0.2}},\"type\":\"histogram\"}],\"scattergl\":[{\"type\":\"scattergl\",\"marker\":{\"colorbar\":{\"outlinewidth\":0,\"ticks\":\"\"}}}],\"scatter3d\":[{\"type\":\"scatter3d\",\"line\":{\"colorbar\":{\"outlinewidth\":0,\"ticks\":\"\"}},\"marker\":{\"colorbar\":{\"outlinewidth\":0,\"ticks\":\"\"}}}],\"scattermapbox\":[{\"type\":\"scattermapbox\",\"marker\":{\"colorbar\":{\"outlinewidth\":0,\"ticks\":\"\"}}}],\"scatterternary\":[{\"type\":\"scatterternary\",\"marker\":{\"colorbar\":{\"outlinewidth\":0,\"ticks\":\"\"}}}],\"scattercarpet\":[{\"type\":\"scattercarpet\",\"marker\":{\"colorbar\":{\"outlinewidth\":0,\"ticks\":\"\"}}}],\"carpet\":[{\"aaxis\":{\"endlinecolor\":\"#2a3f5f\",\"gridcolor\":\"white\",\"linecolor\":\"white\",\"minorgridcolor\":\"white\",\"startlinecolor\":\"#2a3f5f\"},\"baxis\":{\"endlinecolor\":\"#2a3f5f\",\"gridcolor\":\"white\",\"linecolor\":\"white\",\"minorgridcolor\":\"white\",\"startlinecolor\":\"#2a3f5f\"},\"type\":\"carpet\"}],\"table\":[{\"cells\":{\"fill\":{\"color\":\"#EBF0F8\"},\"line\":{\"color\":\"white\"}},\"header\":{\"fill\":{\"color\":\"#C8D4E3\"},\"line\":{\"color\":\"white\"}},\"type\":\"table\"}],\"barpolar\":[{\"marker\":{\"line\":{\"color\":\"#E5ECF6\",\"width\":0.5},\"pattern\":{\"fillmode\":\"overlay\",\"size\":10,\"solidity\":0.2}},\"type\":\"barpolar\"}],\"pie\":[{\"automargin\":true,\"type\":\"pie\"}]},\"layout\":{\"autotypenumbers\":\"strict\",\"colorway\":[\"#636efa\",\"#EF553B\",\"#00cc96\",\"#ab63fa\",\"#FFA15A\",\"#19d3f3\",\"#FF6692\",\"#B6E880\",\"#FF97FF\",\"#FECB52\"],\"font\":{\"color\":\"#2a3f5f\"},\"hovermode\":\"closest\",\"hoverlabel\":{\"align\":\"left\"},\"paper_bgcolor\":\"white\",\"plot_bgcolor\":\"#E5ECF6\",\"polar\":{\"bgcolor\":\"#E5ECF6\",\"angularaxis\":{\"gridcolor\":\"white\",\"linecolor\":\"white\",\"ticks\":\"\"},\"radialaxis\":{\"gridcolor\":\"white\",\"linecolor\":\"white\",\"ticks\":\"\"}},\"ternary\":{\"bgcolor\":\"#E5ECF6\",\"aaxis\":{\"gridcolor\":\"white\",\"linecolor\":\"white\",\"ticks\":\"\"},\"baxis\":{\"gridcolor\":\"white\",\"linecolor\":\"white\",\"ticks\":\"\"},\"caxis\":{\"gridcolor\":\"white\",\"linecolor\":\"white\",\"ticks\":\"\"}},\"coloraxis\":{\"colorbar\":{\"outlinewidth\":0,\"ticks\":\"\"}},\"colorscale\":{\"sequential\":[[0.0,\"#0d0887\"],[0.1111111111111111,\"#46039f\"],[0.2222222222222222,\"#7201a8\"],[0.3333333333333333,\"#9c179e\"],[0.4444444444444444,\"#bd3786\"],[0.5555555555555556,\"#d8576b\"],[0.6666666666666666,\"#ed7953\"],[0.7777777777777778,\"#fb9f3a\"],[0.8888888888888888,\"#fdca26\"],[1.0,\"#f0f921\"]],\"sequentialminus\":[[0.0,\"#0d0887\"],[0.1111111111111111,\"#46039f\"],[0.2222222222222222,\"#7201a8\"],[0.3333333333333333,\"#9c179e\"],[0.4444444444444444,\"#bd3786\"],[0.5555555555555556,\"#d8576b\"],[0.6666666666666666,\"#ed7953\"],[0.7777777777777778,\"#fb9f3a\"],[0.8888888888888888,\"#fdca26\"],[1.0,\"#f0f921\"]],\"diverging\":[[0,\"#8e0152\"],[0.1,\"#c51b7d\"],[0.2,\"#de77ae\"],[0.3,\"#f1b6da\"],[0.4,\"#fde0ef\"],[0.5,\"#f7f7f7\"],[0.6,\"#e6f5d0\"],[0.7,\"#b8e186\"],[0.8,\"#7fbc41\"],[0.9,\"#4d9221\"],[1,\"#276419\"]]},\"xaxis\":{\"gridcolor\":\"white\",\"linecolor\":\"white\",\"ticks\":\"\",\"title\":{\"standoff\":15},\"zerolinecolor\":\"white\",\"automargin\":true,\"zerolinewidth\":2},\"yaxis\":{\"gridcolor\":\"white\",\"linecolor\":\"white\",\"ticks\":\"\",\"title\":{\"standoff\":15},\"zerolinecolor\":\"white\",\"automargin\":true,\"zerolinewidth\":2},\"scene\":{\"xaxis\":{\"backgroundcolor\":\"#E5ECF6\",\"gridcolor\":\"white\",\"linecolor\":\"white\",\"showbackground\":true,\"ticks\":\"\",\"zerolinecolor\":\"white\",\"gridwidth\":2},\"yaxis\":{\"backgroundcolor\":\"#E5ECF6\",\"gridcolor\":\"white\",\"linecolor\":\"white\",\"showbackground\":true,\"ticks\":\"\",\"zerolinecolor\":\"white\",\"gridwidth\":2},\"zaxis\":{\"backgroundcolor\":\"#E5ECF6\",\"gridcolor\":\"white\",\"linecolor\":\"white\",\"showbackground\":true,\"ticks\":\"\",\"zerolinecolor\":\"white\",\"gridwidth\":2}},\"shapedefaults\":{\"line\":{\"color\":\"#2a3f5f\"}},\"annotationdefaults\":{\"arrowcolor\":\"#2a3f5f\",\"arrowhead\":0,\"arrowwidth\":1},\"geo\":{\"bgcolor\":\"white\",\"landcolor\":\"#E5ECF6\",\"subunitcolor\":\"white\",\"showland\":true,\"showlakes\":true,\"lakecolor\":\"white\"},\"title\":{\"x\":0.05},\"mapbox\":{\"style\":\"light\"}}},\"xaxis\":{\"anchor\":\"y\",\"domain\":[0.0,1.0],\"title\":{\"text\":\"date_debut\"}},\"yaxis\":{\"anchor\":\"x\",\"domain\":[0.0,1.0],\"title\":{\"text\":\"effectif\"},\"dtick\":1},\"legend\":{\"title\":{\"text\":\"pays\"},\"tracegroupgap\":0},\"margin\":{\"t\":60},\"barmode\":\"relative\",\"autosize\":false,\"width\":1000,\"height\":400},                        {\"responsive\": true}                    ).then(function(){\n",
       "                            \n",
       "var gd = document.getElementById('ebb4a30c-8e8a-4964-af6b-dfd5a8f31362');\n",
       "var x = new MutationObserver(function (mutations, observer) {{\n",
       "        var display = window.getComputedStyle(gd).display;\n",
       "        if (!display || display === 'none') {{\n",
       "            console.log([gd, 'removed!']);\n",
       "            Plotly.purge(gd);\n",
       "            observer.disconnect();\n",
       "        }}\n",
       "}});\n",
       "\n",
       "// Listen for the removal of the full notebook cells\n",
       "var notebookContainer = gd.closest('#notebook-container');\n",
       "if (notebookContainer) {{\n",
       "    x.observe(notebookContainer, {childList: true});\n",
       "}}\n",
       "\n",
       "// Listen for the clearing of the current output cell\n",
       "var outputEl = gd.closest('.output');\n",
       "if (outputEl) {{\n",
       "    x.observe(outputEl, {childList: true});\n",
       "}}\n",
       "\n",
       "                        })                };                });            </script>        </div>"
      ]
     },
     "metadata": {},
     "output_type": "display_data"
    }
   ],
   "source": [
    "### Use a different plotting library: Plotly Express\n",
    "# Observe the default behaviour of the library\n",
    "\n",
    "fig = px.bar(g_q1, x='date_debut', y='effectif', color='pays',\n",
    "             color_discrete_sequence=px.colors.qualitative.D3)\n",
    "\n",
    "#fig = px.bar(x=q1_df.index, y=q1_df.values, title=\"Manifestations\", barmode='relative')\n",
    "fig.update_yaxes(dtick=1)\n",
    "fig.update_layout(\n",
    "    autosize=False,\n",
    "    width=1000,\n",
    "    height=400,\n",
    ")\n",
    "# fig.show()"
   ]
  },
  {
   "cell_type": "markdown",
   "id": "99b1fd46",
   "metadata": {},
   "source": [
    "## Visualisation avec des points (ou bulles) par pays, type et date\n",
    "\n",
    "Ces visualisations visent à mettre mieux en évidence la chronologie des événements"
   ]
  },
  {
   "cell_type": "code",
   "execution_count": 34,
   "id": "1e51a327-0b54-49ac-b44e-db55f79bda9c",
   "metadata": {},
   "outputs": [],
   "source": [
    "fig = px.scatter(\n",
    "    g_q1, \n",
    "    x='date_debut', \n",
    "    y='pays', \n",
    "    size='effectif', \n",
    "    size_max=15, \n",
    "    color='pays', \n",
    "    hover_data=['date_debut', 'effectif'],\n",
    "    color_discrete_map={\n",
    "        'Suisse': 'rgba(255, 80, 80, 0.9)',  # Rouge plus vif pour la Suisse\n",
    "        'France': 'rgba(80, 150, 255, 0.9)'   # Bleu plus vif pour la France\n",
    "    }    \n",
    ")\n",
    "\n",
    "fig.update_layout(\n",
    "    autosize=False,\n",
    "    width=1200,\n",
    "    height=250,\n",
    "    xaxis_title=\"Date\", \n",
    "    yaxis_title=\"Pays\"\n",
    ")\n",
    "\n",
    "# Enregistrer le graphique en tant qu'image statique\n",
    "fig.write_image(\"pictures/evenements_par_pays_et_date3.jpg\")\n"
   ]
  },
  {
   "cell_type": "code",
   "execution_count": 18,
   "id": "d2a7394b",
   "metadata": {},
   "outputs": [
    {
     "data": {
      "application/vnd.plotly.v1+json": {
       "config": {
        "plotlyServerURL": "https://plot.ly"
       },
       "data": [
        {
         "customdata": [
          [
           1
          ],
          [
           3
          ],
          [
           1
          ],
          [
           2
          ],
          [
           1
          ],
          [
           1
          ],
          [
           1
          ],
          [
           1
          ],
          [
           1
          ]
         ],
         "hovertemplate": "pays=%{y}<br>date_debut=%{x}<br>effectif=%{customdata[0]}<extra></extra>",
         "legendgroup": "France",
         "marker": {
          "color": "#1F77B4",
          "size": [
           1,
           3,
           1,
           2,
           1,
           1,
           1,
           1,
           1
          ],
          "sizemode": "area",
          "sizeref": 0.013333333333333334,
          "symbol": "circle"
         },
         "mode": "markers",
         "name": "France",
         "orientation": "v",
         "showlegend": true,
         "type": "scatter",
         "x": [
          "1973-05-10",
          "1973-05-18",
          "1973-05-24",
          "1973-05-29",
          "1973-06-12",
          "1973-06-13",
          "1973-06-15",
          "1973-08-14",
          "1973-09-29"
         ],
         "xaxis": "x",
         "y": [
          "France",
          "France",
          "France",
          "France",
          "France",
          "France",
          "France",
          "France",
          "France"
         ],
         "yaxis": "y"
        },
        {
         "customdata": [
          [
           1
          ],
          [
           1
          ],
          [
           1
          ],
          [
           2
          ],
          [
           1
          ],
          [
           2
          ],
          [
           1
          ],
          [
           1
          ],
          [
           1
          ],
          [
           1
          ],
          [
           1
          ],
          [
           1
          ],
          [
           1
          ],
          [
           1
          ],
          [
           1
          ],
          [
           1
          ],
          [
           1
          ],
          [
           1
          ],
          [
           1
          ]
         ],
         "hovertemplate": "pays=%{y}<br>date_debut=%{x}<br>effectif=%{customdata[0]}<extra></extra>",
         "legendgroup": "Suisse",
         "marker": {
          "color": "#FF7F0E",
          "size": [
           1,
           1,
           1,
           2,
           1,
           2,
           1,
           1,
           1,
           1,
           1,
           1,
           1,
           1,
           1,
           1,
           1,
           1,
           1
          ],
          "sizemode": "area",
          "sizeref": 0.013333333333333334,
          "symbol": "circle"
         },
         "mode": "markers",
         "name": "Suisse",
         "orientation": "v",
         "showlegend": true,
         "type": "scatter",
         "x": [
          "1973-05-18",
          "1973-05-25",
          "1973-05-28",
          "1973-06-20",
          "1973-06-21",
          "1973-06-23",
          "1973-06-27",
          "1973-08-16",
          "1973-08-17",
          "1973-08-18",
          "1973-08-20",
          "1973-08-22",
          "1973-08-23",
          "1973-08-24",
          "1973-08-31",
          "1973-09-05",
          "1973-09-26",
          "1973-10-19",
          "1973-10-25"
         ],
         "xaxis": "x",
         "y": [
          "Suisse",
          "Suisse",
          "Suisse",
          "Suisse",
          "Suisse",
          "Suisse",
          "Suisse",
          "Suisse",
          "Suisse",
          "Suisse",
          "Suisse",
          "Suisse",
          "Suisse",
          "Suisse",
          "Suisse",
          "Suisse",
          "Suisse",
          "Suisse",
          "Suisse"
         ],
         "yaxis": "y"
        }
       ],
       "layout": {
        "autosize": false,
        "height": 250,
        "legend": {
         "itemsizing": "constant",
         "title": {
          "text": "pays"
         },
         "tracegroupgap": 0
        },
        "margin": {
         "t": 60
        },
        "template": {
         "data": {
          "bar": [
           {
            "error_x": {
             "color": "#2a3f5f"
            },
            "error_y": {
             "color": "#2a3f5f"
            },
            "marker": {
             "line": {
              "color": "#E5ECF6",
              "width": 0.5
             },
             "pattern": {
              "fillmode": "overlay",
              "size": 10,
              "solidity": 0.2
             }
            },
            "type": "bar"
           }
          ],
          "barpolar": [
           {
            "marker": {
             "line": {
              "color": "#E5ECF6",
              "width": 0.5
             },
             "pattern": {
              "fillmode": "overlay",
              "size": 10,
              "solidity": 0.2
             }
            },
            "type": "barpolar"
           }
          ],
          "carpet": [
           {
            "aaxis": {
             "endlinecolor": "#2a3f5f",
             "gridcolor": "white",
             "linecolor": "white",
             "minorgridcolor": "white",
             "startlinecolor": "#2a3f5f"
            },
            "baxis": {
             "endlinecolor": "#2a3f5f",
             "gridcolor": "white",
             "linecolor": "white",
             "minorgridcolor": "white",
             "startlinecolor": "#2a3f5f"
            },
            "type": "carpet"
           }
          ],
          "choropleth": [
           {
            "colorbar": {
             "outlinewidth": 0,
             "ticks": ""
            },
            "type": "choropleth"
           }
          ],
          "contour": [
           {
            "colorbar": {
             "outlinewidth": 0,
             "ticks": ""
            },
            "colorscale": [
             [
              0,
              "#0d0887"
             ],
             [
              0.1111111111111111,
              "#46039f"
             ],
             [
              0.2222222222222222,
              "#7201a8"
             ],
             [
              0.3333333333333333,
              "#9c179e"
             ],
             [
              0.4444444444444444,
              "#bd3786"
             ],
             [
              0.5555555555555556,
              "#d8576b"
             ],
             [
              0.6666666666666666,
              "#ed7953"
             ],
             [
              0.7777777777777778,
              "#fb9f3a"
             ],
             [
              0.8888888888888888,
              "#fdca26"
             ],
             [
              1,
              "#f0f921"
             ]
            ],
            "type": "contour"
           }
          ],
          "contourcarpet": [
           {
            "colorbar": {
             "outlinewidth": 0,
             "ticks": ""
            },
            "type": "contourcarpet"
           }
          ],
          "heatmap": [
           {
            "colorbar": {
             "outlinewidth": 0,
             "ticks": ""
            },
            "colorscale": [
             [
              0,
              "#0d0887"
             ],
             [
              0.1111111111111111,
              "#46039f"
             ],
             [
              0.2222222222222222,
              "#7201a8"
             ],
             [
              0.3333333333333333,
              "#9c179e"
             ],
             [
              0.4444444444444444,
              "#bd3786"
             ],
             [
              0.5555555555555556,
              "#d8576b"
             ],
             [
              0.6666666666666666,
              "#ed7953"
             ],
             [
              0.7777777777777778,
              "#fb9f3a"
             ],
             [
              0.8888888888888888,
              "#fdca26"
             ],
             [
              1,
              "#f0f921"
             ]
            ],
            "type": "heatmap"
           }
          ],
          "heatmapgl": [
           {
            "colorbar": {
             "outlinewidth": 0,
             "ticks": ""
            },
            "colorscale": [
             [
              0,
              "#0d0887"
             ],
             [
              0.1111111111111111,
              "#46039f"
             ],
             [
              0.2222222222222222,
              "#7201a8"
             ],
             [
              0.3333333333333333,
              "#9c179e"
             ],
             [
              0.4444444444444444,
              "#bd3786"
             ],
             [
              0.5555555555555556,
              "#d8576b"
             ],
             [
              0.6666666666666666,
              "#ed7953"
             ],
             [
              0.7777777777777778,
              "#fb9f3a"
             ],
             [
              0.8888888888888888,
              "#fdca26"
             ],
             [
              1,
              "#f0f921"
             ]
            ],
            "type": "heatmapgl"
           }
          ],
          "histogram": [
           {
            "marker": {
             "pattern": {
              "fillmode": "overlay",
              "size": 10,
              "solidity": 0.2
             }
            },
            "type": "histogram"
           }
          ],
          "histogram2d": [
           {
            "colorbar": {
             "outlinewidth": 0,
             "ticks": ""
            },
            "colorscale": [
             [
              0,
              "#0d0887"
             ],
             [
              0.1111111111111111,
              "#46039f"
             ],
             [
              0.2222222222222222,
              "#7201a8"
             ],
             [
              0.3333333333333333,
              "#9c179e"
             ],
             [
              0.4444444444444444,
              "#bd3786"
             ],
             [
              0.5555555555555556,
              "#d8576b"
             ],
             [
              0.6666666666666666,
              "#ed7953"
             ],
             [
              0.7777777777777778,
              "#fb9f3a"
             ],
             [
              0.8888888888888888,
              "#fdca26"
             ],
             [
              1,
              "#f0f921"
             ]
            ],
            "type": "histogram2d"
           }
          ],
          "histogram2dcontour": [
           {
            "colorbar": {
             "outlinewidth": 0,
             "ticks": ""
            },
            "colorscale": [
             [
              0,
              "#0d0887"
             ],
             [
              0.1111111111111111,
              "#46039f"
             ],
             [
              0.2222222222222222,
              "#7201a8"
             ],
             [
              0.3333333333333333,
              "#9c179e"
             ],
             [
              0.4444444444444444,
              "#bd3786"
             ],
             [
              0.5555555555555556,
              "#d8576b"
             ],
             [
              0.6666666666666666,
              "#ed7953"
             ],
             [
              0.7777777777777778,
              "#fb9f3a"
             ],
             [
              0.8888888888888888,
              "#fdca26"
             ],
             [
              1,
              "#f0f921"
             ]
            ],
            "type": "histogram2dcontour"
           }
          ],
          "mesh3d": [
           {
            "colorbar": {
             "outlinewidth": 0,
             "ticks": ""
            },
            "type": "mesh3d"
           }
          ],
          "parcoords": [
           {
            "line": {
             "colorbar": {
              "outlinewidth": 0,
              "ticks": ""
             }
            },
            "type": "parcoords"
           }
          ],
          "pie": [
           {
            "automargin": true,
            "type": "pie"
           }
          ],
          "scatter": [
           {
            "fillpattern": {
             "fillmode": "overlay",
             "size": 10,
             "solidity": 0.2
            },
            "type": "scatter"
           }
          ],
          "scatter3d": [
           {
            "line": {
             "colorbar": {
              "outlinewidth": 0,
              "ticks": ""
             }
            },
            "marker": {
             "colorbar": {
              "outlinewidth": 0,
              "ticks": ""
             }
            },
            "type": "scatter3d"
           }
          ],
          "scattercarpet": [
           {
            "marker": {
             "colorbar": {
              "outlinewidth": 0,
              "ticks": ""
             }
            },
            "type": "scattercarpet"
           }
          ],
          "scattergeo": [
           {
            "marker": {
             "colorbar": {
              "outlinewidth": 0,
              "ticks": ""
             }
            },
            "type": "scattergeo"
           }
          ],
          "scattergl": [
           {
            "marker": {
             "colorbar": {
              "outlinewidth": 0,
              "ticks": ""
             }
            },
            "type": "scattergl"
           }
          ],
          "scattermapbox": [
           {
            "marker": {
             "colorbar": {
              "outlinewidth": 0,
              "ticks": ""
             }
            },
            "type": "scattermapbox"
           }
          ],
          "scatterpolar": [
           {
            "marker": {
             "colorbar": {
              "outlinewidth": 0,
              "ticks": ""
             }
            },
            "type": "scatterpolar"
           }
          ],
          "scatterpolargl": [
           {
            "marker": {
             "colorbar": {
              "outlinewidth": 0,
              "ticks": ""
             }
            },
            "type": "scatterpolargl"
           }
          ],
          "scatterternary": [
           {
            "marker": {
             "colorbar": {
              "outlinewidth": 0,
              "ticks": ""
             }
            },
            "type": "scatterternary"
           }
          ],
          "surface": [
           {
            "colorbar": {
             "outlinewidth": 0,
             "ticks": ""
            },
            "colorscale": [
             [
              0,
              "#0d0887"
             ],
             [
              0.1111111111111111,
              "#46039f"
             ],
             [
              0.2222222222222222,
              "#7201a8"
             ],
             [
              0.3333333333333333,
              "#9c179e"
             ],
             [
              0.4444444444444444,
              "#bd3786"
             ],
             [
              0.5555555555555556,
              "#d8576b"
             ],
             [
              0.6666666666666666,
              "#ed7953"
             ],
             [
              0.7777777777777778,
              "#fb9f3a"
             ],
             [
              0.8888888888888888,
              "#fdca26"
             ],
             [
              1,
              "#f0f921"
             ]
            ],
            "type": "surface"
           }
          ],
          "table": [
           {
            "cells": {
             "fill": {
              "color": "#EBF0F8"
             },
             "line": {
              "color": "white"
             }
            },
            "header": {
             "fill": {
              "color": "#C8D4E3"
             },
             "line": {
              "color": "white"
             }
            },
            "type": "table"
           }
          ]
         },
         "layout": {
          "annotationdefaults": {
           "arrowcolor": "#2a3f5f",
           "arrowhead": 0,
           "arrowwidth": 1
          },
          "autotypenumbers": "strict",
          "coloraxis": {
           "colorbar": {
            "outlinewidth": 0,
            "ticks": ""
           }
          },
          "colorscale": {
           "diverging": [
            [
             0,
             "#8e0152"
            ],
            [
             0.1,
             "#c51b7d"
            ],
            [
             0.2,
             "#de77ae"
            ],
            [
             0.3,
             "#f1b6da"
            ],
            [
             0.4,
             "#fde0ef"
            ],
            [
             0.5,
             "#f7f7f7"
            ],
            [
             0.6,
             "#e6f5d0"
            ],
            [
             0.7,
             "#b8e186"
            ],
            [
             0.8,
             "#7fbc41"
            ],
            [
             0.9,
             "#4d9221"
            ],
            [
             1,
             "#276419"
            ]
           ],
           "sequential": [
            [
             0,
             "#0d0887"
            ],
            [
             0.1111111111111111,
             "#46039f"
            ],
            [
             0.2222222222222222,
             "#7201a8"
            ],
            [
             0.3333333333333333,
             "#9c179e"
            ],
            [
             0.4444444444444444,
             "#bd3786"
            ],
            [
             0.5555555555555556,
             "#d8576b"
            ],
            [
             0.6666666666666666,
             "#ed7953"
            ],
            [
             0.7777777777777778,
             "#fb9f3a"
            ],
            [
             0.8888888888888888,
             "#fdca26"
            ],
            [
             1,
             "#f0f921"
            ]
           ],
           "sequentialminus": [
            [
             0,
             "#0d0887"
            ],
            [
             0.1111111111111111,
             "#46039f"
            ],
            [
             0.2222222222222222,
             "#7201a8"
            ],
            [
             0.3333333333333333,
             "#9c179e"
            ],
            [
             0.4444444444444444,
             "#bd3786"
            ],
            [
             0.5555555555555556,
             "#d8576b"
            ],
            [
             0.6666666666666666,
             "#ed7953"
            ],
            [
             0.7777777777777778,
             "#fb9f3a"
            ],
            [
             0.8888888888888888,
             "#fdca26"
            ],
            [
             1,
             "#f0f921"
            ]
           ]
          },
          "colorway": [
           "#636efa",
           "#EF553B",
           "#00cc96",
           "#ab63fa",
           "#FFA15A",
           "#19d3f3",
           "#FF6692",
           "#B6E880",
           "#FF97FF",
           "#FECB52"
          ],
          "font": {
           "color": "#2a3f5f"
          },
          "geo": {
           "bgcolor": "white",
           "lakecolor": "white",
           "landcolor": "#E5ECF6",
           "showlakes": true,
           "showland": true,
           "subunitcolor": "white"
          },
          "hoverlabel": {
           "align": "left"
          },
          "hovermode": "closest",
          "mapbox": {
           "style": "light"
          },
          "paper_bgcolor": "white",
          "plot_bgcolor": "#E5ECF6",
          "polar": {
           "angularaxis": {
            "gridcolor": "white",
            "linecolor": "white",
            "ticks": ""
           },
           "bgcolor": "#E5ECF6",
           "radialaxis": {
            "gridcolor": "white",
            "linecolor": "white",
            "ticks": ""
           }
          },
          "scene": {
           "xaxis": {
            "backgroundcolor": "#E5ECF6",
            "gridcolor": "white",
            "gridwidth": 2,
            "linecolor": "white",
            "showbackground": true,
            "ticks": "",
            "zerolinecolor": "white"
           },
           "yaxis": {
            "backgroundcolor": "#E5ECF6",
            "gridcolor": "white",
            "gridwidth": 2,
            "linecolor": "white",
            "showbackground": true,
            "ticks": "",
            "zerolinecolor": "white"
           },
           "zaxis": {
            "backgroundcolor": "#E5ECF6",
            "gridcolor": "white",
            "gridwidth": 2,
            "linecolor": "white",
            "showbackground": true,
            "ticks": "",
            "zerolinecolor": "white"
           }
          },
          "shapedefaults": {
           "line": {
            "color": "#2a3f5f"
           }
          },
          "ternary": {
           "aaxis": {
            "gridcolor": "white",
            "linecolor": "white",
            "ticks": ""
           },
           "baxis": {
            "gridcolor": "white",
            "linecolor": "white",
            "ticks": ""
           },
           "bgcolor": "#E5ECF6",
           "caxis": {
            "gridcolor": "white",
            "linecolor": "white",
            "ticks": ""
           }
          },
          "title": {
           "x": 0.05
          },
          "xaxis": {
           "automargin": true,
           "gridcolor": "white",
           "linecolor": "white",
           "ticks": "",
           "title": {
            "standoff": 15
           },
           "zerolinecolor": "white",
           "zerolinewidth": 2
          },
          "yaxis": {
           "automargin": true,
           "gridcolor": "white",
           "linecolor": "white",
           "ticks": "",
           "title": {
            "standoff": 15
           },
           "zerolinecolor": "white",
           "zerolinewidth": 2
          }
         }
        },
        "width": 1200,
        "xaxis": {
         "anchor": "y",
         "domain": [
          0,
          1
         ],
         "title": {
          "text": "Date"
         }
        },
        "yaxis": {
         "anchor": "x",
         "categoryarray": [
          "Suisse",
          "France"
         ],
         "categoryorder": "array",
         "domain": [
          0,
          1
         ],
         "title": {
          "text": "Pays"
         }
        }
       }
      },
      "text/html": [
       "<div>                            <div id=\"78a9a191-55a5-4f6b-b063-08672d48b8e9\" class=\"plotly-graph-div\" style=\"height:250px; width:1200px;\"></div>            <script type=\"text/javascript\">                require([\"plotly\"], function(Plotly) {                    window.PLOTLYENV=window.PLOTLYENV || {};                                    if (document.getElementById(\"78a9a191-55a5-4f6b-b063-08672d48b8e9\")) {                    Plotly.newPlot(                        \"78a9a191-55a5-4f6b-b063-08672d48b8e9\",                        [{\"customdata\":[[1],[3],[1],[2],[1],[1],[1],[1],[1]],\"hovertemplate\":\"pays=%{y}\\u003cbr\\u003edate_debut=%{x}\\u003cbr\\u003eeffectif=%{customdata[0]}\\u003cextra\\u003e\\u003c\\u002fextra\\u003e\",\"legendgroup\":\"France\",\"marker\":{\"color\":\"#1F77B4\",\"size\":[1,3,1,2,1,1,1,1,1],\"sizemode\":\"area\",\"sizeref\":0.013333333333333334,\"symbol\":\"circle\"},\"mode\":\"markers\",\"name\":\"France\",\"orientation\":\"v\",\"showlegend\":true,\"x\":[\"1973-05-10\",\"1973-05-18\",\"1973-05-24\",\"1973-05-29\",\"1973-06-12\",\"1973-06-13\",\"1973-06-15\",\"1973-08-14\",\"1973-09-29\"],\"xaxis\":\"x\",\"y\":[\"France\",\"France\",\"France\",\"France\",\"France\",\"France\",\"France\",\"France\",\"France\"],\"yaxis\":\"y\",\"type\":\"scatter\"},{\"customdata\":[[1],[1],[1],[2],[1],[2],[1],[1],[1],[1],[1],[1],[1],[1],[1],[1],[1],[1],[1]],\"hovertemplate\":\"pays=%{y}\\u003cbr\\u003edate_debut=%{x}\\u003cbr\\u003eeffectif=%{customdata[0]}\\u003cextra\\u003e\\u003c\\u002fextra\\u003e\",\"legendgroup\":\"Suisse\",\"marker\":{\"color\":\"#FF7F0E\",\"size\":[1,1,1,2,1,2,1,1,1,1,1,1,1,1,1,1,1,1,1],\"sizemode\":\"area\",\"sizeref\":0.013333333333333334,\"symbol\":\"circle\"},\"mode\":\"markers\",\"name\":\"Suisse\",\"orientation\":\"v\",\"showlegend\":true,\"x\":[\"1973-05-18\",\"1973-05-25\",\"1973-05-28\",\"1973-06-20\",\"1973-06-21\",\"1973-06-23\",\"1973-06-27\",\"1973-08-16\",\"1973-08-17\",\"1973-08-18\",\"1973-08-20\",\"1973-08-22\",\"1973-08-23\",\"1973-08-24\",\"1973-08-31\",\"1973-09-05\",\"1973-09-26\",\"1973-10-19\",\"1973-10-25\"],\"xaxis\":\"x\",\"y\":[\"Suisse\",\"Suisse\",\"Suisse\",\"Suisse\",\"Suisse\",\"Suisse\",\"Suisse\",\"Suisse\",\"Suisse\",\"Suisse\",\"Suisse\",\"Suisse\",\"Suisse\",\"Suisse\",\"Suisse\",\"Suisse\",\"Suisse\",\"Suisse\",\"Suisse\"],\"yaxis\":\"y\",\"type\":\"scatter\"}],                        {\"template\":{\"data\":{\"histogram2dcontour\":[{\"type\":\"histogram2dcontour\",\"colorbar\":{\"outlinewidth\":0,\"ticks\":\"\"},\"colorscale\":[[0.0,\"#0d0887\"],[0.1111111111111111,\"#46039f\"],[0.2222222222222222,\"#7201a8\"],[0.3333333333333333,\"#9c179e\"],[0.4444444444444444,\"#bd3786\"],[0.5555555555555556,\"#d8576b\"],[0.6666666666666666,\"#ed7953\"],[0.7777777777777778,\"#fb9f3a\"],[0.8888888888888888,\"#fdca26\"],[1.0,\"#f0f921\"]]}],\"choropleth\":[{\"type\":\"choropleth\",\"colorbar\":{\"outlinewidth\":0,\"ticks\":\"\"}}],\"histogram2d\":[{\"type\":\"histogram2d\",\"colorbar\":{\"outlinewidth\":0,\"ticks\":\"\"},\"colorscale\":[[0.0,\"#0d0887\"],[0.1111111111111111,\"#46039f\"],[0.2222222222222222,\"#7201a8\"],[0.3333333333333333,\"#9c179e\"],[0.4444444444444444,\"#bd3786\"],[0.5555555555555556,\"#d8576b\"],[0.6666666666666666,\"#ed7953\"],[0.7777777777777778,\"#fb9f3a\"],[0.8888888888888888,\"#fdca26\"],[1.0,\"#f0f921\"]]}],\"heatmap\":[{\"type\":\"heatmap\",\"colorbar\":{\"outlinewidth\":0,\"ticks\":\"\"},\"colorscale\":[[0.0,\"#0d0887\"],[0.1111111111111111,\"#46039f\"],[0.2222222222222222,\"#7201a8\"],[0.3333333333333333,\"#9c179e\"],[0.4444444444444444,\"#bd3786\"],[0.5555555555555556,\"#d8576b\"],[0.6666666666666666,\"#ed7953\"],[0.7777777777777778,\"#fb9f3a\"],[0.8888888888888888,\"#fdca26\"],[1.0,\"#f0f921\"]]}],\"heatmapgl\":[{\"type\":\"heatmapgl\",\"colorbar\":{\"outlinewidth\":0,\"ticks\":\"\"},\"colorscale\":[[0.0,\"#0d0887\"],[0.1111111111111111,\"#46039f\"],[0.2222222222222222,\"#7201a8\"],[0.3333333333333333,\"#9c179e\"],[0.4444444444444444,\"#bd3786\"],[0.5555555555555556,\"#d8576b\"],[0.6666666666666666,\"#ed7953\"],[0.7777777777777778,\"#fb9f3a\"],[0.8888888888888888,\"#fdca26\"],[1.0,\"#f0f921\"]]}],\"contourcarpet\":[{\"type\":\"contourcarpet\",\"colorbar\":{\"outlinewidth\":0,\"ticks\":\"\"}}],\"contour\":[{\"type\":\"contour\",\"colorbar\":{\"outlinewidth\":0,\"ticks\":\"\"},\"colorscale\":[[0.0,\"#0d0887\"],[0.1111111111111111,\"#46039f\"],[0.2222222222222222,\"#7201a8\"],[0.3333333333333333,\"#9c179e\"],[0.4444444444444444,\"#bd3786\"],[0.5555555555555556,\"#d8576b\"],[0.6666666666666666,\"#ed7953\"],[0.7777777777777778,\"#fb9f3a\"],[0.8888888888888888,\"#fdca26\"],[1.0,\"#f0f921\"]]}],\"surface\":[{\"type\":\"surface\",\"colorbar\":{\"outlinewidth\":0,\"ticks\":\"\"},\"colorscale\":[[0.0,\"#0d0887\"],[0.1111111111111111,\"#46039f\"],[0.2222222222222222,\"#7201a8\"],[0.3333333333333333,\"#9c179e\"],[0.4444444444444444,\"#bd3786\"],[0.5555555555555556,\"#d8576b\"],[0.6666666666666666,\"#ed7953\"],[0.7777777777777778,\"#fb9f3a\"],[0.8888888888888888,\"#fdca26\"],[1.0,\"#f0f921\"]]}],\"mesh3d\":[{\"type\":\"mesh3d\",\"colorbar\":{\"outlinewidth\":0,\"ticks\":\"\"}}],\"scatter\":[{\"fillpattern\":{\"fillmode\":\"overlay\",\"size\":10,\"solidity\":0.2},\"type\":\"scatter\"}],\"parcoords\":[{\"type\":\"parcoords\",\"line\":{\"colorbar\":{\"outlinewidth\":0,\"ticks\":\"\"}}}],\"scatterpolargl\":[{\"type\":\"scatterpolargl\",\"marker\":{\"colorbar\":{\"outlinewidth\":0,\"ticks\":\"\"}}}],\"bar\":[{\"error_x\":{\"color\":\"#2a3f5f\"},\"error_y\":{\"color\":\"#2a3f5f\"},\"marker\":{\"line\":{\"color\":\"#E5ECF6\",\"width\":0.5},\"pattern\":{\"fillmode\":\"overlay\",\"size\":10,\"solidity\":0.2}},\"type\":\"bar\"}],\"scattergeo\":[{\"type\":\"scattergeo\",\"marker\":{\"colorbar\":{\"outlinewidth\":0,\"ticks\":\"\"}}}],\"scatterpolar\":[{\"type\":\"scatterpolar\",\"marker\":{\"colorbar\":{\"outlinewidth\":0,\"ticks\":\"\"}}}],\"histogram\":[{\"marker\":{\"pattern\":{\"fillmode\":\"overlay\",\"size\":10,\"solidity\":0.2}},\"type\":\"histogram\"}],\"scattergl\":[{\"type\":\"scattergl\",\"marker\":{\"colorbar\":{\"outlinewidth\":0,\"ticks\":\"\"}}}],\"scatter3d\":[{\"type\":\"scatter3d\",\"line\":{\"colorbar\":{\"outlinewidth\":0,\"ticks\":\"\"}},\"marker\":{\"colorbar\":{\"outlinewidth\":0,\"ticks\":\"\"}}}],\"scattermapbox\":[{\"type\":\"scattermapbox\",\"marker\":{\"colorbar\":{\"outlinewidth\":0,\"ticks\":\"\"}}}],\"scatterternary\":[{\"type\":\"scatterternary\",\"marker\":{\"colorbar\":{\"outlinewidth\":0,\"ticks\":\"\"}}}],\"scattercarpet\":[{\"type\":\"scattercarpet\",\"marker\":{\"colorbar\":{\"outlinewidth\":0,\"ticks\":\"\"}}}],\"carpet\":[{\"aaxis\":{\"endlinecolor\":\"#2a3f5f\",\"gridcolor\":\"white\",\"linecolor\":\"white\",\"minorgridcolor\":\"white\",\"startlinecolor\":\"#2a3f5f\"},\"baxis\":{\"endlinecolor\":\"#2a3f5f\",\"gridcolor\":\"white\",\"linecolor\":\"white\",\"minorgridcolor\":\"white\",\"startlinecolor\":\"#2a3f5f\"},\"type\":\"carpet\"}],\"table\":[{\"cells\":{\"fill\":{\"color\":\"#EBF0F8\"},\"line\":{\"color\":\"white\"}},\"header\":{\"fill\":{\"color\":\"#C8D4E3\"},\"line\":{\"color\":\"white\"}},\"type\":\"table\"}],\"barpolar\":[{\"marker\":{\"line\":{\"color\":\"#E5ECF6\",\"width\":0.5},\"pattern\":{\"fillmode\":\"overlay\",\"size\":10,\"solidity\":0.2}},\"type\":\"barpolar\"}],\"pie\":[{\"automargin\":true,\"type\":\"pie\"}]},\"layout\":{\"autotypenumbers\":\"strict\",\"colorway\":[\"#636efa\",\"#EF553B\",\"#00cc96\",\"#ab63fa\",\"#FFA15A\",\"#19d3f3\",\"#FF6692\",\"#B6E880\",\"#FF97FF\",\"#FECB52\"],\"font\":{\"color\":\"#2a3f5f\"},\"hovermode\":\"closest\",\"hoverlabel\":{\"align\":\"left\"},\"paper_bgcolor\":\"white\",\"plot_bgcolor\":\"#E5ECF6\",\"polar\":{\"bgcolor\":\"#E5ECF6\",\"angularaxis\":{\"gridcolor\":\"white\",\"linecolor\":\"white\",\"ticks\":\"\"},\"radialaxis\":{\"gridcolor\":\"white\",\"linecolor\":\"white\",\"ticks\":\"\"}},\"ternary\":{\"bgcolor\":\"#E5ECF6\",\"aaxis\":{\"gridcolor\":\"white\",\"linecolor\":\"white\",\"ticks\":\"\"},\"baxis\":{\"gridcolor\":\"white\",\"linecolor\":\"white\",\"ticks\":\"\"},\"caxis\":{\"gridcolor\":\"white\",\"linecolor\":\"white\",\"ticks\":\"\"}},\"coloraxis\":{\"colorbar\":{\"outlinewidth\":0,\"ticks\":\"\"}},\"colorscale\":{\"sequential\":[[0.0,\"#0d0887\"],[0.1111111111111111,\"#46039f\"],[0.2222222222222222,\"#7201a8\"],[0.3333333333333333,\"#9c179e\"],[0.4444444444444444,\"#bd3786\"],[0.5555555555555556,\"#d8576b\"],[0.6666666666666666,\"#ed7953\"],[0.7777777777777778,\"#fb9f3a\"],[0.8888888888888888,\"#fdca26\"],[1.0,\"#f0f921\"]],\"sequentialminus\":[[0.0,\"#0d0887\"],[0.1111111111111111,\"#46039f\"],[0.2222222222222222,\"#7201a8\"],[0.3333333333333333,\"#9c179e\"],[0.4444444444444444,\"#bd3786\"],[0.5555555555555556,\"#d8576b\"],[0.6666666666666666,\"#ed7953\"],[0.7777777777777778,\"#fb9f3a\"],[0.8888888888888888,\"#fdca26\"],[1.0,\"#f0f921\"]],\"diverging\":[[0,\"#8e0152\"],[0.1,\"#c51b7d\"],[0.2,\"#de77ae\"],[0.3,\"#f1b6da\"],[0.4,\"#fde0ef\"],[0.5,\"#f7f7f7\"],[0.6,\"#e6f5d0\"],[0.7,\"#b8e186\"],[0.8,\"#7fbc41\"],[0.9,\"#4d9221\"],[1,\"#276419\"]]},\"xaxis\":{\"gridcolor\":\"white\",\"linecolor\":\"white\",\"ticks\":\"\",\"title\":{\"standoff\":15},\"zerolinecolor\":\"white\",\"automargin\":true,\"zerolinewidth\":2},\"yaxis\":{\"gridcolor\":\"white\",\"linecolor\":\"white\",\"ticks\":\"\",\"title\":{\"standoff\":15},\"zerolinecolor\":\"white\",\"automargin\":true,\"zerolinewidth\":2},\"scene\":{\"xaxis\":{\"backgroundcolor\":\"#E5ECF6\",\"gridcolor\":\"white\",\"linecolor\":\"white\",\"showbackground\":true,\"ticks\":\"\",\"zerolinecolor\":\"white\",\"gridwidth\":2},\"yaxis\":{\"backgroundcolor\":\"#E5ECF6\",\"gridcolor\":\"white\",\"linecolor\":\"white\",\"showbackground\":true,\"ticks\":\"\",\"zerolinecolor\":\"white\",\"gridwidth\":2},\"zaxis\":{\"backgroundcolor\":\"#E5ECF6\",\"gridcolor\":\"white\",\"linecolor\":\"white\",\"showbackground\":true,\"ticks\":\"\",\"zerolinecolor\":\"white\",\"gridwidth\":2}},\"shapedefaults\":{\"line\":{\"color\":\"#2a3f5f\"}},\"annotationdefaults\":{\"arrowcolor\":\"#2a3f5f\",\"arrowhead\":0,\"arrowwidth\":1},\"geo\":{\"bgcolor\":\"white\",\"landcolor\":\"#E5ECF6\",\"subunitcolor\":\"white\",\"showland\":true,\"showlakes\":true,\"lakecolor\":\"white\"},\"title\":{\"x\":0.05},\"mapbox\":{\"style\":\"light\"}}},\"xaxis\":{\"anchor\":\"y\",\"domain\":[0.0,1.0],\"title\":{\"text\":\"Date\"}},\"yaxis\":{\"anchor\":\"x\",\"domain\":[0.0,1.0],\"title\":{\"text\":\"Pays\"},\"categoryorder\":\"array\",\"categoryarray\":[\"Suisse\",\"France\"]},\"legend\":{\"title\":{\"text\":\"pays\"},\"tracegroupgap\":0,\"itemsizing\":\"constant\"},\"margin\":{\"t\":60},\"autosize\":false,\"width\":1200,\"height\":250},                        {\"responsive\": true}                    ).then(function(){\n",
       "                            \n",
       "var gd = document.getElementById('78a9a191-55a5-4f6b-b063-08672d48b8e9');\n",
       "var x = new MutationObserver(function (mutations, observer) {{\n",
       "        var display = window.getComputedStyle(gd).display;\n",
       "        if (!display || display === 'none') {{\n",
       "            console.log([gd, 'removed!']);\n",
       "            Plotly.purge(gd);\n",
       "            observer.disconnect();\n",
       "        }}\n",
       "}});\n",
       "\n",
       "// Listen for the removal of the full notebook cells\n",
       "var notebookContainer = gd.closest('#notebook-container');\n",
       "if (notebookContainer) {{\n",
       "    x.observe(notebookContainer, {childList: true});\n",
       "}}\n",
       "\n",
       "// Listen for the clearing of the current output cell\n",
       "var outputEl = gd.closest('.output');\n",
       "if (outputEl) {{\n",
       "    x.observe(outputEl, {childList: true});\n",
       "}}\n",
       "\n",
       "                        })                };                });            </script>        </div>"
      ]
     },
     "metadata": {},
     "output_type": "display_data"
    }
   ],
   "source": [
    "### Use a different plotting library: Plotly Express\n",
    "\n",
    "\n",
    "#size = [s*0.5 for s in g_q1.effectif]\n",
    "\n",
    "fig = px.scatter(g_q1, x='date_debut', y='pays', size='effectif', size_max=15, color='pays', hover_data=['date_debut', 'effectif'],\n",
    "             color_discrete_sequence=px.colors.qualitative.D3)\n",
    "\n",
    "#fig = px.bar(x=q1_df.index, y=q1_df.values, title=\"Manifestations\", barmode='relative')\n",
    "#fig.update_yaxes(dtick=1)\n",
    "\n",
    "fig.update_layout(\n",
    "    autosize=False,\n",
    "    width=1200,\n",
    "    height=250,\n",
    "    xaxis_title=\"Date\", yaxis_title=\"Pays\"\n",
    ")\n",
    "fig.write_image(\"pictures/evenements_par_pays_et_date2.jpg\")\n",
    "fig.show()"
   ]
  },
  {
   "cell_type": "markdown",
   "id": "fb2dcff3",
   "metadata": {},
   "source": [
    "### Ajouter au pays un classement des événements"
   ]
  },
  {
   "cell_type": "code",
   "execution_count": 29,
   "id": "c119bf1f",
   "metadata": {},
   "outputs": [],
   "source": [
    "### This ist the query that produces the data to be analysed.\n",
    "# It has to be adapted to each use case\n",
    "q2 = \"\"\"\n",
    "SELECT e.pk_evenement, e.nom, e.\"type\" type_even, \n",
    "CASE\n",
    "\twhen e.\"type\" like 'manif%'\t\n",
    "\tthen 'manif'\n",
    "\twhen e.\"type\" = 'meeting'\n",
    "\tthen 'meeting'\n",
    "\telse 'autre'\n",
    "END as class,\n",
    "e.date as date_debut, e.date as date_fin, l.pays \n",
    "FROM evenement e \n",
    "JOIN lieu l \n",
    "ON e.fk_lieu_debut = l.pk_lieu;  \n",
    "\"\"\""
   ]
  },
  {
   "cell_type": "code",
   "execution_count": 30,
   "id": "5505dee5",
   "metadata": {},
   "outputs": [
    {
     "name": "stdout",
     "output_type": "stream",
     "text": [
      "   pk_evenement                                                nom  \\\n",
      "0             1             manifestation des ouvrier-ère-s de Lip   \n",
      "1             2     meeting en solidarité aux ouvrier-ère-s de Lip   \n",
      "2             3             manifestation des ouvrier-ère-s de Lip   \n",
      "3             4             manifestation des ouvrier-ère-s de Lip   \n",
      "4             5  regroupement devant le consulat suisse des ouv...   \n",
      "\n",
      "                type_even    class  date_debut    date_fin    pays  \n",
      "0    manifestation de rue    manif  1973-05-18  1973-05-18  Suisse  \n",
      "1                 meeting  meeting  1973-05-25  1973-05-25  Suisse  \n",
      "2    manifestation de rue    manif  1973-05-18  1973-05-18  France  \n",
      "3    manifestation de rue    manif  1973-05-18  1973-05-18  France  \n",
      "4  manifestation statique    manif  1973-05-18  1973-05-18  France  \n"
     ]
    }
   ],
   "source": [
    "###Connection to the SQLite database of your repository\n",
    "try:\n",
    "    cn = sql.connect(db_file_address)    \n",
    "except Exception as e:\n",
    "    # if the connection does not work\n",
    "    # an error message is raised\n",
    "    print(e)    \n",
    "\n",
    "### This instruction executes the query \n",
    "# then closes the connection to the database \n",
    "q2_df= pd.read_sql_query(q2, cn)\n",
    "cn.close()\n",
    "# Inspect the first lines\n",
    "print(q2_df.head())"
   ]
  },
  {
   "cell_type": "code",
   "execution_count": 31,
   "id": "b972cf67",
   "metadata": {},
   "outputs": [
    {
     "data": {
      "text/html": [
       "<div>\n",
       "<style scoped>\n",
       "    .dataframe tbody tr th:only-of-type {\n",
       "        vertical-align: middle;\n",
       "    }\n",
       "\n",
       "    .dataframe tbody tr th {\n",
       "        vertical-align: top;\n",
       "    }\n",
       "\n",
       "    .dataframe thead th {\n",
       "        text-align: right;\n",
       "    }\n",
       "</style>\n",
       "<table border=\"1\" class=\"dataframe\">\n",
       "  <thead>\n",
       "    <tr style=\"text-align: right;\">\n",
       "      <th></th>\n",
       "      <th>date_debut</th>\n",
       "      <th>pays</th>\n",
       "      <th>class</th>\n",
       "      <th>effectif</th>\n",
       "      <th>p_c</th>\n",
       "    </tr>\n",
       "  </thead>\n",
       "  <tbody>\n",
       "    <tr>\n",
       "      <th>0</th>\n",
       "      <td>1973-05-10</td>\n",
       "      <td>France</td>\n",
       "      <td>manif</td>\n",
       "      <td>1</td>\n",
       "      <td>France_manif</td>\n",
       "    </tr>\n",
       "    <tr>\n",
       "      <th>1</th>\n",
       "      <td>1973-05-18</td>\n",
       "      <td>France</td>\n",
       "      <td>manif</td>\n",
       "      <td>3</td>\n",
       "      <td>France_manif</td>\n",
       "    </tr>\n",
       "    <tr>\n",
       "      <th>2</th>\n",
       "      <td>1973-05-18</td>\n",
       "      <td>Suisse</td>\n",
       "      <td>manif</td>\n",
       "      <td>1</td>\n",
       "      <td>Suisse_manif</td>\n",
       "    </tr>\n",
       "    <tr>\n",
       "      <th>3</th>\n",
       "      <td>1973-05-24</td>\n",
       "      <td>France</td>\n",
       "      <td>manif</td>\n",
       "      <td>1</td>\n",
       "      <td>France_manif</td>\n",
       "    </tr>\n",
       "    <tr>\n",
       "      <th>4</th>\n",
       "      <td>1973-05-25</td>\n",
       "      <td>Suisse</td>\n",
       "      <td>meeting</td>\n",
       "      <td>1</td>\n",
       "      <td>Suisse_meeting</td>\n",
       "    </tr>\n",
       "  </tbody>\n",
       "</table>\n",
       "</div>"
      ],
      "text/plain": [
       "   date_debut    pays    class  effectif             p_c\n",
       "0  1973-05-10  France    manif         1    France_manif\n",
       "1  1973-05-18  France    manif         3    France_manif\n",
       "2  1973-05-18  Suisse    manif         1    Suisse_manif\n",
       "3  1973-05-24  France    manif         1    France_manif\n",
       "4  1973-05-25  Suisse  meeting         1  Suisse_meeting"
      ]
     },
     "execution_count": 31,
     "metadata": {},
     "output_type": "execute_result"
    }
   ],
   "source": [
    "### Regrouper par date et pays, compter\n",
    "g_q2 = q2_df[['date_debut', 'pays', 'class']].groupby(by=['date_debut', 'pays', 'class']).size().to_frame('effectif').reset_index()\n",
    "\n",
    "g_q2['p_c'] = g_q2.apply( lambda x : x['pays'] +'_'+ x['class'], axis=1)\n",
    "\n",
    "g_q2.head()\n"
   ]
  },
  {
   "cell_type": "code",
   "execution_count": 32,
   "id": "7a4ea12f",
   "metadata": {},
   "outputs": [],
   "source": [
    "### Use a different plotting library: Plotly Express\n",
    "# Observe the default behaviour of the library\n",
    "\n",
    "\n",
    "fig = px.scatter(g_q2.sort_values(by='p_c'), x='date_debut', y=['p_c'], size='effectif', size_max=15, color='class', hover_data=['date_debut', 'effectif'],\n",
    "             color_discrete_sequence=px.colors.qualitative.D3)\n",
    "\n",
    "\n",
    "fig.update_layout(\n",
    "    autosize=False,\n",
    "    width=1500,\n",
    "    height=300,\n",
    "    xaxis_title=\"Date\", yaxis_title=\"Pays / Type\",\n",
    "    font=dict(\n",
    "        size=14,  # Set the font size here\n",
    "        color=\"Black\"\n",
    "    )\n",
    ")\n",
    "\n",
    "xtk = g_q2.date_debut.to_list()\n",
    "\n",
    "fig.update_xaxes(tickangle=-75,\n",
    "                 tickmode = 'array',\n",
    "                 tickvals = xtk,\n",
    "                 ticktext= xtk,\n",
    "    tickfont=dict(\n",
    "                       size=9,  # Set the font size here\n",
    "        color=\"DarkBlue\"\n",
    "    ))\n",
    "\n",
    "fig.update_yaxes(categoryorder='array', categoryarray= ['France_manif', 'France_meeting', 'France_autre','Suisse_manif','Suisse_meeting', 'Suisse_autre'])\n",
    "fig.write_image(\"pictures/evenements_par_pays_type_et_date.jpg\")"
   ]
  },
  {
   "cell_type": "code",
   "execution_count": null,
   "id": "eb99c338",
   "metadata": {},
   "outputs": [],
   "source": []
  },
  {
   "cell_type": "code",
   "execution_count": null,
   "id": "b921d876",
   "metadata": {},
   "outputs": [],
   "source": []
  },
  {
   "cell_type": "code",
   "execution_count": null,
   "id": "6b164aaa",
   "metadata": {},
   "outputs": [],
   "source": []
  },
  {
   "cell_type": "markdown",
   "id": "7fa6d3e5",
   "metadata": {},
   "source": [
    "## A reprendre dès qu'il y a les classements"
   ]
  },
  {
   "cell_type": "code",
   "execution_count": 14,
   "id": "b92bdb6a",
   "metadata": {},
   "outputs": [
    {
     "name": "stdout",
     "output_type": "stream",
     "text": [
      "   pk_evenement                                  nom_evenement  \\\n",
      "0             1         manifestation des ouvrier.ère.s de Lip   \n",
      "1             1         manifestation des ouvrier.ère.s de Lip   \n",
      "2             1         manifestation des ouvrier.ère.s de Lip   \n",
      "3             2  meeting en solidarité aux travailleurs de Lip   \n",
      "4             2  meeting en solidarité aux travailleurs de Lip   \n",
      "\n",
      "                   type        date    pays  pk_moyen_action  \\\n",
      "0  manifestation de rue  1973-05-18  Suisse                1   \n",
      "1  manifestation de rue  1973-05-18  Suisse                2   \n",
      "2  manifestation de rue  1973-05-18  Suisse                3   \n",
      "3               meeting  1973-05-25  Suisse                4   \n",
      "4               meeting  1973-05-25  Suisse                5   \n",
      "\n",
      "             nom_moyen_action  \n",
      "0                   banderole  \n",
      "1                     tracter  \n",
      "2  port de l'habit de travail  \n",
      "3                    discours  \n",
      "4          collage d'affiches  \n"
     ]
    }
   ],
   "source": [
    "\n",
    "# Charger les données CSV\n",
    "df = pd.read_csv('../analyse_distribution_moyen_action.csv')\n",
    "\n",
    "# Affichage des 5 premières lignes du fichier CSV pour vérifier les données\n",
    "print(df.head())"
   ]
  },
  {
   "cell_type": "code",
   "execution_count": 13,
   "id": "2a4fb257-d3c2-47aa-8959-c5ee8a482f16",
   "metadata": {},
   "outputs": [
    {
     "ename": "NameError",
     "evalue": "name 'df' is not defined",
     "output_type": "error",
     "traceback": [
      "\u001b[0;31m---------------------------------------------------------------------------\u001b[0m",
      "\u001b[0;31mNameError\u001b[0m                                 Traceback (most recent call last)",
      "Cell \u001b[0;32mIn[13], line 2\u001b[0m\n\u001b[1;32m      1\u001b[0m \u001b[38;5;66;03m# Convertir la colonne 'date' en format datetime (au cas où elle ne l'est pas déjà)\u001b[39;00m\n\u001b[0;32m----> 2\u001b[0m df[\u001b[38;5;124m'\u001b[39m\u001b[38;5;124mdate\u001b[39m\u001b[38;5;124m'\u001b[39m] \u001b[38;5;241m=\u001b[39m pd\u001b[38;5;241m.\u001b[39mto_datetime(\u001b[43mdf\u001b[49m[\u001b[38;5;124m'\u001b[39m\u001b[38;5;124mdate\u001b[39m\u001b[38;5;124m'\u001b[39m], errors\u001b[38;5;241m=\u001b[39m\u001b[38;5;124m'\u001b[39m\u001b[38;5;124mcoerce\u001b[39m\u001b[38;5;124m'\u001b[39m)\n\u001b[1;32m      3\u001b[0m \u001b[38;5;28mprint\u001b[39m(df\u001b[38;5;241m.\u001b[39minfo())\n",
      "\u001b[0;31mNameError\u001b[0m: name 'df' is not defined"
     ]
    }
   ],
   "source": [
    "# Convertir la colonne 'date' en format datetime (au cas où elle ne l'est pas déjà)\n",
    "df['date'] = pd.to_datetime(df['date'], errors='coerce')\n",
    "print(df.info())"
   ]
  },
  {
   "cell_type": "code",
   "execution_count": 4,
   "id": "825e49c0-9134-4b68-83f3-aef53b3ec6ea",
   "metadata": {},
   "outputs": [
    {
     "data": {
      "image/png": "[encoded data removed]",
      "text/plain": [
       "<Figure size 1400x600 with 1 Axes>"
      ]
     },
     "metadata": {},
     "output_type": "display_data"
    }
   ],
   "source": [
    "# Filtrer les événements entre mai et juin 1973\n",
    "df_filtered = df[(df['date'] >= pd.to_datetime('1973-05-01')) & (df['date'] <= pd.to_datetime('1973-11-30'))]\n",
    "\n",
    "# Trier les événements par date (assurer l'ordre chronologique)\n",
    "df_sorted = df_filtered.sort_values(by='date')\n",
    "\n",
    "# Créer une nouvelle colonne avec seulement le mois et le jour (format MM-DD)\n",
    "df_sorted['mois_jour'] = df_sorted['date'].dt.strftime('%m-%d')  # Format \"MM-DD\" (ex: 05-18)\n",
    "\n",
    "# Créer un tableau pivot avec 'mois_jour' pour l'affichage et les moyens d'action\n",
    "df_pivot = df_sorted.pivot_table(index=[\"mois_jour\", \"pk_evenement\", \"nom_evenement\"], \n",
    "                                 columns=\"nom_moyen_action\", \n",
    "                                 aggfunc=\"size\", \n",
    "                                 fill_value=0)\n",
    "\n",
    "# Renommer les colonnes ici pour que le nom des moyens d'action soit plus clair\n",
    "df_pivot.columns.name = \"Moyens d'action\"\n",
    "\n",
    "# Assurer un ordre chronologique en utilisant 'mois_jour' pour l'affichage des dates\n",
    "df_pivot = df_pivot.sort_index(level=\"mois_jour\")\n",
    "\n",
    "# Supprimer 'pk_evenement' de l'affichage final (on garde la structure pour le calcul)\n",
    "df_pivot = df_pivot.reset_index(level=\"pk_evenement\", drop=True)\n",
    "\n",
    "# Créer un graphique à barres empilées\n",
    "fig, ax = plt.subplots(figsize=(14, 6))  # Augmenter la largeur du graphique\n",
    "\n",
    "# Création du graphique avec un colormap 'tab10' et largeur des barres réduite\n",
    "df_pivot.plot(kind=\"bar\", stacked=True, ax=ax, width=0.6, colormap=\"tab10\")  # 'tab10' pour des couleurs variées\n",
    "\n",
    "# Ajouter les labels et le titre\n",
    "plt.title(\"Moyens d'action utilisés lors du cycle de manifestation en Suisse (mai-octobre 1973)\")\n",
    "plt.xlabel(\"Nom des évènements\")\n",
    "plt.ylabel(\"Nombre de moyens d'action\")\n",
    "\n",
    "# Rotation des labels de l'axe X pour améliorer la lisibilité\n",
    "plt.xticks(rotation=45, ha='right')\n",
    "\n",
    "# Ajuster l'espacement des marges pour donner de l'espace à la légende\n",
    "plt.subplots_adjust(bottom=0.25, top=0.85, left=0.1, right=0.75)\n",
    "\n",
    "# Afficher la date (mois-jour) au-dessus des barres (en utilisant 'mois_jour')\n",
    "for i, (mois_jour, event) in enumerate(df_pivot.index):\n",
    "    ax.text(i, df_pivot.iloc[i].sum() + 0.5, str(mois_jour), ha='center', va='bottom', fontsize=10)\n",
    "\n",
    "# Afficher les noms des événements en dessous des barres (sur l'axe X)\n",
    "plt.xticks(ticks=range(len(df_pivot.index)), labels=[f\"{event}\" for _, event in df_pivot.index], rotation=45, ha='right')\n",
    "\n",
    "# Forcer l'axe Y à avoir un maximum de 5, même si les données sont plus petites\n",
    "ax.set_ylim(0, 10)\n",
    "\n",
    "# Placer la légende en haut à droite\n",
    "plt.legend(title=\"Moyens d'action\", bbox_to_anchor=(1.0, 1), loc='upper left', fontsize=10)\n",
    "\n",
    "# Sauvegarder l'image en format PNG\n",
    "plt.savefig('graphique_moyens_actions.png', format='png', bbox_inches='tight', dpi=300)\n",
    "\n",
    "# Afficher le graphique\n",
    "plt.tight_layout()\n",
    "plt.show()"
   ]
  },
  {
   "cell_type": "code",
   "execution_count": 5,
   "id": "66785863-9572-4ec2-9544-5dc9c834f072",
   "metadata": {},
   "outputs": [
    {
     "data": {
      "image/png": "[encoded data removed]",
      "text/plain": [
       "<Figure size 1400x600 with 1 Axes>"
      ]
     },
     "metadata": {},
     "output_type": "display_data"
    }
   ],
   "source": [
    "\n",
    "\n",
    "# Filtrer les événements entre mai et juin 1973\n",
    "df_filtered = df[(df['date'] >= pd.to_datetime('1973-07-01')) & (df['date'] <= pd.to_datetime('1973-11-30'))]\n",
    "\n",
    "# Trier les événements par date (assurer l'ordre chronologique)\n",
    "df_sorted = df_filtered.sort_values(by='date')\n",
    "\n",
    "# Créer une nouvelle colonne avec seulement le mois et le jour (format MM-DD)\n",
    "df_sorted['mois_jour'] = df_sorted['date'].dt.strftime('%m-%d')  # Format \"MM-DD\" (ex: 05-18)\n",
    "\n",
    "# Créer un tableau pivot avec 'mois_jour' pour l'affichage et les moyens d'action\n",
    "df_pivot = df_sorted.pivot_table(index=[\"mois_jour\", \"pk_evenement\", \"nom_evenement\"], \n",
    "                                 columns=\"nom_moyen_action\", \n",
    "                                 aggfunc=\"size\", \n",
    "                                 fill_value=0)\n",
    "\n",
    "# Renommer les colonnes ici pour que le nom des moyens d'action soit plus clair\n",
    "df_pivot.columns.name = \"Moyens d'action\"\n",
    "\n",
    "# Assurer un ordre chronologique en utilisant 'mois_jour' pour l'affichage des dates\n",
    "df_pivot = df_pivot.sort_index(level=\"mois_jour\")\n",
    "\n",
    "# Supprimer 'pk_evenement' de l'affichage final (on garde la structure pour le calcul)\n",
    "df_pivot = df_pivot.reset_index(level=\"pk_evenement\", drop=True)\n",
    "\n",
    "# Créer un graphique à barres empilées\n",
    "fig, ax = plt.subplots(figsize=(14, 6))  # Augmenter la largeur du graphique\n",
    "\n",
    "# Création du graphique avec un colormap 'tab10' et largeur des barres réduite\n",
    "df_pivot.plot(kind=\"bar\", stacked=True, ax=ax, width=0.6, colormap=\"tab10\")  # 'tab10' pour des couleurs variées\n",
    "\n",
    "# Ajouter les labels et le titre\n",
    "plt.title(\"Moyens d'action utilisés lors des évènements en Suisse (août-octobre 1973)\")\n",
    "plt.xlabel(\"Nom des évènements\")\n",
    "plt.ylabel(\"Nombre de moyens d'action\")\n",
    "\n",
    "# Rotation des labels de l'axe X pour améliorer la lisibilité\n",
    "plt.xticks(rotation=45, ha='right')\n",
    "\n",
    "# Ajuster l'espacement des marges pour donner de l'espace à la légende\n",
    "plt.subplots_adjust(bottom=0.25, top=0.85, left=0.1, right=0.75)\n",
    "\n",
    "# Afficher la date (mois-jour) au-dessus des barres (en utilisant 'mois_jour')\n",
    "for i, (mois_jour, event) in enumerate(df_pivot.index):\n",
    "    ax.text(i, df_pivot.iloc[i].sum() + 0.5, str(mois_jour), ha='center', va='bottom', fontsize=10)\n",
    "\n",
    "# Afficher les noms des événements en dessous des barres (sur l'axe X)\n",
    "plt.xticks(ticks=range(len(df_pivot.index)), labels=[f\"{event}\" for _, event in df_pivot.index], rotation=45, ha='right')\n",
    "\n",
    "# Forcer l'axe Y à avoir un maximum de 5, même si les données sont plus petites\n",
    "ax.set_ylim(0, 10)\n",
    "\n",
    "# Placer la légende en haut à droite\n",
    "plt.legend(title=\"Moyens d'action\", bbox_to_anchor=(1.0, 1), loc='upper left', fontsize=10)\n",
    "\n",
    "# Sauvegarder l'image en format PNG\n",
    "plt.savefig('moyens_actions_aout_oct.png', format='png', bbox_inches='tight', dpi=300)\n",
    "\n",
    "# Afficher le graphique\n",
    "plt.tight_layout()\n",
    "plt.show()\n"
   ]
  },
  {
   "cell_type": "code",
   "execution_count": 6,
   "id": "a9654886-3ee6-445a-90de-e2fe16b5cfa7",
   "metadata": {},
   "outputs": [
    {
     "data": {
      "image/png": "[encoded data removed]",
      "text/plain": [
       "<Figure size 1400x600 with 1 Axes>"
      ]
     },
     "metadata": {},
     "output_type": "display_data"
    }
   ],
   "source": [
    "\n",
    "\n",
    "\n",
    "# Filtrer les événements entre mai et juin 1973\n",
    "df_filtered = df[(df['date'] >= pd.to_datetime('1973-05-01')) & (df['date'] <= pd.to_datetime('1973-06-30'))]\n",
    "\n",
    "# Trier les événements par date (important pour garder l'ordre chronologique)\n",
    "df_sorted = df_filtered.sort_values(by='date')\n",
    "\n",
    "# Créer une nouvelle colonne avec seulement le jour et le mois pour l'affichage\n",
    "df_sorted['jour_mois'] = df_sorted['date'].dt.strftime('%m-%d') \n",
    "\n",
    "# Créer un tableau pivot avec 'pk_evenement' pour une identification unique, 'jour_mois', et 'nom_evenement'\n",
    "df_pivot = df_sorted.pivot_table(index=[\"jour_mois\", \"pk_evenement\", \"nom_evenement\"], \n",
    "                                 columns=\"nom_moyen_action\", \n",
    "                                 aggfunc=\"size\", \n",
    "                                 fill_value=0)\n",
    "\n",
    "# Renommer les colonnes pour que le nom des moyens d'action soit plus clair\n",
    "df_pivot.columns.name = \"Moyens d'action\"\n",
    "\n",
    "# Assurer un ordre chronologique en utilisant 'date' sur l'axe des X (tri effectué sur 'date', mais on affiche 'jour_mois')\n",
    "df_pivot = df_pivot.sort_index(level=\"jour_mois\")\n",
    "\n",
    "# Supprimer 'pk_evenement' de l'affichage final (on garde la structure pour le calcul)\n",
    "df_pivot = df_pivot.reset_index(level=\"pk_evenement\", drop=True)\n",
    "\n",
    "# Créer un graphique à barres empilées\n",
    "fig, ax = plt.subplots(figsize=(14, 6))  # Augmenter la largeur du graphique\n",
    "\n",
    "# Création du graphique avec un colormap 'tab10' et largeur des barres réduite\n",
    "df_pivot.plot(kind=\"bar\", stacked=True, ax=ax, width=0.6, colormap=\"tab10\")  # 'tab10' pour des couleurs variées\n",
    "\n",
    "# Ajouter les labels et le titre\n",
    "plt.title(\"Moyens d'action utilisés lors des évènements en Suisse (mai-juin 1973)\")\n",
    "plt.xlabel(\"Nom des évènements\")\n",
    "plt.ylabel(\"Nombre de moyens d'action\")\n",
    "\n",
    "# Rotation des labels de l'axe X pour améliorer la lisibilité\n",
    "plt.xticks(rotation=45, ha='right')\n",
    "\n",
    "# Ajuster l'espacement des marges pour donner de l'espace à la légende\n",
    "plt.subplots_adjust(bottom=0.25, top=0.85, left=0.1, right=0.75)\n",
    "\n",
    "# Afficher la date (jour-mois) au-dessus des barres (en utilisant 'jour_mois')\n",
    "for i, (jour_mois, event) in enumerate(df_pivot.index):\n",
    "    ax.text(i, df_pivot.iloc[i].sum() + 0.5, str(jour_mois), ha='center', va='bottom', fontsize=10)\n",
    "\n",
    "# Afficher les noms des événements en dessous des barres (sur l'axe X)\n",
    "plt.xticks(ticks=range(len(df_pivot.index)), labels=[f\"{event}\" for _, event in df_pivot.index], rotation=45, ha='right')\n",
    "\n",
    "# Forcer l'axe Y à avoir un maximum de 5, même si les données sont plus petites\n",
    "ax.set_ylim(0, 5)\n",
    "\n",
    "# Placer la légende en haut à droite\n",
    "plt.legend(title=\"Moyens d'action\", bbox_to_anchor=(1.0, 1), loc='upper left', fontsize=10)\n",
    "# Sauvegarder l'image en format PNG\n",
    "plt.savefig('moyens_actions_mai_juin.png', format='png', bbox_inches='tight', dpi=300)\n",
    "\n",
    "# Afficher le graphique\n",
    "plt.tight_layout()\n",
    "plt.show()\n",
    "\n"
   ]
  },
  {
   "cell_type": "code",
   "execution_count": null,
   "id": "2d4e356f-8e1e-4746-acea-e381eae98f1e",
   "metadata": {},
   "outputs": [],
   "source": []
  }
 ],
 "metadata": {
  "kernelspec": {
   "display_name": "py311_data_analysis",
   "language": "python",
   "name": "py311_data_analysis"
  },
  "language_info": {
   "codemirror_mode": {
    "name": "ipython",
    "version": 3
   },
   "file_extension": ".py",
   "mimetype": "text/x-python",
   "name": "python",
   "nbconvert_exporter": "python",
   "pygments_lexer": "ipython3",
   "version": "3.11.8"
  }
 },
 "nbformat": 4,
 "nbformat_minor": 5
}
